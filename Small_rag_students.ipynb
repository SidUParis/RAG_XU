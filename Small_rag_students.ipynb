{
 "nbformat": 4,
 "nbformat_minor": 0,
 "metadata": {
  "colab": {
   "provenance": [],
   "gpuType": "T4"
  },
  "kernelspec": {
   "name": "python3",
   "display_name": "Python 3 (ipykernel)",
   "language": "python"
  },
  "language_info": {
   "name": "python"
  },
  "accelerator": "GPU",
  "widgets": {
   "application/vnd.jupyter.widget-state+json": {
    "88bef13b59e24112be1bb9d5cd5ba7ab": {
     "model_module": "@jupyter-widgets/controls",
     "model_name": "HBoxModel",
     "model_module_version": "1.5.0",
     "state": {
      "_dom_classes": [],
      "_model_module": "@jupyter-widgets/controls",
      "_model_module_version": "1.5.0",
      "_model_name": "HBoxModel",
      "_view_count": null,
      "_view_module": "@jupyter-widgets/controls",
      "_view_module_version": "1.5.0",
      "_view_name": "HBoxView",
      "box_style": "",
      "children": [
       "IPY_MODEL_065a007246ff4729b2cbecf31131483a",
       "IPY_MODEL_633b95cb52e446c89198411d82bbf8a8",
       "IPY_MODEL_37831f687770434eb4faadd199bd9b44"
      ],
      "layout": "IPY_MODEL_cc67b3eef19b4f71bf93ebf2a7f6df17"
     }
    },
    "065a007246ff4729b2cbecf31131483a": {
     "model_module": "@jupyter-widgets/controls",
     "model_name": "HTMLModel",
     "model_module_version": "1.5.0",
     "state": {
      "_dom_classes": [],
      "_model_module": "@jupyter-widgets/controls",
      "_model_module_version": "1.5.0",
      "_model_name": "HTMLModel",
      "_view_count": null,
      "_view_module": "@jupyter-widgets/controls",
      "_view_module_version": "1.5.0",
      "_view_name": "HTMLView",
      "description": "",
      "description_tooltip": null,
      "layout": "IPY_MODEL_59b9578f26304bcf9175daed0e343863",
      "placeholder": "​",
      "style": "IPY_MODEL_f833faae71734a95b9d2f21fff627425",
      "value": "Llama-3.2-1B-Instruct-Q8_0.gguf: 100%"
     }
    },
    "633b95cb52e446c89198411d82bbf8a8": {
     "model_module": "@jupyter-widgets/controls",
     "model_name": "FloatProgressModel",
     "model_module_version": "1.5.0",
     "state": {
      "_dom_classes": [],
      "_model_module": "@jupyter-widgets/controls",
      "_model_module_version": "1.5.0",
      "_model_name": "FloatProgressModel",
      "_view_count": null,
      "_view_module": "@jupyter-widgets/controls",
      "_view_module_version": "1.5.0",
      "_view_name": "ProgressView",
      "bar_style": "success",
      "description": "",
      "description_tooltip": null,
      "layout": "IPY_MODEL_21a3f478b2a0442cad6bca8aee8ca4df",
      "max": 1321083008,
      "min": 0,
      "orientation": "horizontal",
      "style": "IPY_MODEL_1f84d3dcc03049848c8c49a2127492fe",
      "value": 1321083008
     }
    },
    "37831f687770434eb4faadd199bd9b44": {
     "model_module": "@jupyter-widgets/controls",
     "model_name": "HTMLModel",
     "model_module_version": "1.5.0",
     "state": {
      "_dom_classes": [],
      "_model_module": "@jupyter-widgets/controls",
      "_model_module_version": "1.5.0",
      "_model_name": "HTMLModel",
      "_view_count": null,
      "_view_module": "@jupyter-widgets/controls",
      "_view_module_version": "1.5.0",
      "_view_name": "HTMLView",
      "description": "",
      "description_tooltip": null,
      "layout": "IPY_MODEL_c2d92962b7154fd9922da6133b705970",
      "placeholder": "​",
      "style": "IPY_MODEL_1d97aa62c0d445d1b4207d466b9fff94",
      "value": " 1.32G/1.32G [00:31&lt;00:00, 42.5MB/s]"
     }
    },
    "cc67b3eef19b4f71bf93ebf2a7f6df17": {
     "model_module": "@jupyter-widgets/base",
     "model_name": "LayoutModel",
     "model_module_version": "1.2.0",
     "state": {
      "_model_module": "@jupyter-widgets/base",
      "_model_module_version": "1.2.0",
      "_model_name": "LayoutModel",
      "_view_count": null,
      "_view_module": "@jupyter-widgets/base",
      "_view_module_version": "1.2.0",
      "_view_name": "LayoutView",
      "align_content": null,
      "align_items": null,
      "align_self": null,
      "border": null,
      "bottom": null,
      "display": null,
      "flex": null,
      "flex_flow": null,
      "grid_area": null,
      "grid_auto_columns": null,
      "grid_auto_flow": null,
      "grid_auto_rows": null,
      "grid_column": null,
      "grid_gap": null,
      "grid_row": null,
      "grid_template_areas": null,
      "grid_template_columns": null,
      "grid_template_rows": null,
      "height": null,
      "justify_content": null,
      "justify_items": null,
      "left": null,
      "margin": null,
      "max_height": null,
      "max_width": null,
      "min_height": null,
      "min_width": null,
      "object_fit": null,
      "object_position": null,
      "order": null,
      "overflow": null,
      "overflow_x": null,
      "overflow_y": null,
      "padding": null,
      "right": null,
      "top": null,
      "visibility": null,
      "width": null
     }
    },
    "59b9578f26304bcf9175daed0e343863": {
     "model_module": "@jupyter-widgets/base",
     "model_name": "LayoutModel",
     "model_module_version": "1.2.0",
     "state": {
      "_model_module": "@jupyter-widgets/base",
      "_model_module_version": "1.2.0",
      "_model_name": "LayoutModel",
      "_view_count": null,
      "_view_module": "@jupyter-widgets/base",
      "_view_module_version": "1.2.0",
      "_view_name": "LayoutView",
      "align_content": null,
      "align_items": null,
      "align_self": null,
      "border": null,
      "bottom": null,
      "display": null,
      "flex": null,
      "flex_flow": null,
      "grid_area": null,
      "grid_auto_columns": null,
      "grid_auto_flow": null,
      "grid_auto_rows": null,
      "grid_column": null,
      "grid_gap": null,
      "grid_row": null,
      "grid_template_areas": null,
      "grid_template_columns": null,
      "grid_template_rows": null,
      "height": null,
      "justify_content": null,
      "justify_items": null,
      "left": null,
      "margin": null,
      "max_height": null,
      "max_width": null,
      "min_height": null,
      "min_width": null,
      "object_fit": null,
      "object_position": null,
      "order": null,
      "overflow": null,
      "overflow_x": null,
      "overflow_y": null,
      "padding": null,
      "right": null,
      "top": null,
      "visibility": null,
      "width": null
     }
    },
    "f833faae71734a95b9d2f21fff627425": {
     "model_module": "@jupyter-widgets/controls",
     "model_name": "DescriptionStyleModel",
     "model_module_version": "1.5.0",
     "state": {
      "_model_module": "@jupyter-widgets/controls",
      "_model_module_version": "1.5.0",
      "_model_name": "DescriptionStyleModel",
      "_view_count": null,
      "_view_module": "@jupyter-widgets/base",
      "_view_module_version": "1.2.0",
      "_view_name": "StyleView",
      "description_width": ""
     }
    },
    "21a3f478b2a0442cad6bca8aee8ca4df": {
     "model_module": "@jupyter-widgets/base",
     "model_name": "LayoutModel",
     "model_module_version": "1.2.0",
     "state": {
      "_model_module": "@jupyter-widgets/base",
      "_model_module_version": "1.2.0",
      "_model_name": "LayoutModel",
      "_view_count": null,
      "_view_module": "@jupyter-widgets/base",
      "_view_module_version": "1.2.0",
      "_view_name": "LayoutView",
      "align_content": null,
      "align_items": null,
      "align_self": null,
      "border": null,
      "bottom": null,
      "display": null,
      "flex": null,
      "flex_flow": null,
      "grid_area": null,
      "grid_auto_columns": null,
      "grid_auto_flow": null,
      "grid_auto_rows": null,
      "grid_column": null,
      "grid_gap": null,
      "grid_row": null,
      "grid_template_areas": null,
      "grid_template_columns": null,
      "grid_template_rows": null,
      "height": null,
      "justify_content": null,
      "justify_items": null,
      "left": null,
      "margin": null,
      "max_height": null,
      "max_width": null,
      "min_height": null,
      "min_width": null,
      "object_fit": null,
      "object_position": null,
      "order": null,
      "overflow": null,
      "overflow_x": null,
      "overflow_y": null,
      "padding": null,
      "right": null,
      "top": null,
      "visibility": null,
      "width": null
     }
    },
    "1f84d3dcc03049848c8c49a2127492fe": {
     "model_module": "@jupyter-widgets/controls",
     "model_name": "ProgressStyleModel",
     "model_module_version": "1.5.0",
     "state": {
      "_model_module": "@jupyter-widgets/controls",
      "_model_module_version": "1.5.0",
      "_model_name": "ProgressStyleModel",
      "_view_count": null,
      "_view_module": "@jupyter-widgets/base",
      "_view_module_version": "1.2.0",
      "_view_name": "StyleView",
      "bar_color": null,
      "description_width": ""
     }
    },
    "c2d92962b7154fd9922da6133b705970": {
     "model_module": "@jupyter-widgets/base",
     "model_name": "LayoutModel",
     "model_module_version": "1.2.0",
     "state": {
      "_model_module": "@jupyter-widgets/base",
      "_model_module_version": "1.2.0",
      "_model_name": "LayoutModel",
      "_view_count": null,
      "_view_module": "@jupyter-widgets/base",
      "_view_module_version": "1.2.0",
      "_view_name": "LayoutView",
      "align_content": null,
      "align_items": null,
      "align_self": null,
      "border": null,
      "bottom": null,
      "display": null,
      "flex": null,
      "flex_flow": null,
      "grid_area": null,
      "grid_auto_columns": null,
      "grid_auto_flow": null,
      "grid_auto_rows": null,
      "grid_column": null,
      "grid_gap": null,
      "grid_row": null,
      "grid_template_areas": null,
      "grid_template_columns": null,
      "grid_template_rows": null,
      "height": null,
      "justify_content": null,
      "justify_items": null,
      "left": null,
      "margin": null,
      "max_height": null,
      "max_width": null,
      "min_height": null,
      "min_width": null,
      "object_fit": null,
      "object_position": null,
      "order": null,
      "overflow": null,
      "overflow_x": null,
      "overflow_y": null,
      "padding": null,
      "right": null,
      "top": null,
      "visibility": null,
      "width": null
     }
    },
    "1d97aa62c0d445d1b4207d466b9fff94": {
     "model_module": "@jupyter-widgets/controls",
     "model_name": "DescriptionStyleModel",
     "model_module_version": "1.5.0",
     "state": {
      "_model_module": "@jupyter-widgets/controls",
      "_model_module_version": "1.5.0",
      "_model_name": "DescriptionStyleModel",
      "_view_count": null,
      "_view_module": "@jupyter-widgets/base",
      "_view_module_version": "1.2.0",
      "_view_name": "StyleView",
      "description_width": ""
     }
    },
    "862ca2fabb554a1bae4a25b8e526d6d4": {
     "model_module": "@jupyter-widgets/controls",
     "model_name": "HBoxModel",
     "model_module_version": "1.5.0",
     "state": {
      "_dom_classes": [],
      "_model_module": "@jupyter-widgets/controls",
      "_model_module_version": "1.5.0",
      "_model_name": "HBoxModel",
      "_view_count": null,
      "_view_module": "@jupyter-widgets/controls",
      "_view_module_version": "1.5.0",
      "_view_name": "HBoxView",
      "box_style": "",
      "children": [
       "IPY_MODEL_99e9e9a262a143a9b5e6c8e3122df244",
       "IPY_MODEL_0d647de811794cd5a39bc1c32194dc84",
       "IPY_MODEL_a85c718b393b4a9e8e076f9d2cb38cc4"
      ],
      "layout": "IPY_MODEL_adb699c2ed4d430f971fc493d8215455"
     }
    },
    "99e9e9a262a143a9b5e6c8e3122df244": {
     "model_module": "@jupyter-widgets/controls",
     "model_name": "HTMLModel",
     "model_module_version": "1.5.0",
     "state": {
      "_dom_classes": [],
      "_model_module": "@jupyter-widgets/controls",
      "_model_module_version": "1.5.0",
      "_model_name": "HTMLModel",
      "_view_count": null,
      "_view_module": "@jupyter-widgets/controls",
      "_view_module_version": "1.5.0",
      "_view_name": "HTMLView",
      "description": "",
      "description_tooltip": null,
      "layout": "IPY_MODEL_e9287a2569544315a660a3634bc33ec7",
      "placeholder": "​",
      "style": "IPY_MODEL_7623589b71c245cc87f198555263c541",
      "value": "tokenizer_config.json: 100%"
     }
    },
    "0d647de811794cd5a39bc1c32194dc84": {
     "model_module": "@jupyter-widgets/controls",
     "model_name": "FloatProgressModel",
     "model_module_version": "1.5.0",
     "state": {
      "_dom_classes": [],
      "_model_module": "@jupyter-widgets/controls",
      "_model_module_version": "1.5.0",
      "_model_name": "FloatProgressModel",
      "_view_count": null,
      "_view_module": "@jupyter-widgets/controls",
      "_view_module_version": "1.5.0",
      "_view_name": "ProgressView",
      "bar_style": "success",
      "description": "",
      "description_tooltip": null,
      "layout": "IPY_MODEL_93f9a86e3bdf4cdaaf2ee60409dece0d",
      "max": 54598,
      "min": 0,
      "orientation": "horizontal",
      "style": "IPY_MODEL_aeb41c7374c34a2b8d02b74741c68ba2",
      "value": 54598
     }
    },
    "a85c718b393b4a9e8e076f9d2cb38cc4": {
     "model_module": "@jupyter-widgets/controls",
     "model_name": "HTMLModel",
     "model_module_version": "1.5.0",
     "state": {
      "_dom_classes": [],
      "_model_module": "@jupyter-widgets/controls",
      "_model_module_version": "1.5.0",
      "_model_name": "HTMLModel",
      "_view_count": null,
      "_view_module": "@jupyter-widgets/controls",
      "_view_module_version": "1.5.0",
      "_view_name": "HTMLView",
      "description": "",
      "description_tooltip": null,
      "layout": "IPY_MODEL_9b4565eea75e4765b6c8fee310e45a13",
      "placeholder": "​",
      "style": "IPY_MODEL_ad445c23a3cd4f02850758418e21d218",
      "value": " 54.6k/54.6k [00:00&lt;00:00, 3.44MB/s]"
     }
    },
    "adb699c2ed4d430f971fc493d8215455": {
     "model_module": "@jupyter-widgets/base",
     "model_name": "LayoutModel",
     "model_module_version": "1.2.0",
     "state": {
      "_model_module": "@jupyter-widgets/base",
      "_model_module_version": "1.2.0",
      "_model_name": "LayoutModel",
      "_view_count": null,
      "_view_module": "@jupyter-widgets/base",
      "_view_module_version": "1.2.0",
      "_view_name": "LayoutView",
      "align_content": null,
      "align_items": null,
      "align_self": null,
      "border": null,
      "bottom": null,
      "display": null,
      "flex": null,
      "flex_flow": null,
      "grid_area": null,
      "grid_auto_columns": null,
      "grid_auto_flow": null,
      "grid_auto_rows": null,
      "grid_column": null,
      "grid_gap": null,
      "grid_row": null,
      "grid_template_areas": null,
      "grid_template_columns": null,
      "grid_template_rows": null,
      "height": null,
      "justify_content": null,
      "justify_items": null,
      "left": null,
      "margin": null,
      "max_height": null,
      "max_width": null,
      "min_height": null,
      "min_width": null,
      "object_fit": null,
      "object_position": null,
      "order": null,
      "overflow": null,
      "overflow_x": null,
      "overflow_y": null,
      "padding": null,
      "right": null,
      "top": null,
      "visibility": null,
      "width": null
     }
    },
    "e9287a2569544315a660a3634bc33ec7": {
     "model_module": "@jupyter-widgets/base",
     "model_name": "LayoutModel",
     "model_module_version": "1.2.0",
     "state": {
      "_model_module": "@jupyter-widgets/base",
      "_model_module_version": "1.2.0",
      "_model_name": "LayoutModel",
      "_view_count": null,
      "_view_module": "@jupyter-widgets/base",
      "_view_module_version": "1.2.0",
      "_view_name": "LayoutView",
      "align_content": null,
      "align_items": null,
      "align_self": null,
      "border": null,
      "bottom": null,
      "display": null,
      "flex": null,
      "flex_flow": null,
      "grid_area": null,
      "grid_auto_columns": null,
      "grid_auto_flow": null,
      "grid_auto_rows": null,
      "grid_column": null,
      "grid_gap": null,
      "grid_row": null,
      "grid_template_areas": null,
      "grid_template_columns": null,
      "grid_template_rows": null,
      "height": null,
      "justify_content": null,
      "justify_items": null,
      "left": null,
      "margin": null,
      "max_height": null,
      "max_width": null,
      "min_height": null,
      "min_width": null,
      "object_fit": null,
      "object_position": null,
      "order": null,
      "overflow": null,
      "overflow_x": null,
      "overflow_y": null,
      "padding": null,
      "right": null,
      "top": null,
      "visibility": null,
      "width": null
     }
    },
    "7623589b71c245cc87f198555263c541": {
     "model_module": "@jupyter-widgets/controls",
     "model_name": "DescriptionStyleModel",
     "model_module_version": "1.5.0",
     "state": {
      "_model_module": "@jupyter-widgets/controls",
      "_model_module_version": "1.5.0",
      "_model_name": "DescriptionStyleModel",
      "_view_count": null,
      "_view_module": "@jupyter-widgets/base",
      "_view_module_version": "1.2.0",
      "_view_name": "StyleView",
      "description_width": ""
     }
    },
    "93f9a86e3bdf4cdaaf2ee60409dece0d": {
     "model_module": "@jupyter-widgets/base",
     "model_name": "LayoutModel",
     "model_module_version": "1.2.0",
     "state": {
      "_model_module": "@jupyter-widgets/base",
      "_model_module_version": "1.2.0",
      "_model_name": "LayoutModel",
      "_view_count": null,
      "_view_module": "@jupyter-widgets/base",
      "_view_module_version": "1.2.0",
      "_view_name": "LayoutView",
      "align_content": null,
      "align_items": null,
      "align_self": null,
      "border": null,
      "bottom": null,
      "display": null,
      "flex": null,
      "flex_flow": null,
      "grid_area": null,
      "grid_auto_columns": null,
      "grid_auto_flow": null,
      "grid_auto_rows": null,
      "grid_column": null,
      "grid_gap": null,
      "grid_row": null,
      "grid_template_areas": null,
      "grid_template_columns": null,
      "grid_template_rows": null,
      "height": null,
      "justify_content": null,
      "justify_items": null,
      "left": null,
      "margin": null,
      "max_height": null,
      "max_width": null,
      "min_height": null,
      "min_width": null,
      "object_fit": null,
      "object_position": null,
      "order": null,
      "overflow": null,
      "overflow_x": null,
      "overflow_y": null,
      "padding": null,
      "right": null,
      "top": null,
      "visibility": null,
      "width": null
     }
    },
    "aeb41c7374c34a2b8d02b74741c68ba2": {
     "model_module": "@jupyter-widgets/controls",
     "model_name": "ProgressStyleModel",
     "model_module_version": "1.5.0",
     "state": {
      "_model_module": "@jupyter-widgets/controls",
      "_model_module_version": "1.5.0",
      "_model_name": "ProgressStyleModel",
      "_view_count": null,
      "_view_module": "@jupyter-widgets/base",
      "_view_module_version": "1.2.0",
      "_view_name": "StyleView",
      "bar_color": null,
      "description_width": ""
     }
    },
    "9b4565eea75e4765b6c8fee310e45a13": {
     "model_module": "@jupyter-widgets/base",
     "model_name": "LayoutModel",
     "model_module_version": "1.2.0",
     "state": {
      "_model_module": "@jupyter-widgets/base",
      "_model_module_version": "1.2.0",
      "_model_name": "LayoutModel",
      "_view_count": null,
      "_view_module": "@jupyter-widgets/base",
      "_view_module_version": "1.2.0",
      "_view_name": "LayoutView",
      "align_content": null,
      "align_items": null,
      "align_self": null,
      "border": null,
      "bottom": null,
      "display": null,
      "flex": null,
      "flex_flow": null,
      "grid_area": null,
      "grid_auto_columns": null,
      "grid_auto_flow": null,
      "grid_auto_rows": null,
      "grid_column": null,
      "grid_gap": null,
      "grid_row": null,
      "grid_template_areas": null,
      "grid_template_columns": null,
      "grid_template_rows": null,
      "height": null,
      "justify_content": null,
      "justify_items": null,
      "left": null,
      "margin": null,
      "max_height": null,
      "max_width": null,
      "min_height": null,
      "min_width": null,
      "object_fit": null,
      "object_position": null,
      "order": null,
      "overflow": null,
      "overflow_x": null,
      "overflow_y": null,
      "padding": null,
      "right": null,
      "top": null,
      "visibility": null,
      "width": null
     }
    },
    "ad445c23a3cd4f02850758418e21d218": {
     "model_module": "@jupyter-widgets/controls",
     "model_name": "DescriptionStyleModel",
     "model_module_version": "1.5.0",
     "state": {
      "_model_module": "@jupyter-widgets/controls",
      "_model_module_version": "1.5.0",
      "_model_name": "DescriptionStyleModel",
      "_view_count": null,
      "_view_module": "@jupyter-widgets/base",
      "_view_module_version": "1.2.0",
      "_view_name": "StyleView",
      "description_width": ""
     }
    },
    "bd4338c6442c41e7aca93873f32eb625": {
     "model_module": "@jupyter-widgets/controls",
     "model_name": "HBoxModel",
     "model_module_version": "1.5.0",
     "state": {
      "_dom_classes": [],
      "_model_module": "@jupyter-widgets/controls",
      "_model_module_version": "1.5.0",
      "_model_name": "HBoxModel",
      "_view_count": null,
      "_view_module": "@jupyter-widgets/controls",
      "_view_module_version": "1.5.0",
      "_view_name": "HBoxView",
      "box_style": "",
      "children": [
       "IPY_MODEL_d90cc513de5d44d8b7eaeba858a2b00b",
       "IPY_MODEL_b786c287e51349018c46a81d95c98ecc",
       "IPY_MODEL_6880fdf4d88b4a68abe34159da86713f"
      ],
      "layout": "IPY_MODEL_10843e14765b4e689af27d05ed748c13"
     }
    },
    "d90cc513de5d44d8b7eaeba858a2b00b": {
     "model_module": "@jupyter-widgets/controls",
     "model_name": "HTMLModel",
     "model_module_version": "1.5.0",
     "state": {
      "_dom_classes": [],
      "_model_module": "@jupyter-widgets/controls",
      "_model_module_version": "1.5.0",
      "_model_name": "HTMLModel",
      "_view_count": null,
      "_view_module": "@jupyter-widgets/controls",
      "_view_module_version": "1.5.0",
      "_view_name": "HTMLView",
      "description": "",
      "description_tooltip": null,
      "layout": "IPY_MODEL_e5dded4cb8bb450e937f2ec9427fe039",
      "placeholder": "​",
      "style": "IPY_MODEL_10b50e77ea5b4530aa4dbb191848915d",
      "value": "tokenizer.json: 100%"
     }
    },
    "b786c287e51349018c46a81d95c98ecc": {
     "model_module": "@jupyter-widgets/controls",
     "model_name": "FloatProgressModel",
     "model_module_version": "1.5.0",
     "state": {
      "_dom_classes": [],
      "_model_module": "@jupyter-widgets/controls",
      "_model_module_version": "1.5.0",
      "_model_name": "FloatProgressModel",
      "_view_count": null,
      "_view_module": "@jupyter-widgets/controls",
      "_view_module_version": "1.5.0",
      "_view_name": "ProgressView",
      "bar_style": "success",
      "description": "",
      "description_tooltip": null,
      "layout": "IPY_MODEL_f299c57d2b9e4d8ebcb8bb6b5582c903",
      "max": 9085657,
      "min": 0,
      "orientation": "horizontal",
      "style": "IPY_MODEL_9d6c0b669c43425ea83cebbdd9c574b9",
      "value": 9085657
     }
    },
    "6880fdf4d88b4a68abe34159da86713f": {
     "model_module": "@jupyter-widgets/controls",
     "model_name": "HTMLModel",
     "model_module_version": "1.5.0",
     "state": {
      "_dom_classes": [],
      "_model_module": "@jupyter-widgets/controls",
      "_model_module_version": "1.5.0",
      "_model_name": "HTMLModel",
      "_view_count": null,
      "_view_module": "@jupyter-widgets/controls",
      "_view_module_version": "1.5.0",
      "_view_name": "HTMLView",
      "description": "",
      "description_tooltip": null,
      "layout": "IPY_MODEL_2c083c1a81c34c598625e674d096f3cb",
      "placeholder": "​",
      "style": "IPY_MODEL_01afa306c3ab415488237478c18f5059",
      "value": " 9.09M/9.09M [00:00&lt;00:00, 40.6MB/s]"
     }
    },
    "10843e14765b4e689af27d05ed748c13": {
     "model_module": "@jupyter-widgets/base",
     "model_name": "LayoutModel",
     "model_module_version": "1.2.0",
     "state": {
      "_model_module": "@jupyter-widgets/base",
      "_model_module_version": "1.2.0",
      "_model_name": "LayoutModel",
      "_view_count": null,
      "_view_module": "@jupyter-widgets/base",
      "_view_module_version": "1.2.0",
      "_view_name": "LayoutView",
      "align_content": null,
      "align_items": null,
      "align_self": null,
      "border": null,
      "bottom": null,
      "display": null,
      "flex": null,
      "flex_flow": null,
      "grid_area": null,
      "grid_auto_columns": null,
      "grid_auto_flow": null,
      "grid_auto_rows": null,
      "grid_column": null,
      "grid_gap": null,
      "grid_row": null,
      "grid_template_areas": null,
      "grid_template_columns": null,
      "grid_template_rows": null,
      "height": null,
      "justify_content": null,
      "justify_items": null,
      "left": null,
      "margin": null,
      "max_height": null,
      "max_width": null,
      "min_height": null,
      "min_width": null,
      "object_fit": null,
      "object_position": null,
      "order": null,
      "overflow": null,
      "overflow_x": null,
      "overflow_y": null,
      "padding": null,
      "right": null,
      "top": null,
      "visibility": null,
      "width": null
     }
    },
    "e5dded4cb8bb450e937f2ec9427fe039": {
     "model_module": "@jupyter-widgets/base",
     "model_name": "LayoutModel",
     "model_module_version": "1.2.0",
     "state": {
      "_model_module": "@jupyter-widgets/base",
      "_model_module_version": "1.2.0",
      "_model_name": "LayoutModel",
      "_view_count": null,
      "_view_module": "@jupyter-widgets/base",
      "_view_module_version": "1.2.0",
      "_view_name": "LayoutView",
      "align_content": null,
      "align_items": null,
      "align_self": null,
      "border": null,
      "bottom": null,
      "display": null,
      "flex": null,
      "flex_flow": null,
      "grid_area": null,
      "grid_auto_columns": null,
      "grid_auto_flow": null,
      "grid_auto_rows": null,
      "grid_column": null,
      "grid_gap": null,
      "grid_row": null,
      "grid_template_areas": null,
      "grid_template_columns": null,
      "grid_template_rows": null,
      "height": null,
      "justify_content": null,
      "justify_items": null,
      "left": null,
      "margin": null,
      "max_height": null,
      "max_width": null,
      "min_height": null,
      "min_width": null,
      "object_fit": null,
      "object_position": null,
      "order": null,
      "overflow": null,
      "overflow_x": null,
      "overflow_y": null,
      "padding": null,
      "right": null,
      "top": null,
      "visibility": null,
      "width": null
     }
    },
    "10b50e77ea5b4530aa4dbb191848915d": {
     "model_module": "@jupyter-widgets/controls",
     "model_name": "DescriptionStyleModel",
     "model_module_version": "1.5.0",
     "state": {
      "_model_module": "@jupyter-widgets/controls",
      "_model_module_version": "1.5.0",
      "_model_name": "DescriptionStyleModel",
      "_view_count": null,
      "_view_module": "@jupyter-widgets/base",
      "_view_module_version": "1.2.0",
      "_view_name": "StyleView",
      "description_width": ""
     }
    },
    "f299c57d2b9e4d8ebcb8bb6b5582c903": {
     "model_module": "@jupyter-widgets/base",
     "model_name": "LayoutModel",
     "model_module_version": "1.2.0",
     "state": {
      "_model_module": "@jupyter-widgets/base",
      "_model_module_version": "1.2.0",
      "_model_name": "LayoutModel",
      "_view_count": null,
      "_view_module": "@jupyter-widgets/base",
      "_view_module_version": "1.2.0",
      "_view_name": "LayoutView",
      "align_content": null,
      "align_items": null,
      "align_self": null,
      "border": null,
      "bottom": null,
      "display": null,
      "flex": null,
      "flex_flow": null,
      "grid_area": null,
      "grid_auto_columns": null,
      "grid_auto_flow": null,
      "grid_auto_rows": null,
      "grid_column": null,
      "grid_gap": null,
      "grid_row": null,
      "grid_template_areas": null,
      "grid_template_columns": null,
      "grid_template_rows": null,
      "height": null,
      "justify_content": null,
      "justify_items": null,
      "left": null,
      "margin": null,
      "max_height": null,
      "max_width": null,
      "min_height": null,
      "min_width": null,
      "object_fit": null,
      "object_position": null,
      "order": null,
      "overflow": null,
      "overflow_x": null,
      "overflow_y": null,
      "padding": null,
      "right": null,
      "top": null,
      "visibility": null,
      "width": null
     }
    },
    "9d6c0b669c43425ea83cebbdd9c574b9": {
     "model_module": "@jupyter-widgets/controls",
     "model_name": "ProgressStyleModel",
     "model_module_version": "1.5.0",
     "state": {
      "_model_module": "@jupyter-widgets/controls",
      "_model_module_version": "1.5.0",
      "_model_name": "ProgressStyleModel",
      "_view_count": null,
      "_view_module": "@jupyter-widgets/base",
      "_view_module_version": "1.2.0",
      "_view_name": "StyleView",
      "bar_color": null,
      "description_width": ""
     }
    },
    "2c083c1a81c34c598625e674d096f3cb": {
     "model_module": "@jupyter-widgets/base",
     "model_name": "LayoutModel",
     "model_module_version": "1.2.0",
     "state": {
      "_model_module": "@jupyter-widgets/base",
      "_model_module_version": "1.2.0",
      "_model_name": "LayoutModel",
      "_view_count": null,
      "_view_module": "@jupyter-widgets/base",
      "_view_module_version": "1.2.0",
      "_view_name": "LayoutView",
      "align_content": null,
      "align_items": null,
      "align_self": null,
      "border": null,
      "bottom": null,
      "display": null,
      "flex": null,
      "flex_flow": null,
      "grid_area": null,
      "grid_auto_columns": null,
      "grid_auto_flow": null,
      "grid_auto_rows": null,
      "grid_column": null,
      "grid_gap": null,
      "grid_row": null,
      "grid_template_areas": null,
      "grid_template_columns": null,
      "grid_template_rows": null,
      "height": null,
      "justify_content": null,
      "justify_items": null,
      "left": null,
      "margin": null,
      "max_height": null,
      "max_width": null,
      "min_height": null,
      "min_width": null,
      "object_fit": null,
      "object_position": null,
      "order": null,
      "overflow": null,
      "overflow_x": null,
      "overflow_y": null,
      "padding": null,
      "right": null,
      "top": null,
      "visibility": null,
      "width": null
     }
    },
    "01afa306c3ab415488237478c18f5059": {
     "model_module": "@jupyter-widgets/controls",
     "model_name": "DescriptionStyleModel",
     "model_module_version": "1.5.0",
     "state": {
      "_model_module": "@jupyter-widgets/controls",
      "_model_module_version": "1.5.0",
      "_model_name": "DescriptionStyleModel",
      "_view_count": null,
      "_view_module": "@jupyter-widgets/base",
      "_view_module_version": "1.2.0",
      "_view_name": "StyleView",
      "description_width": ""
     }
    },
    "6989e687ee3d4bedacef767155dd864a": {
     "model_module": "@jupyter-widgets/controls",
     "model_name": "HBoxModel",
     "model_module_version": "1.5.0",
     "state": {
      "_dom_classes": [],
      "_model_module": "@jupyter-widgets/controls",
      "_model_module_version": "1.5.0",
      "_model_name": "HBoxModel",
      "_view_count": null,
      "_view_module": "@jupyter-widgets/controls",
      "_view_module_version": "1.5.0",
      "_view_name": "HBoxView",
      "box_style": "",
      "children": [
       "IPY_MODEL_be586fe4d2034ee7872b7ffcadb13960",
       "IPY_MODEL_218a7f3702204abf9cae1c4f779dfa1c",
       "IPY_MODEL_6d73555bbdc64ffdaebb2d0b2e46a16e"
      ],
      "layout": "IPY_MODEL_06f1de71e15d403885bbef3dc7b39c88"
     }
    },
    "be586fe4d2034ee7872b7ffcadb13960": {
     "model_module": "@jupyter-widgets/controls",
     "model_name": "HTMLModel",
     "model_module_version": "1.5.0",
     "state": {
      "_dom_classes": [],
      "_model_module": "@jupyter-widgets/controls",
      "_model_module_version": "1.5.0",
      "_model_name": "HTMLModel",
      "_view_count": null,
      "_view_module": "@jupyter-widgets/controls",
      "_view_module_version": "1.5.0",
      "_view_name": "HTMLView",
      "description": "",
      "description_tooltip": null,
      "layout": "IPY_MODEL_da9c29453e0c4221932f601f8d1d96f8",
      "placeholder": "​",
      "style": "IPY_MODEL_6e77488fd6d641ba91353e703e685bcf",
      "value": "special_tokens_map.json: 100%"
     }
    },
    "218a7f3702204abf9cae1c4f779dfa1c": {
     "model_module": "@jupyter-widgets/controls",
     "model_name": "FloatProgressModel",
     "model_module_version": "1.5.0",
     "state": {
      "_dom_classes": [],
      "_model_module": "@jupyter-widgets/controls",
      "_model_module_version": "1.5.0",
      "_model_name": "FloatProgressModel",
      "_view_count": null,
      "_view_module": "@jupyter-widgets/controls",
      "_view_module_version": "1.5.0",
      "_view_name": "ProgressView",
      "bar_style": "success",
      "description": "",
      "description_tooltip": null,
      "layout": "IPY_MODEL_24aca86e7dff4ea29b9a3b7fe3696682",
      "max": 454,
      "min": 0,
      "orientation": "horizontal",
      "style": "IPY_MODEL_678021592d97481e946ea1de9d4aa3d5",
      "value": 454
     }
    },
    "6d73555bbdc64ffdaebb2d0b2e46a16e": {
     "model_module": "@jupyter-widgets/controls",
     "model_name": "HTMLModel",
     "model_module_version": "1.5.0",
     "state": {
      "_dom_classes": [],
      "_model_module": "@jupyter-widgets/controls",
      "_model_module_version": "1.5.0",
      "_model_name": "HTMLModel",
      "_view_count": null,
      "_view_module": "@jupyter-widgets/controls",
      "_view_module_version": "1.5.0",
      "_view_name": "HTMLView",
      "description": "",
      "description_tooltip": null,
      "layout": "IPY_MODEL_82c46a8838344de19a144c82d2c0298e",
      "placeholder": "​",
      "style": "IPY_MODEL_9416bc49ff0f42fa85f9de2b349b2ad4",
      "value": " 454/454 [00:00&lt;00:00, 31.5kB/s]"
     }
    },
    "06f1de71e15d403885bbef3dc7b39c88": {
     "model_module": "@jupyter-widgets/base",
     "model_name": "LayoutModel",
     "model_module_version": "1.2.0",
     "state": {
      "_model_module": "@jupyter-widgets/base",
      "_model_module_version": "1.2.0",
      "_model_name": "LayoutModel",
      "_view_count": null,
      "_view_module": "@jupyter-widgets/base",
      "_view_module_version": "1.2.0",
      "_view_name": "LayoutView",
      "align_content": null,
      "align_items": null,
      "align_self": null,
      "border": null,
      "bottom": null,
      "display": null,
      "flex": null,
      "flex_flow": null,
      "grid_area": null,
      "grid_auto_columns": null,
      "grid_auto_flow": null,
      "grid_auto_rows": null,
      "grid_column": null,
      "grid_gap": null,
      "grid_row": null,
      "grid_template_areas": null,
      "grid_template_columns": null,
      "grid_template_rows": null,
      "height": null,
      "justify_content": null,
      "justify_items": null,
      "left": null,
      "margin": null,
      "max_height": null,
      "max_width": null,
      "min_height": null,
      "min_width": null,
      "object_fit": null,
      "object_position": null,
      "order": null,
      "overflow": null,
      "overflow_x": null,
      "overflow_y": null,
      "padding": null,
      "right": null,
      "top": null,
      "visibility": null,
      "width": null
     }
    },
    "da9c29453e0c4221932f601f8d1d96f8": {
     "model_module": "@jupyter-widgets/base",
     "model_name": "LayoutModel",
     "model_module_version": "1.2.0",
     "state": {
      "_model_module": "@jupyter-widgets/base",
      "_model_module_version": "1.2.0",
      "_model_name": "LayoutModel",
      "_view_count": null,
      "_view_module": "@jupyter-widgets/base",
      "_view_module_version": "1.2.0",
      "_view_name": "LayoutView",
      "align_content": null,
      "align_items": null,
      "align_self": null,
      "border": null,
      "bottom": null,
      "display": null,
      "flex": null,
      "flex_flow": null,
      "grid_area": null,
      "grid_auto_columns": null,
      "grid_auto_flow": null,
      "grid_auto_rows": null,
      "grid_column": null,
      "grid_gap": null,
      "grid_row": null,
      "grid_template_areas": null,
      "grid_template_columns": null,
      "grid_template_rows": null,
      "height": null,
      "justify_content": null,
      "justify_items": null,
      "left": null,
      "margin": null,
      "max_height": null,
      "max_width": null,
      "min_height": null,
      "min_width": null,
      "object_fit": null,
      "object_position": null,
      "order": null,
      "overflow": null,
      "overflow_x": null,
      "overflow_y": null,
      "padding": null,
      "right": null,
      "top": null,
      "visibility": null,
      "width": null
     }
    },
    "6e77488fd6d641ba91353e703e685bcf": {
     "model_module": "@jupyter-widgets/controls",
     "model_name": "DescriptionStyleModel",
     "model_module_version": "1.5.0",
     "state": {
      "_model_module": "@jupyter-widgets/controls",
      "_model_module_version": "1.5.0",
      "_model_name": "DescriptionStyleModel",
      "_view_count": null,
      "_view_module": "@jupyter-widgets/base",
      "_view_module_version": "1.2.0",
      "_view_name": "StyleView",
      "description_width": ""
     }
    },
    "24aca86e7dff4ea29b9a3b7fe3696682": {
     "model_module": "@jupyter-widgets/base",
     "model_name": "LayoutModel",
     "model_module_version": "1.2.0",
     "state": {
      "_model_module": "@jupyter-widgets/base",
      "_model_module_version": "1.2.0",
      "_model_name": "LayoutModel",
      "_view_count": null,
      "_view_module": "@jupyter-widgets/base",
      "_view_module_version": "1.2.0",
      "_view_name": "LayoutView",
      "align_content": null,
      "align_items": null,
      "align_self": null,
      "border": null,
      "bottom": null,
      "display": null,
      "flex": null,
      "flex_flow": null,
      "grid_area": null,
      "grid_auto_columns": null,
      "grid_auto_flow": null,
      "grid_auto_rows": null,
      "grid_column": null,
      "grid_gap": null,
      "grid_row": null,
      "grid_template_areas": null,
      "grid_template_columns": null,
      "grid_template_rows": null,
      "height": null,
      "justify_content": null,
      "justify_items": null,
      "left": null,
      "margin": null,
      "max_height": null,
      "max_width": null,
      "min_height": null,
      "min_width": null,
      "object_fit": null,
      "object_position": null,
      "order": null,
      "overflow": null,
      "overflow_x": null,
      "overflow_y": null,
      "padding": null,
      "right": null,
      "top": null,
      "visibility": null,
      "width": null
     }
    },
    "678021592d97481e946ea1de9d4aa3d5": {
     "model_module": "@jupyter-widgets/controls",
     "model_name": "ProgressStyleModel",
     "model_module_version": "1.5.0",
     "state": {
      "_model_module": "@jupyter-widgets/controls",
      "_model_module_version": "1.5.0",
      "_model_name": "ProgressStyleModel",
      "_view_count": null,
      "_view_module": "@jupyter-widgets/base",
      "_view_module_version": "1.2.0",
      "_view_name": "StyleView",
      "bar_color": null,
      "description_width": ""
     }
    },
    "82c46a8838344de19a144c82d2c0298e": {
     "model_module": "@jupyter-widgets/base",
     "model_name": "LayoutModel",
     "model_module_version": "1.2.0",
     "state": {
      "_model_module": "@jupyter-widgets/base",
      "_model_module_version": "1.2.0",
      "_model_name": "LayoutModel",
      "_view_count": null,
      "_view_module": "@jupyter-widgets/base",
      "_view_module_version": "1.2.0",
      "_view_name": "LayoutView",
      "align_content": null,
      "align_items": null,
      "align_self": null,
      "border": null,
      "bottom": null,
      "display": null,
      "flex": null,
      "flex_flow": null,
      "grid_area": null,
      "grid_auto_columns": null,
      "grid_auto_flow": null,
      "grid_auto_rows": null,
      "grid_column": null,
      "grid_gap": null,
      "grid_row": null,
      "grid_template_areas": null,
      "grid_template_columns": null,
      "grid_template_rows": null,
      "height": null,
      "justify_content": null,
      "justify_items": null,
      "left": null,
      "margin": null,
      "max_height": null,
      "max_width": null,
      "min_height": null,
      "min_width": null,
      "object_fit": null,
      "object_position": null,
      "order": null,
      "overflow": null,
      "overflow_x": null,
      "overflow_y": null,
      "padding": null,
      "right": null,
      "top": null,
      "visibility": null,
      "width": null
     }
    },
    "9416bc49ff0f42fa85f9de2b349b2ad4": {
     "model_module": "@jupyter-widgets/controls",
     "model_name": "DescriptionStyleModel",
     "model_module_version": "1.5.0",
     "state": {
      "_model_module": "@jupyter-widgets/controls",
      "_model_module_version": "1.5.0",
      "_model_name": "DescriptionStyleModel",
      "_view_count": null,
      "_view_module": "@jupyter-widgets/base",
      "_view_module_version": "1.2.0",
      "_view_name": "StyleView",
      "description_width": ""
     }
    },
    "8e77054d24224f98adb68fc49612bf4d": {
     "model_module": "@jupyter-widgets/controls",
     "model_name": "HBoxModel",
     "model_module_version": "1.5.0",
     "state": {
      "_dom_classes": [],
      "_model_module": "@jupyter-widgets/controls",
      "_model_module_version": "1.5.0",
      "_model_name": "HBoxModel",
      "_view_count": null,
      "_view_module": "@jupyter-widgets/controls",
      "_view_module_version": "1.5.0",
      "_view_name": "HBoxView",
      "box_style": "",
      "children": [
       "IPY_MODEL_7354785918ae4167898a1fb31f9346cc",
       "IPY_MODEL_ad9e6bb65af64c03900dc9482ad43cda",
       "IPY_MODEL_db19e8ccbadd48848fa0aabd7736687c"
      ],
      "layout": "IPY_MODEL_14f32840403f48649f53e2a6b418194a"
     }
    },
    "7354785918ae4167898a1fb31f9346cc": {
     "model_module": "@jupyter-widgets/controls",
     "model_name": "HTMLModel",
     "model_module_version": "1.5.0",
     "state": {
      "_dom_classes": [],
      "_model_module": "@jupyter-widgets/controls",
      "_model_module_version": "1.5.0",
      "_model_name": "HTMLModel",
      "_view_count": null,
      "_view_module": "@jupyter-widgets/controls",
      "_view_module_version": "1.5.0",
      "_view_name": "HTMLView",
      "description": "",
      "description_tooltip": null,
      "layout": "IPY_MODEL_b74cef31ead64b999098cc5ca0c98a5c",
      "placeholder": "​",
      "style": "IPY_MODEL_6b373b3543e44f259889b8de78d454cf",
      "value": "config.json: 100%"
     }
    },
    "ad9e6bb65af64c03900dc9482ad43cda": {
     "model_module": "@jupyter-widgets/controls",
     "model_name": "FloatProgressModel",
     "model_module_version": "1.5.0",
     "state": {
      "_dom_classes": [],
      "_model_module": "@jupyter-widgets/controls",
      "_model_module_version": "1.5.0",
      "_model_name": "FloatProgressModel",
      "_view_count": null,
      "_view_module": "@jupyter-widgets/controls",
      "_view_module_version": "1.5.0",
      "_view_name": "ProgressView",
      "bar_style": "success",
      "description": "",
      "description_tooltip": null,
      "layout": "IPY_MODEL_0ccc520e830449c98c642c409f92135c",
      "max": 927,
      "min": 0,
      "orientation": "horizontal",
      "style": "IPY_MODEL_66b048b4bb3545d6bbebd1532dbee8ac",
      "value": 927
     }
    },
    "db19e8ccbadd48848fa0aabd7736687c": {
     "model_module": "@jupyter-widgets/controls",
     "model_name": "HTMLModel",
     "model_module_version": "1.5.0",
     "state": {
      "_dom_classes": [],
      "_model_module": "@jupyter-widgets/controls",
      "_model_module_version": "1.5.0",
      "_model_name": "HTMLModel",
      "_view_count": null,
      "_view_module": "@jupyter-widgets/controls",
      "_view_module_version": "1.5.0",
      "_view_name": "HTMLView",
      "description": "",
      "description_tooltip": null,
      "layout": "IPY_MODEL_34506f477c584c88871ffa8dbfbd7360",
      "placeholder": "​",
      "style": "IPY_MODEL_ff1a0dee439b42bbb82d4b0879d9e99c",
      "value": " 927/927 [00:00&lt;00:00, 56.8kB/s]"
     }
    },
    "14f32840403f48649f53e2a6b418194a": {
     "model_module": "@jupyter-widgets/base",
     "model_name": "LayoutModel",
     "model_module_version": "1.2.0",
     "state": {
      "_model_module": "@jupyter-widgets/base",
      "_model_module_version": "1.2.0",
      "_model_name": "LayoutModel",
      "_view_count": null,
      "_view_module": "@jupyter-widgets/base",
      "_view_module_version": "1.2.0",
      "_view_name": "LayoutView",
      "align_content": null,
      "align_items": null,
      "align_self": null,
      "border": null,
      "bottom": null,
      "display": null,
      "flex": null,
      "flex_flow": null,
      "grid_area": null,
      "grid_auto_columns": null,
      "grid_auto_flow": null,
      "grid_auto_rows": null,
      "grid_column": null,
      "grid_gap": null,
      "grid_row": null,
      "grid_template_areas": null,
      "grid_template_columns": null,
      "grid_template_rows": null,
      "height": null,
      "justify_content": null,
      "justify_items": null,
      "left": null,
      "margin": null,
      "max_height": null,
      "max_width": null,
      "min_height": null,
      "min_width": null,
      "object_fit": null,
      "object_position": null,
      "order": null,
      "overflow": null,
      "overflow_x": null,
      "overflow_y": null,
      "padding": null,
      "right": null,
      "top": null,
      "visibility": null,
      "width": null
     }
    },
    "b74cef31ead64b999098cc5ca0c98a5c": {
     "model_module": "@jupyter-widgets/base",
     "model_name": "LayoutModel",
     "model_module_version": "1.2.0",
     "state": {
      "_model_module": "@jupyter-widgets/base",
      "_model_module_version": "1.2.0",
      "_model_name": "LayoutModel",
      "_view_count": null,
      "_view_module": "@jupyter-widgets/base",
      "_view_module_version": "1.2.0",
      "_view_name": "LayoutView",
      "align_content": null,
      "align_items": null,
      "align_self": null,
      "border": null,
      "bottom": null,
      "display": null,
      "flex": null,
      "flex_flow": null,
      "grid_area": null,
      "grid_auto_columns": null,
      "grid_auto_flow": null,
      "grid_auto_rows": null,
      "grid_column": null,
      "grid_gap": null,
      "grid_row": null,
      "grid_template_areas": null,
      "grid_template_columns": null,
      "grid_template_rows": null,
      "height": null,
      "justify_content": null,
      "justify_items": null,
      "left": null,
      "margin": null,
      "max_height": null,
      "max_width": null,
      "min_height": null,
      "min_width": null,
      "object_fit": null,
      "object_position": null,
      "order": null,
      "overflow": null,
      "overflow_x": null,
      "overflow_y": null,
      "padding": null,
      "right": null,
      "top": null,
      "visibility": null,
      "width": null
     }
    },
    "6b373b3543e44f259889b8de78d454cf": {
     "model_module": "@jupyter-widgets/controls",
     "model_name": "DescriptionStyleModel",
     "model_module_version": "1.5.0",
     "state": {
      "_model_module": "@jupyter-widgets/controls",
      "_model_module_version": "1.5.0",
      "_model_name": "DescriptionStyleModel",
      "_view_count": null,
      "_view_module": "@jupyter-widgets/base",
      "_view_module_version": "1.2.0",
      "_view_name": "StyleView",
      "description_width": ""
     }
    },
    "0ccc520e830449c98c642c409f92135c": {
     "model_module": "@jupyter-widgets/base",
     "model_name": "LayoutModel",
     "model_module_version": "1.2.0",
     "state": {
      "_model_module": "@jupyter-widgets/base",
      "_model_module_version": "1.2.0",
      "_model_name": "LayoutModel",
      "_view_count": null,
      "_view_module": "@jupyter-widgets/base",
      "_view_module_version": "1.2.0",
      "_view_name": "LayoutView",
      "align_content": null,
      "align_items": null,
      "align_self": null,
      "border": null,
      "bottom": null,
      "display": null,
      "flex": null,
      "flex_flow": null,
      "grid_area": null,
      "grid_auto_columns": null,
      "grid_auto_flow": null,
      "grid_auto_rows": null,
      "grid_column": null,
      "grid_gap": null,
      "grid_row": null,
      "grid_template_areas": null,
      "grid_template_columns": null,
      "grid_template_rows": null,
      "height": null,
      "justify_content": null,
      "justify_items": null,
      "left": null,
      "margin": null,
      "max_height": null,
      "max_width": null,
      "min_height": null,
      "min_width": null,
      "object_fit": null,
      "object_position": null,
      "order": null,
      "overflow": null,
      "overflow_x": null,
      "overflow_y": null,
      "padding": null,
      "right": null,
      "top": null,
      "visibility": null,
      "width": null
     }
    },
    "66b048b4bb3545d6bbebd1532dbee8ac": {
     "model_module": "@jupyter-widgets/controls",
     "model_name": "ProgressStyleModel",
     "model_module_version": "1.5.0",
     "state": {
      "_model_module": "@jupyter-widgets/controls",
      "_model_module_version": "1.5.0",
      "_model_name": "ProgressStyleModel",
      "_view_count": null,
      "_view_module": "@jupyter-widgets/base",
      "_view_module_version": "1.2.0",
      "_view_name": "StyleView",
      "bar_color": null,
      "description_width": ""
     }
    },
    "34506f477c584c88871ffa8dbfbd7360": {
     "model_module": "@jupyter-widgets/base",
     "model_name": "LayoutModel",
     "model_module_version": "1.2.0",
     "state": {
      "_model_module": "@jupyter-widgets/base",
      "_model_module_version": "1.2.0",
      "_model_name": "LayoutModel",
      "_view_count": null,
      "_view_module": "@jupyter-widgets/base",
      "_view_module_version": "1.2.0",
      "_view_name": "LayoutView",
      "align_content": null,
      "align_items": null,
      "align_self": null,
      "border": null,
      "bottom": null,
      "display": null,
      "flex": null,
      "flex_flow": null,
      "grid_area": null,
      "grid_auto_columns": null,
      "grid_auto_flow": null,
      "grid_auto_rows": null,
      "grid_column": null,
      "grid_gap": null,
      "grid_row": null,
      "grid_template_areas": null,
      "grid_template_columns": null,
      "grid_template_rows": null,
      "height": null,
      "justify_content": null,
      "justify_items": null,
      "left": null,
      "margin": null,
      "max_height": null,
      "max_width": null,
      "min_height": null,
      "min_width": null,
      "object_fit": null,
      "object_position": null,
      "order": null,
      "overflow": null,
      "overflow_x": null,
      "overflow_y": null,
      "padding": null,
      "right": null,
      "top": null,
      "visibility": null,
      "width": null
     }
    },
    "ff1a0dee439b42bbb82d4b0879d9e99c": {
     "model_module": "@jupyter-widgets/controls",
     "model_name": "DescriptionStyleModel",
     "model_module_version": "1.5.0",
     "state": {
      "_model_module": "@jupyter-widgets/controls",
      "_model_module_version": "1.5.0",
      "_model_name": "DescriptionStyleModel",
      "_view_count": null,
      "_view_module": "@jupyter-widgets/base",
      "_view_module_version": "1.2.0",
      "_view_name": "StyleView",
      "description_width": ""
     }
    },
    "b11f65b8c8854371a46f27ab920a56e4": {
     "model_module": "@jupyter-widgets/controls",
     "model_name": "HBoxModel",
     "model_module_version": "1.5.0",
     "state": {
      "_dom_classes": [],
      "_model_module": "@jupyter-widgets/controls",
      "_model_module_version": "1.5.0",
      "_model_name": "HBoxModel",
      "_view_count": null,
      "_view_module": "@jupyter-widgets/controls",
      "_view_module_version": "1.5.0",
      "_view_name": "HBoxView",
      "box_style": "",
      "children": [
       "IPY_MODEL_e7bffe80ec9c47a8bb96a48dcde1160c",
       "IPY_MODEL_aa252e4a6538419c94bdd2babfbbe1ef",
       "IPY_MODEL_5006c8414a4c46548e141909ac4e41ca"
      ],
      "layout": "IPY_MODEL_6aa2ad4f3a174e4e8de0f061a1dab472"
     }
    },
    "e7bffe80ec9c47a8bb96a48dcde1160c": {
     "model_module": "@jupyter-widgets/controls",
     "model_name": "HTMLModel",
     "model_module_version": "1.5.0",
     "state": {
      "_dom_classes": [],
      "_model_module": "@jupyter-widgets/controls",
      "_model_module_version": "1.5.0",
      "_model_name": "HTMLModel",
      "_view_count": null,
      "_view_module": "@jupyter-widgets/controls",
      "_view_module_version": "1.5.0",
      "_view_name": "HTMLView",
      "description": "",
      "description_tooltip": null,
      "layout": "IPY_MODEL_b5926238246d4c2db762fc5047581b22",
      "placeholder": "​",
      "style": "IPY_MODEL_04b57b3b26b94605ac346a987014ffb9",
      "value": "model.safetensors: 100%"
     }
    },
    "aa252e4a6538419c94bdd2babfbbe1ef": {
     "model_module": "@jupyter-widgets/controls",
     "model_name": "FloatProgressModel",
     "model_module_version": "1.5.0",
     "state": {
      "_dom_classes": [],
      "_model_module": "@jupyter-widgets/controls",
      "_model_module_version": "1.5.0",
      "_model_name": "FloatProgressModel",
      "_view_count": null,
      "_view_module": "@jupyter-widgets/controls",
      "_view_module_version": "1.5.0",
      "_view_name": "ProgressView",
      "bar_style": "success",
      "description": "",
      "description_tooltip": null,
      "layout": "IPY_MODEL_f87e50cc281c44769aaa5f89c4aba34d",
      "max": 2471645608,
      "min": 0,
      "orientation": "horizontal",
      "style": "IPY_MODEL_a261e6fd860e4b36a54ce995a880c5d3",
      "value": 2471645608
     }
    },
    "5006c8414a4c46548e141909ac4e41ca": {
     "model_module": "@jupyter-widgets/controls",
     "model_name": "HTMLModel",
     "model_module_version": "1.5.0",
     "state": {
      "_dom_classes": [],
      "_model_module": "@jupyter-widgets/controls",
      "_model_module_version": "1.5.0",
      "_model_name": "HTMLModel",
      "_view_count": null,
      "_view_module": "@jupyter-widgets/controls",
      "_view_module_version": "1.5.0",
      "_view_name": "HTMLView",
      "description": "",
      "description_tooltip": null,
      "layout": "IPY_MODEL_67b8de9759964be7a5f49203cbb18dd9",
      "placeholder": "​",
      "style": "IPY_MODEL_133ebe20cca84a959ba3ea9310645527",
      "value": " 2.47G/2.47G [00:58&lt;00:00, 43.2MB/s]"
     }
    },
    "6aa2ad4f3a174e4e8de0f061a1dab472": {
     "model_module": "@jupyter-widgets/base",
     "model_name": "LayoutModel",
     "model_module_version": "1.2.0",
     "state": {
      "_model_module": "@jupyter-widgets/base",
      "_model_module_version": "1.2.0",
      "_model_name": "LayoutModel",
      "_view_count": null,
      "_view_module": "@jupyter-widgets/base",
      "_view_module_version": "1.2.0",
      "_view_name": "LayoutView",
      "align_content": null,
      "align_items": null,
      "align_self": null,
      "border": null,
      "bottom": null,
      "display": null,
      "flex": null,
      "flex_flow": null,
      "grid_area": null,
      "grid_auto_columns": null,
      "grid_auto_flow": null,
      "grid_auto_rows": null,
      "grid_column": null,
      "grid_gap": null,
      "grid_row": null,
      "grid_template_areas": null,
      "grid_template_columns": null,
      "grid_template_rows": null,
      "height": null,
      "justify_content": null,
      "justify_items": null,
      "left": null,
      "margin": null,
      "max_height": null,
      "max_width": null,
      "min_height": null,
      "min_width": null,
      "object_fit": null,
      "object_position": null,
      "order": null,
      "overflow": null,
      "overflow_x": null,
      "overflow_y": null,
      "padding": null,
      "right": null,
      "top": null,
      "visibility": null,
      "width": null
     }
    },
    "b5926238246d4c2db762fc5047581b22": {
     "model_module": "@jupyter-widgets/base",
     "model_name": "LayoutModel",
     "model_module_version": "1.2.0",
     "state": {
      "_model_module": "@jupyter-widgets/base",
      "_model_module_version": "1.2.0",
      "_model_name": "LayoutModel",
      "_view_count": null,
      "_view_module": "@jupyter-widgets/base",
      "_view_module_version": "1.2.0",
      "_view_name": "LayoutView",
      "align_content": null,
      "align_items": null,
      "align_self": null,
      "border": null,
      "bottom": null,
      "display": null,
      "flex": null,
      "flex_flow": null,
      "grid_area": null,
      "grid_auto_columns": null,
      "grid_auto_flow": null,
      "grid_auto_rows": null,
      "grid_column": null,
      "grid_gap": null,
      "grid_row": null,
      "grid_template_areas": null,
      "grid_template_columns": null,
      "grid_template_rows": null,
      "height": null,
      "justify_content": null,
      "justify_items": null,
      "left": null,
      "margin": null,
      "max_height": null,
      "max_width": null,
      "min_height": null,
      "min_width": null,
      "object_fit": null,
      "object_position": null,
      "order": null,
      "overflow": null,
      "overflow_x": null,
      "overflow_y": null,
      "padding": null,
      "right": null,
      "top": null,
      "visibility": null,
      "width": null
     }
    },
    "04b57b3b26b94605ac346a987014ffb9": {
     "model_module": "@jupyter-widgets/controls",
     "model_name": "DescriptionStyleModel",
     "model_module_version": "1.5.0",
     "state": {
      "_model_module": "@jupyter-widgets/controls",
      "_model_module_version": "1.5.0",
      "_model_name": "DescriptionStyleModel",
      "_view_count": null,
      "_view_module": "@jupyter-widgets/base",
      "_view_module_version": "1.2.0",
      "_view_name": "StyleView",
      "description_width": ""
     }
    },
    "f87e50cc281c44769aaa5f89c4aba34d": {
     "model_module": "@jupyter-widgets/base",
     "model_name": "LayoutModel",
     "model_module_version": "1.2.0",
     "state": {
      "_model_module": "@jupyter-widgets/base",
      "_model_module_version": "1.2.0",
      "_model_name": "LayoutModel",
      "_view_count": null,
      "_view_module": "@jupyter-widgets/base",
      "_view_module_version": "1.2.0",
      "_view_name": "LayoutView",
      "align_content": null,
      "align_items": null,
      "align_self": null,
      "border": null,
      "bottom": null,
      "display": null,
      "flex": null,
      "flex_flow": null,
      "grid_area": null,
      "grid_auto_columns": null,
      "grid_auto_flow": null,
      "grid_auto_rows": null,
      "grid_column": null,
      "grid_gap": null,
      "grid_row": null,
      "grid_template_areas": null,
      "grid_template_columns": null,
      "grid_template_rows": null,
      "height": null,
      "justify_content": null,
      "justify_items": null,
      "left": null,
      "margin": null,
      "max_height": null,
      "max_width": null,
      "min_height": null,
      "min_width": null,
      "object_fit": null,
      "object_position": null,
      "order": null,
      "overflow": null,
      "overflow_x": null,
      "overflow_y": null,
      "padding": null,
      "right": null,
      "top": null,
      "visibility": null,
      "width": null
     }
    },
    "a261e6fd860e4b36a54ce995a880c5d3": {
     "model_module": "@jupyter-widgets/controls",
     "model_name": "ProgressStyleModel",
     "model_module_version": "1.5.0",
     "state": {
      "_model_module": "@jupyter-widgets/controls",
      "_model_module_version": "1.5.0",
      "_model_name": "ProgressStyleModel",
      "_view_count": null,
      "_view_module": "@jupyter-widgets/base",
      "_view_module_version": "1.2.0",
      "_view_name": "StyleView",
      "bar_color": null,
      "description_width": ""
     }
    },
    "67b8de9759964be7a5f49203cbb18dd9": {
     "model_module": "@jupyter-widgets/base",
     "model_name": "LayoutModel",
     "model_module_version": "1.2.0",
     "state": {
      "_model_module": "@jupyter-widgets/base",
      "_model_module_version": "1.2.0",
      "_model_name": "LayoutModel",
      "_view_count": null,
      "_view_module": "@jupyter-widgets/base",
      "_view_module_version": "1.2.0",
      "_view_name": "LayoutView",
      "align_content": null,
      "align_items": null,
      "align_self": null,
      "border": null,
      "bottom": null,
      "display": null,
      "flex": null,
      "flex_flow": null,
      "grid_area": null,
      "grid_auto_columns": null,
      "grid_auto_flow": null,
      "grid_auto_rows": null,
      "grid_column": null,
      "grid_gap": null,
      "grid_row": null,
      "grid_template_areas": null,
      "grid_template_columns": null,
      "grid_template_rows": null,
      "height": null,
      "justify_content": null,
      "justify_items": null,
      "left": null,
      "margin": null,
      "max_height": null,
      "max_width": null,
      "min_height": null,
      "min_width": null,
      "object_fit": null,
      "object_position": null,
      "order": null,
      "overflow": null,
      "overflow_x": null,
      "overflow_y": null,
      "padding": null,
      "right": null,
      "top": null,
      "visibility": null,
      "width": null
     }
    },
    "133ebe20cca84a959ba3ea9310645527": {
     "model_module": "@jupyter-widgets/controls",
     "model_name": "DescriptionStyleModel",
     "model_module_version": "1.5.0",
     "state": {
      "_model_module": "@jupyter-widgets/controls",
      "_model_module_version": "1.5.0",
      "_model_name": "DescriptionStyleModel",
      "_view_count": null,
      "_view_module": "@jupyter-widgets/base",
      "_view_module_version": "1.2.0",
      "_view_name": "StyleView",
      "description_width": ""
     }
    },
    "8237fdf12572471c8dff78be91dfc233": {
     "model_module": "@jupyter-widgets/controls",
     "model_name": "HBoxModel",
     "model_module_version": "1.5.0",
     "state": {
      "_dom_classes": [],
      "_model_module": "@jupyter-widgets/controls",
      "_model_module_version": "1.5.0",
      "_model_name": "HBoxModel",
      "_view_count": null,
      "_view_module": "@jupyter-widgets/controls",
      "_view_module_version": "1.5.0",
      "_view_name": "HBoxView",
      "box_style": "",
      "children": [
       "IPY_MODEL_0a4d42db506249dd85295c398ea9bf0f",
       "IPY_MODEL_7027645c2a9849ee97b70ef024e8e4aa",
       "IPY_MODEL_f9909350975748b2be77cbec8674e283"
      ],
      "layout": "IPY_MODEL_96ed194e8dcb4ea2a8b08bfc8076b34f"
     }
    },
    "0a4d42db506249dd85295c398ea9bf0f": {
     "model_module": "@jupyter-widgets/controls",
     "model_name": "HTMLModel",
     "model_module_version": "1.5.0",
     "state": {
      "_dom_classes": [],
      "_model_module": "@jupyter-widgets/controls",
      "_model_module_version": "1.5.0",
      "_model_name": "HTMLModel",
      "_view_count": null,
      "_view_module": "@jupyter-widgets/controls",
      "_view_module_version": "1.5.0",
      "_view_name": "HTMLView",
      "description": "",
      "description_tooltip": null,
      "layout": "IPY_MODEL_7446f5c017c04272a0c78a05f0ce5875",
      "placeholder": "​",
      "style": "IPY_MODEL_725573acd6e44a8f82bfbbc8747213b8",
      "value": "generation_config.json: 100%"
     }
    },
    "7027645c2a9849ee97b70ef024e8e4aa": {
     "model_module": "@jupyter-widgets/controls",
     "model_name": "FloatProgressModel",
     "model_module_version": "1.5.0",
     "state": {
      "_dom_classes": [],
      "_model_module": "@jupyter-widgets/controls",
      "_model_module_version": "1.5.0",
      "_model_name": "FloatProgressModel",
      "_view_count": null,
      "_view_module": "@jupyter-widgets/controls",
      "_view_module_version": "1.5.0",
      "_view_name": "ProgressView",
      "bar_style": "success",
      "description": "",
      "description_tooltip": null,
      "layout": "IPY_MODEL_18abb59f6bfc43cc80c061dea2433ee2",
      "max": 184,
      "min": 0,
      "orientation": "horizontal",
      "style": "IPY_MODEL_2de87a5a70f44b69b1445a9d830d5b08",
      "value": 184
     }
    },
    "f9909350975748b2be77cbec8674e283": {
     "model_module": "@jupyter-widgets/controls",
     "model_name": "HTMLModel",
     "model_module_version": "1.5.0",
     "state": {
      "_dom_classes": [],
      "_model_module": "@jupyter-widgets/controls",
      "_model_module_version": "1.5.0",
      "_model_name": "HTMLModel",
      "_view_count": null,
      "_view_module": "@jupyter-widgets/controls",
      "_view_module_version": "1.5.0",
      "_view_name": "HTMLView",
      "description": "",
      "description_tooltip": null,
      "layout": "IPY_MODEL_732a074cdd5b43008972636b056883e4",
      "placeholder": "​",
      "style": "IPY_MODEL_c4a4b276e0ab4bc181e26fed259e0c56",
      "value": " 184/184 [00:00&lt;00:00, 12.3kB/s]"
     }
    },
    "96ed194e8dcb4ea2a8b08bfc8076b34f": {
     "model_module": "@jupyter-widgets/base",
     "model_name": "LayoutModel",
     "model_module_version": "1.2.0",
     "state": {
      "_model_module": "@jupyter-widgets/base",
      "_model_module_version": "1.2.0",
      "_model_name": "LayoutModel",
      "_view_count": null,
      "_view_module": "@jupyter-widgets/base",
      "_view_module_version": "1.2.0",
      "_view_name": "LayoutView",
      "align_content": null,
      "align_items": null,
      "align_self": null,
      "border": null,
      "bottom": null,
      "display": null,
      "flex": null,
      "flex_flow": null,
      "grid_area": null,
      "grid_auto_columns": null,
      "grid_auto_flow": null,
      "grid_auto_rows": null,
      "grid_column": null,
      "grid_gap": null,
      "grid_row": null,
      "grid_template_areas": null,
      "grid_template_columns": null,
      "grid_template_rows": null,
      "height": null,
      "justify_content": null,
      "justify_items": null,
      "left": null,
      "margin": null,
      "max_height": null,
      "max_width": null,
      "min_height": null,
      "min_width": null,
      "object_fit": null,
      "object_position": null,
      "order": null,
      "overflow": null,
      "overflow_x": null,
      "overflow_y": null,
      "padding": null,
      "right": null,
      "top": null,
      "visibility": null,
      "width": null
     }
    },
    "7446f5c017c04272a0c78a05f0ce5875": {
     "model_module": "@jupyter-widgets/base",
     "model_name": "LayoutModel",
     "model_module_version": "1.2.0",
     "state": {
      "_model_module": "@jupyter-widgets/base",
      "_model_module_version": "1.2.0",
      "_model_name": "LayoutModel",
      "_view_count": null,
      "_view_module": "@jupyter-widgets/base",
      "_view_module_version": "1.2.0",
      "_view_name": "LayoutView",
      "align_content": null,
      "align_items": null,
      "align_self": null,
      "border": null,
      "bottom": null,
      "display": null,
      "flex": null,
      "flex_flow": null,
      "grid_area": null,
      "grid_auto_columns": null,
      "grid_auto_flow": null,
      "grid_auto_rows": null,
      "grid_column": null,
      "grid_gap": null,
      "grid_row": null,
      "grid_template_areas": null,
      "grid_template_columns": null,
      "grid_template_rows": null,
      "height": null,
      "justify_content": null,
      "justify_items": null,
      "left": null,
      "margin": null,
      "max_height": null,
      "max_width": null,
      "min_height": null,
      "min_width": null,
      "object_fit": null,
      "object_position": null,
      "order": null,
      "overflow": null,
      "overflow_x": null,
      "overflow_y": null,
      "padding": null,
      "right": null,
      "top": null,
      "visibility": null,
      "width": null
     }
    },
    "725573acd6e44a8f82bfbbc8747213b8": {
     "model_module": "@jupyter-widgets/controls",
     "model_name": "DescriptionStyleModel",
     "model_module_version": "1.5.0",
     "state": {
      "_model_module": "@jupyter-widgets/controls",
      "_model_module_version": "1.5.0",
      "_model_name": "DescriptionStyleModel",
      "_view_count": null,
      "_view_module": "@jupyter-widgets/base",
      "_view_module_version": "1.2.0",
      "_view_name": "StyleView",
      "description_width": ""
     }
    },
    "18abb59f6bfc43cc80c061dea2433ee2": {
     "model_module": "@jupyter-widgets/base",
     "model_name": "LayoutModel",
     "model_module_version": "1.2.0",
     "state": {
      "_model_module": "@jupyter-widgets/base",
      "_model_module_version": "1.2.0",
      "_model_name": "LayoutModel",
      "_view_count": null,
      "_view_module": "@jupyter-widgets/base",
      "_view_module_version": "1.2.0",
      "_view_name": "LayoutView",
      "align_content": null,
      "align_items": null,
      "align_self": null,
      "border": null,
      "bottom": null,
      "display": null,
      "flex": null,
      "flex_flow": null,
      "grid_area": null,
      "grid_auto_columns": null,
      "grid_auto_flow": null,
      "grid_auto_rows": null,
      "grid_column": null,
      "grid_gap": null,
      "grid_row": null,
      "grid_template_areas": null,
      "grid_template_columns": null,
      "grid_template_rows": null,
      "height": null,
      "justify_content": null,
      "justify_items": null,
      "left": null,
      "margin": null,
      "max_height": null,
      "max_width": null,
      "min_height": null,
      "min_width": null,
      "object_fit": null,
      "object_position": null,
      "order": null,
      "overflow": null,
      "overflow_x": null,
      "overflow_y": null,
      "padding": null,
      "right": null,
      "top": null,
      "visibility": null,
      "width": null
     }
    },
    "2de87a5a70f44b69b1445a9d830d5b08": {
     "model_module": "@jupyter-widgets/controls",
     "model_name": "ProgressStyleModel",
     "model_module_version": "1.5.0",
     "state": {
      "_model_module": "@jupyter-widgets/controls",
      "_model_module_version": "1.5.0",
      "_model_name": "ProgressStyleModel",
      "_view_count": null,
      "_view_module": "@jupyter-widgets/base",
      "_view_module_version": "1.2.0",
      "_view_name": "StyleView",
      "bar_color": null,
      "description_width": ""
     }
    },
    "732a074cdd5b43008972636b056883e4": {
     "model_module": "@jupyter-widgets/base",
     "model_name": "LayoutModel",
     "model_module_version": "1.2.0",
     "state": {
      "_model_module": "@jupyter-widgets/base",
      "_model_module_version": "1.2.0",
      "_model_name": "LayoutModel",
      "_view_count": null,
      "_view_module": "@jupyter-widgets/base",
      "_view_module_version": "1.2.0",
      "_view_name": "LayoutView",
      "align_content": null,
      "align_items": null,
      "align_self": null,
      "border": null,
      "bottom": null,
      "display": null,
      "flex": null,
      "flex_flow": null,
      "grid_area": null,
      "grid_auto_columns": null,
      "grid_auto_flow": null,
      "grid_auto_rows": null,
      "grid_column": null,
      "grid_gap": null,
      "grid_row": null,
      "grid_template_areas": null,
      "grid_template_columns": null,
      "grid_template_rows": null,
      "height": null,
      "justify_content": null,
      "justify_items": null,
      "left": null,
      "margin": null,
      "max_height": null,
      "max_width": null,
      "min_height": null,
      "min_width": null,
      "object_fit": null,
      "object_position": null,
      "order": null,
      "overflow": null,
      "overflow_x": null,
      "overflow_y": null,
      "padding": null,
      "right": null,
      "top": null,
      "visibility": null,
      "width": null
     }
    },
    "c4a4b276e0ab4bc181e26fed259e0c56": {
     "model_module": "@jupyter-widgets/controls",
     "model_name": "DescriptionStyleModel",
     "model_module_version": "1.5.0",
     "state": {
      "_model_module": "@jupyter-widgets/controls",
      "_model_module_version": "1.5.0",
      "_model_name": "DescriptionStyleModel",
      "_view_count": null,
      "_view_module": "@jupyter-widgets/base",
      "_view_module_version": "1.2.0",
      "_view_name": "StyleView",
      "description_width": ""
     }
    }
   }
  }
 },
 "cells": [
  {
   "cell_type": "code",
   "metadata": {
    "colab": {
     "base_uri": "https://localhost:8080/"
    },
    "id": "YoG7Z6PRakCq",
    "outputId": "aa2f26fa-ea5d-473e-b01d-53f2ae863576",
    "collapsed": true,
    "ExecuteTime": {
     "end_time": "2024-11-26T15:46:50.646142Z",
     "start_time": "2024-11-26T15:46:50.644436Z"
    }
   },
   "source": [
    "# !pip install chromadb\n",
    "# !pip install -U bitsandbytes\n",
    "# !pip install llama-cpp-python\n",
    "# !pip install rank_bm25 nltk\n"
   ],
   "outputs": [],
   "execution_count": 1
  },
  {
   "cell_type": "code",
   "source": [
    "# !pip install vllm\n",
    "# !pip install xformers\n",
    "# !pip install sentence-transformers"
   ],
   "metadata": {
    "colab": {
     "base_uri": "https://localhost:8080/",
     "height": 1000
    },
    "id": "lHwRNeRSqEMw",
    "outputId": "f8f9de25-8534-4464-d223-9319508e91e2",
    "ExecuteTime": {
     "end_time": "2024-11-26T15:46:56.066006Z",
     "start_time": "2024-11-26T15:46:56.064168Z"
    }
   },
   "outputs": [],
   "execution_count": 2
  },
  {
   "cell_type": "markdown",
   "source": [
    "# Objectives\n",
    "\n",
    "Build a simple RAG for question answering based on a light quantized LLama3.2 1B model. The goal is to answer accuratly questions concerning Warhammer 40K rules.\n",
    "\n",
    "In order to simplify the workstream I already prepared the textual data in an additional notebook. As always, the parsing is not perfect and there can be some artifacts.\n",
    "\n",
    "## Evaluation\n",
    "\n",
    "The evaluation will be decomposed alon,g the different componnents:\n",
    "- the LLM and prompting engine\n",
    "- the vectod-DB/Approximate kNN\n",
    "- The overall quality of the full RAG function\n",
    "- the quality and readibility of the code.\n",
    "\n",
    "## Overview\n",
    "\n",
    "First we will import Llama 3.2 and try some templatting and chat with the model.\n",
    "\n",
    "Secondly, we will experiment with [ChromaDB](https://docs.trychroma.com/getting-started) and build a first RAG.\n",
    "\n",
    "Finally, we will be using the headers and BM25 to try and improve the retriever.\n",
    "\n",
    "# Imports"
   ],
   "metadata": {
    "id": "Woou6eQ-ti7y"
   }
  },
  {
   "cell_type": "code",
   "source": [
    "import chromadb\n",
    "import json\n",
    "import uuid\n",
    "\n",
    "from bleach import clean\n",
    "from scipy.special import no_result\n",
    "from torch.onnx.symbolic_opset11 import chunk\n",
    "# from llama_cpp import Llama\n",
    "from transformers import AutoModelForCausalLM, AutoTokenizer\n",
    "from jinja2 import Template\n",
    "\n",
    "\n",
    "from rank_bm25 import BM25Okapi\n",
    "import nltk\n",
    "from nltk.corpus import stopwords\n",
    "from nltk.stem import SnowballStemmer\n",
    "from transformers.models.oneformer.image_processing_oneformer import prepare_metadata\n",
    "\n",
    "nltk.download('stopwords')\n"
   ],
   "metadata": {
    "colab": {
     "base_uri": "https://localhost:8080/"
    },
    "id": "OvJmaR5Z7MTw",
    "outputId": "5178a5b9-5264-47f3-e231-708ca8f59b69",
    "ExecuteTime": {
     "end_time": "2024-11-26T20:02:09.671261Z",
     "start_time": "2024-11-26T20:02:09.667697Z"
    }
   },
   "outputs": [
    {
     "name": "stderr",
     "output_type": "stream",
     "text": [
      "[nltk_data] Downloading package stopwords to /home/sidney/nltk_data...\n",
      "[nltk_data]   Package stopwords is already up-to-date!\n"
     ]
    },
    {
     "data": {
      "text/plain": [
       "True"
      ]
     },
     "execution_count": 2,
     "metadata": {},
     "output_type": "execute_result"
    }
   ],
   "execution_count": 2
  },
  {
   "cell_type": "markdown",
   "source": [
    "# Large Language Model\n",
    "\n",
    "## CPU implementation\n",
    "\n",
    "Use the llama-cpp 'from_pretrained' function to import a LLM from the [\"bartowski/Llama-3.2-1B-Instruct-GGUF\"](https://huggingface.co/bartowski/Llama-3.2-1B-Instruct-GGUF) collection in the CPU.\n",
    "\n",
    "It can be used as a fallback if you're GPU credit is finished.\n",
    "\n",
    "**Clean the output and remove special tokens and the input prompt from the answer**"
   ],
   "metadata": {
    "id": "wXtY3uiahEhT"
   }
  },
  {
   "cell_type": "code",
   "source": [
    "# dont run \n",
    "# llm = Llama.from_pretrained(\n",
    "    # repo_id=\"bartowski/Llama-3.2-1B-Instruct-GGUF\",\n",
    "    # filename=\"*Q8_0.gguf\",\n",
    "    # verbose=False,\n",
    "    # n_ctx=4096,\n",
    "    # device = 'cuda'\n",
    "# )"
   ],
   "metadata": {
    "id": "3v2WV5rocFoM",
    "colab": {
     "base_uri": "https://localhost:8080/",
     "height": 194,
     "referenced_widgets": [
      "88bef13b59e24112be1bb9d5cd5ba7ab",
      "065a007246ff4729b2cbecf31131483a",
      "633b95cb52e446c89198411d82bbf8a8",
      "37831f687770434eb4faadd199bd9b44",
      "cc67b3eef19b4f71bf93ebf2a7f6df17",
      "59b9578f26304bcf9175daed0e343863",
      "f833faae71734a95b9d2f21fff627425",
      "21a3f478b2a0442cad6bca8aee8ca4df",
      "1f84d3dcc03049848c8c49a2127492fe",
      "c2d92962b7154fd9922da6133b705970",
      "1d97aa62c0d445d1b4207d466b9fff94"
     ]
    },
    "outputId": "fce6e88f-9bf6-4de8-b18d-66d6e24d16fd"
   },
   "execution_count": null,
   "outputs": [
    {
     "output_type": "stream",
     "name": "stderr",
     "text": [
      "/usr/local/lib/python3.10/dist-packages/huggingface_hub/utils/_auth.py:94: UserWarning: \n",
      "The secret `HF_TOKEN` does not exist in your Colab secrets.\n",
      "To authenticate with the Hugging Face Hub, create a token in your settings tab (https://huggingface.co/settings/tokens), set it as secret in your Google Colab and restart your session.\n",
      "You will be able to reuse this secret in all of your notebooks.\n",
      "Please note that authentication is recommended but still optional to access public models or datasets.\n",
      "  warnings.warn(\n"
     ]
    },
    {
     "output_type": "display_data",
     "data": {
      "text/plain": [
       "Llama-3.2-1B-Instruct-Q8_0.gguf:   0%|          | 0.00/1.32G [00:00<?, ?B/s]"
      ],
      "application/vnd.jupyter.widget-view+json": {
       "version_major": 2,
       "version_minor": 0,
       "model_id": "88bef13b59e24112be1bb9d5cd5ba7ab"
      }
     },
     "metadata": {}
    },
    {
     "output_type": "stream",
     "name": "stderr",
     "text": [
      "llama_new_context_with_model: n_ctx_per_seq (4096) < n_ctx_train (131072) -- the full capacity of the model will not be utilized\n"
     ]
    }
   ]
  },
  {
   "cell_type": "markdown",
   "source": [
    "## GPU Implementation\n",
    "\n",
    "Use HuggingFace transformer library to load and generate text using [\"unsloth/Llama-3.2-1B-Instruct\"](https://huggingface.co/unsloth/Llama-3.2-1B-Instruct) models."
   ],
   "metadata": {
    "id": "9XLfeC37h8GP"
   }
  },
  {
   "cell_type": "code",
   "source": [
    "# Import model\n",
    "import torch\n",
    "device = \"cuda\" if torch.cuda.is_available() else \"cpu\"\n",
    "model_name = \"unsloth/Llama-3.2-1B-Instruct\"\n",
    "tokenizer = AutoTokenizer.from_pretrained(model_name)\n",
    "model_gpu = AutoModelForCausalLM.from_pretrained(model_name).to(device)\n"
   ],
   "metadata": {
    "id": "Ht6D8FnjRN50",
    "colab": {
     "base_uri": "https://localhost:8080/",
     "height": 319,
     "referenced_widgets": [
      "862ca2fabb554a1bae4a25b8e526d6d4",
      "99e9e9a262a143a9b5e6c8e3122df244",
      "0d647de811794cd5a39bc1c32194dc84",
      "a85c718b393b4a9e8e076f9d2cb38cc4",
      "adb699c2ed4d430f971fc493d8215455",
      "e9287a2569544315a660a3634bc33ec7",
      "7623589b71c245cc87f198555263c541",
      "93f9a86e3bdf4cdaaf2ee60409dece0d",
      "aeb41c7374c34a2b8d02b74741c68ba2",
      "9b4565eea75e4765b6c8fee310e45a13",
      "ad445c23a3cd4f02850758418e21d218",
      "bd4338c6442c41e7aca93873f32eb625",
      "d90cc513de5d44d8b7eaeba858a2b00b",
      "b786c287e51349018c46a81d95c98ecc",
      "6880fdf4d88b4a68abe34159da86713f",
      "10843e14765b4e689af27d05ed748c13",
      "e5dded4cb8bb450e937f2ec9427fe039",
      "10b50e77ea5b4530aa4dbb191848915d",
      "f299c57d2b9e4d8ebcb8bb6b5582c903",
      "9d6c0b669c43425ea83cebbdd9c574b9",
      "2c083c1a81c34c598625e674d096f3cb",
      "01afa306c3ab415488237478c18f5059",
      "6989e687ee3d4bedacef767155dd864a",
      "be586fe4d2034ee7872b7ffcadb13960",
      "218a7f3702204abf9cae1c4f779dfa1c",
      "6d73555bbdc64ffdaebb2d0b2e46a16e",
      "06f1de71e15d403885bbef3dc7b39c88",
      "da9c29453e0c4221932f601f8d1d96f8",
      "6e77488fd6d641ba91353e703e685bcf",
      "24aca86e7dff4ea29b9a3b7fe3696682",
      "678021592d97481e946ea1de9d4aa3d5",
      "82c46a8838344de19a144c82d2c0298e",
      "9416bc49ff0f42fa85f9de2b349b2ad4",
      "8e77054d24224f98adb68fc49612bf4d",
      "7354785918ae4167898a1fb31f9346cc",
      "ad9e6bb65af64c03900dc9482ad43cda",
      "db19e8ccbadd48848fa0aabd7736687c",
      "14f32840403f48649f53e2a6b418194a",
      "b74cef31ead64b999098cc5ca0c98a5c",
      "6b373b3543e44f259889b8de78d454cf",
      "0ccc520e830449c98c642c409f92135c",
      "66b048b4bb3545d6bbebd1532dbee8ac",
      "34506f477c584c88871ffa8dbfbd7360",
      "ff1a0dee439b42bbb82d4b0879d9e99c",
      "b11f65b8c8854371a46f27ab920a56e4",
      "e7bffe80ec9c47a8bb96a48dcde1160c",
      "aa252e4a6538419c94bdd2babfbbe1ef",
      "5006c8414a4c46548e141909ac4e41ca",
      "6aa2ad4f3a174e4e8de0f061a1dab472",
      "b5926238246d4c2db762fc5047581b22",
      "04b57b3b26b94605ac346a987014ffb9",
      "f87e50cc281c44769aaa5f89c4aba34d",
      "a261e6fd860e4b36a54ce995a880c5d3",
      "67b8de9759964be7a5f49203cbb18dd9",
      "133ebe20cca84a959ba3ea9310645527",
      "8237fdf12572471c8dff78be91dfc233",
      "0a4d42db506249dd85295c398ea9bf0f",
      "7027645c2a9849ee97b70ef024e8e4aa",
      "f9909350975748b2be77cbec8674e283",
      "96ed194e8dcb4ea2a8b08bfc8076b34f",
      "7446f5c017c04272a0c78a05f0ce5875",
      "725573acd6e44a8f82bfbbc8747213b8",
      "18abb59f6bfc43cc80c061dea2433ee2",
      "2de87a5a70f44b69b1445a9d830d5b08",
      "732a074cdd5b43008972636b056883e4",
      "c4a4b276e0ab4bc181e26fed259e0c56"
     ]
    },
    "outputId": "997f50be-7926-4490-cedf-208037adbda1",
    "ExecuteTime": {
     "end_time": "2024-11-26T20:02:18.527824Z",
     "start_time": "2024-11-26T20:02:15.217946Z"
    }
   },
   "outputs": [],
   "execution_count": 3
  },
  {
   "cell_type": "code",
   "source": [
    "def create_prompt(prompt_content):\n",
    "  return [\n",
    "      {\"role\":\"system\",\"content\":\"You are an expert in a specific field\"},\n",
    "      {\"role\":\"user\",\"content\": prompt_content}\n",
    "      ]\n",
    "def generate_prompt(tokenizer,prompt):\n",
    "  message = create_prompt(prompt)\n",
    "  return tokenizer.apply_chat_template(\n",
    "      message,\n",
    "      tokenize= False,\n",
    "      add_generation_prompt=True,\n",
    "  )\n",
    "def get_reponse(full_response):\n",
    "  sentences = full_response.split(\"|start_header_id|>assistant<|end_header_id|>\")\n",
    "  desired_out = sentences[1]\n",
    "  out = ''.join(desired_out)\n",
    "  out = out.strip().replace(\"<|eot_id|>\", \"\")\n",
    "\n",
    "  return out"
   ],
   "metadata": {
    "id": "3p6To2HcxyOd",
    "ExecuteTime": {
     "end_time": "2024-11-26T20:02:21.334221Z",
     "start_time": "2024-11-26T20:02:21.331504Z"
    }
   },
   "outputs": [],
   "execution_count": 4
  },
  {
   "cell_type": "code",
   "source": [
    "## XU: one case example\n",
    "# prompt = \"who are you\"\n",
    "\n",
    "# formatted_prompt = generate_prompt(tokenizer=tokenizer,prompt=prompt)\n",
    "# # print(formatted_prompt)\n",
    "\n",
    "# encoded_prompt = tokenizer.encode(formatted_prompt,return_tensors='pt').to(device)\n",
    "\n",
    "# out = model_gpu.generate(encoded_prompt,max_new_tokens=50)\n",
    "\n",
    "# generated = tokenizer.decode(out[0])\n",
    "# # print(generated)\n",
    "# cleaned_return = get_reponse(tokenizer.decode(out[0]))\n",
    "\n",
    "# print(cleaned_return)\n",
    "\n",
    "\n",
    "# # )\n",
    "# # tokenized_version = tokenizer.encode(messages,return_tensors=\"pt\").to('cuda')\n",
    "# # # tokenized_version\n",
    "# # out = model_gpu.generate(tokenized_version,max_new_tokens=50)\n",
    "# # tokenizer.decode(out[0])"
   ],
   "metadata": {
    "colab": {
     "base_uri": "https://localhost:8080/"
    },
    "id": "A5_sI9nstJmc",
    "outputId": "2a103786-d465-4588-86f9-a3eacb6e6ea4"
   },
   "execution_count": null,
   "outputs": [
    {
     "output_type": "stream",
     "name": "stderr",
     "text": [
      "The attention mask and the pad token id were not set. As a consequence, you may observe unexpected behavior. Please pass your input's `attention_mask` to obtain reliable results.\n",
      "Setting `pad_token_id` to `eos_token_id`:None for open-end generation.\n"
     ]
    },
    {
     "output_type": "stream",
     "name": "stdout",
     "text": [
      "I'm an artificial intelligence model known as Llama. Llama stands for \"Large Language Model Meta AI.\"\n"
     ]
    }
   ]
  },
  {
   "cell_type": "code",
   "source": [
    "def llm_complete(prompt, max_tokens=2048,if_jinja=False):\n",
    "    # Fill it\n",
    "    # get formatted prompt\n",
    "    if  if_jinja:\n",
    "      formatted_prompt = prompt\n",
    "    else:\n",
    "      formatted_prompt = generate_prompt(tokenizer=tokenizer, prompt=prompt)\n",
    "\n",
    "    # tokenizer\n",
    "    encode_prompt = tokenizer(formatted_prompt,\n",
    "                              return_tensors='pt',\n",
    "                              padding=True,\n",
    "                              truncation=True,\n",
    "                              return_attention_mask=True).to('cuda')\n",
    "\n",
    "    #generate\n",
    "    generation_config = {\n",
    "        \"max_new_tokens\": max_tokens,\n",
    "        \"pad_token_id\": tokenizer.eos_token_id,\n",
    "        \"eos_token_id\": tokenizer.eos_token_id,\n",
    "\n",
    "    }\n",
    "    outputs = model_gpu.generate(\n",
    "        input_ids=encode_prompt.input_ids,\n",
    "        attention_mask=encode_prompt.attention_mask,\n",
    "        **generation_config\n",
    "    )\n",
    "\n",
    "    # clean output\n",
    "    answer_only = get_reponse(tokenizer.decode(outputs[0]))\n",
    "\n",
    "\n",
    "    return answer_only"
   ],
   "metadata": {
    "id": "IiaPApNKsIjM",
    "ExecuteTime": {
     "end_time": "2024-11-26T20:02:26.803775Z",
     "start_time": "2024-11-26T20:02:26.801453Z"
    }
   },
   "outputs": [],
   "execution_count": 5
  },
  {
   "cell_type": "markdown",
   "source": [
    "## Initial LLM experiments\n",
    "\n",
    "### Prompt Template\n",
    "Create a Jinja2 ``Template`` to add the llama 3.2 (same as llama 3.1) sepcial tokens in order to optionnaly set roles and wrap a user prompt."
   ],
   "metadata": {
    "id": "n_PcFlbricLt"
   }
  },
  {
   "cell_type": "code",
   "source": [
    "prompt_template = Template(\n",
    "    \"\"\"\n",
    "<|begin_of_text|><|start_header_id|>system<|end_header_id|>\n",
    "{{ role }}<|eot_id|><|start_header_id|>user<|end_header_id|>\n",
    "{{ input }}<|eot_id|><|start_header_id|>assistant<|end_header_id|>\n",
    "    \"\"\"\n",
    ")"
   ],
   "metadata": {
    "id": "Vaxz8clU67-o",
    "ExecuteTime": {
     "end_time": "2024-11-26T20:02:29.434712Z",
     "start_time": "2024-11-26T20:02:29.431448Z"
    }
   },
   "outputs": [],
   "execution_count": 6
  },
  {
   "cell_type": "markdown",
   "source": [
    "### Play with the LLM\n",
    "\n",
    "Try to trigger different model behaviours by changing the role for a same question. For example, use the prompt  'tell me a joke !' with different roles."
   ],
   "metadata": {
    "id": "NGY-b6Pgi2LJ"
   }
  },
  {
   "cell_type": "code",
   "source": [
    "input = {'role':'you are a depressed clown' ,'input': 'tell me a joke !'}\n",
    "input_2 = {'role':'you are a clown for children' ,'input': 'tell me a joke !'}\n"
   ],
   "metadata": {
    "id": "TBxuNhng79hQ",
    "ExecuteTime": {
     "end_time": "2024-11-26T20:02:32.243710Z",
     "start_time": "2024-11-26T20:02:32.241409Z"
    }
   },
   "outputs": [],
   "execution_count": 7
  },
  {
   "cell_type": "code",
   "source": [
    "prompt1 = prompt_template.render(**input)\n",
    "\n",
    "prompt2 = prompt_template.render(**input_2)"
   ],
   "metadata": {
    "id": "Dj8Zi-45Rf2Y",
    "ExecuteTime": {
     "end_time": "2024-11-26T20:02:36.258968Z",
     "start_time": "2024-11-26T20:02:36.256544Z"
    }
   },
   "outputs": [],
   "execution_count": 8
  },
  {
   "cell_type": "code",
   "source": [
    "out1 = llm_complete(prompt1,if_jinja=True)\n",
    "print(out1)"
   ],
   "metadata": {
    "id": "WaJRPvlo8UIj",
    "colab": {
     "base_uri": "https://localhost:8080/",
     "height": 54
    },
    "outputId": "bdf0af92-9af1-429f-91dc-44157f71eb08",
    "ExecuteTime": {
     "end_time": "2024-11-26T20:02:38.017302Z",
     "start_time": "2024-11-26T20:02:37.239913Z"
    }
   },
   "outputs": [
    {
     "name": "stdout",
     "output_type": "stream",
     "text": [
      "*sigh*  Okay...  Why did the clown resign from the circus? *pauses*  Because he was tired of working for peanuts.\n"
     ]
    }
   ],
   "execution_count": 9
  },
  {
   "cell_type": "code",
   "source": [
    "out2 = llm_complete(prompt2,if_jinja=True)\n",
    "\n",
    "print(out2)"
   ],
   "metadata": {
    "colab": {
     "base_uri": "https://localhost:8080/",
     "height": 35
    },
    "id": "vVVOSpNO4Xp-",
    "outputId": "fa32884b-57e8-41cf-86cf-ab96b6678825",
    "ExecuteTime": {
     "end_time": "2024-11-26T20:02:39.338709Z",
     "start_time": "2024-11-26T20:02:39.100153Z"
    }
   },
   "outputs": [
    {
     "name": "stdout",
     "output_type": "stream",
     "text": [
      "why did the clown resign from the circus?\n",
      "Because he was tired of working for peanuts!\n"
     ]
    }
   ],
   "execution_count": 10
  },
  {
   "cell_type": "markdown",
   "source": [
    "What do you think ?\n",
    "\n",
    "\n"
   ],
   "metadata": {
    "id": "kKQafvd_-GRZ"
   }
  },
  {
   "cell_type": "markdown",
   "source": [
    "# Retriever"
   ],
   "metadata": {
    "id": "nRupn_MwAR6B"
   }
  },
  {
   "cell_type": "code",
   "source": "import chromadb.utils.embedding_functions as embedding_functions\n",
   "metadata": {
    "id": "m43EsLN3CI3E",
    "ExecuteTime": {
     "end_time": "2024-11-26T20:02:42.500529Z",
     "start_time": "2024-11-26T20:02:42.498320Z"
    }
   },
   "outputs": [],
   "execution_count": 11
  },
  {
   "cell_type": "code",
   "source": [
    "client = chromadb.Client()\n",
    "stf_function = embedding_functions.SentenceTransformerEmbeddingFunction(model_name=\"all-MiniLM-L6-v2\")"
   ],
   "metadata": {
    "id": "vR5FLZ60_XKz",
    "collapsed": true,
    "ExecuteTime": {
     "end_time": "2024-11-26T20:02:45.512561Z",
     "start_time": "2024-11-26T20:02:43.856085Z"
    }
   },
   "outputs": [],
   "execution_count": 12
  },
  {
   "cell_type": "code",
   "source": [
    "collection = client.create_collection(name=\"warhammer_40k\",\n",
    "                                      metadata={\"hnsw:space\": \"cosine\"},\n",
    "                                      embedding_function=stf_function)"
   ],
   "metadata": {
    "id": "MG_pDO0oBi8p",
    "colab": {
     "base_uri": "https://localhost:8080/",
     "height": 347
    },
    "outputId": "91f04d0e-c536-4fa1-9ce8-96bd11cfa133",
    "ExecuteTime": {
     "end_time": "2024-11-26T20:02:46.631857Z",
     "start_time": "2024-11-26T20:02:46.622462Z"
    }
   },
   "outputs": [],
   "execution_count": 13
  },
  {
   "metadata": {
    "ExecuteTime": {
     "end_time": "2024-11-26T16:27:54.183773Z",
     "start_time": "2024-11-26T16:27:54.182187Z"
    }
   },
   "cell_type": "code",
   "source": "",
   "outputs": [],
   "execution_count": null
  },
  {
   "metadata": {},
   "cell_type": "markdown",
   "source": [
    "# What does previous three cells do? \n",
    "\n",
    "1. import the ChromaDB's embedding function and initialize ChromaDB server \n",
    "2. Create a sentence-transformer embedding function, with all mininLM as the embedding model, this model will convert text into vectorial representation\n",
    "3. A new collection called warharmmer_40k has been established \n",
    "4. cosine similarity will be the matrix , and the embedding function will be stf_function \n",
    "----\n",
    "next: \n",
    "1. prepare the data\n",
    "2. use collection.add() add the document and its embedding into the db\n",
    "3. use collection.query to make query "
   ]
  },
  {
   "cell_type": "code",
   "source": [
    "with open('/home/sidney/PycharmProjects/RAG_Project/data/processed/chunks.json', 'r') as f:\n",
    "    chunks = json.load(f)\n",
    "\n",
    "# Check the different field of the JSON what do you think?"
   ],
   "metadata": {
    "id": "vqJldKIUCip5",
    "ExecuteTime": {
     "end_time": "2024-11-26T20:02:49.667987Z",
     "start_time": "2024-11-26T20:02:49.665088Z"
    }
   },
   "outputs": [],
   "execution_count": 14
  },
  {
   "metadata": {},
   "cell_type": "code",
   "outputs": [],
   "execution_count": null,
   "source": "chunks "
  },
  {
   "metadata": {
    "ExecuteTime": {
     "end_time": "2024-11-26T20:02:51.266532Z",
     "start_time": "2024-11-26T20:02:51.264663Z"
    }
   },
   "cell_type": "code",
   "source": "",
   "outputs": [],
   "execution_count": null
  },
  {
   "cell_type": "code",
   "source": [
    "chunks"
   ],
   "metadata": {
    "colab": {
     "base_uri": "https://localhost:8080/"
    },
    "id": "S_5OTbpN7nSB",
    "outputId": "f621c535-7c85-419b-9a37-91a55698b476",
    "ExecuteTime": {
     "end_time": "2024-11-26T20:02:52.663222Z",
     "start_time": "2024-11-26T20:02:52.647704Z"
    }
   },
   "outputs": [
    {
     "data": {
      "text/plain": [
       "[{'id': None,\n",
       "  'metadata': {'Header 1': 'Core Rules'},\n",
       "  'page_content': \"'We are beset on all sides by vile predatory aliens and sedition gnaws at us from within; in this dark hour the best we can do is look to our wargear and pray to our gods.'\\n- Skolak a'Trellar IV, Imperial Commander  \\n200 STORE\",\n",
       "  'type': 'Document'},\n",
       " {'id': None,\n",
       "  'metadata': {'Header 1': 'Introduction'},\n",
       "  'page_content': '++ THERE IS NO TIME FOR PEACE. NO RESPITE. NO FORGIVENESS. THERE IS ONLY WAR. ++\\nWelcome to the Warhammer 40,000 Core Rules! The following pages contain everything you need to know in order to wage glorious battle across the war-torn galaxy of the 41st Millennium. Warhammer 40,000 is a tabletop war game in which players command armies of Citadel miniatures and attempt to defeat their opponent through a mixture of skill, tactics and luck. Storytelling is at the core of Warhammer 40,000, with the rules designed to bring to life the epic conflicts between the forces of Mankind, aliens and daemons in the grim darkness of the far future. The purpose of the game is for all players to have an enjoyable shared experience, putting their tactical skills to the test while admiring the spectacle of amazing miniatures clashing on fantastic battlefields. In this spirit, good sportsmanship and politeness are at the heart of the game.',\n",
       "  'type': 'Document'},\n",
       " {'id': None,\n",
       "  'metadata': {'Header 1': 'Introduction'},\n",
       "  'page_content': 'Games of Warhammer 40,000 are won by scoring more Victory points than your opponent through achieving various objectives, from recovering vital relics to capturing enemy strongholds or eliminating the opposing Warlord. The game is played in a series of battle rounds, broken into different phases during which players move, shoot and fight with their miniatures.  \\nIn a game as wide-ranging as Warhammer 40,000, there may be times when you are not sure exactly how to resolve a situation that has come up during play. When this happens, have a quick chat with your opponent and apply the solution that makes the most sense to both of you (or seems the most fun!). If no single solution presents itself, you and your opponent should roll off, and whoever rolls highest gets to choose what happens. Then you can get on with the fighting!',\n",
       "  'type': 'Document'},\n",
       " {'id': None,\n",
       "  'metadata': {'Header 1': 'Introduction',\n",
       "   'Header 2': 'Core Concepts (Pg 5-9)'},\n",
       "  'page_content': \"An introduction to the essential rules terms and concepts that underpin every Warhammer 40,000 battle.  \\n#### Determining Visibility Warhammer 40,000 Uses True Line Of Sight To Determine Visibility Between Models. To Check This, Get A 'Model'S\",\n",
       "  'type': 'Document'},\n",
       " {'id': None,\n",
       "  'metadata': {'Header 1': 'Introduction',\n",
       "   'Header 2': 'The Battle Round (Pg 10-36)'},\n",
       "  'page_content': \"From manoeuvring your army to unleashing thunderous firepower and brutal assaults, the action in Warhammer 40,000 unfolds in a series of battle rounds in which each player takes a turn.  \\nobserving model can see through other models in its unit, and a model's base is also part of that model.  \\nMODEL VISIBLE\\nIf any part of another model can be seen from any part of the observing model, that other model is visible to of battle.  \\nModel Visible  \\n#### Unit Visible If One Or More Models In A Unit Is Visible To The Observing Model, Then That Model'S Unit Is Visible To The Observing Model.\",\n",
       "  'type': 'Document'},\n",
       " {'id': None,\n",
       "  'metadata': {'Header 1': 'Introduction',\n",
       "   'Header 2': 'Datasheets And Unit Abilities (Pg 37-39)'},\n",
       "  'page_content': 'MODEL FULLY VISIBLE\\nIf every part of another model that is facing the observing model can be seen from any part of the observing model, then that other model is said Every Warhammer 40,000 unit has a datasheet, reflecting the characteristics and abilities they can draw upon in battle.  \\nUnit Visible  \\n#### Has Line Of Sight To All Parts Of The Other Model That Are Facing It, Without Any Other Models Or Terrain Features Blocking Visibility To Any Of Those Parts. Unit Fully Visible',\n",
       "  'type': 'Document'},\n",
       " {'id': None,\n",
       "  'metadata': {'Header 1': 'Introduction',\n",
       "   'Header 2': 'Strategic Reserves And Stratagems (Pg 41-43)'},\n",
       "  'page_content': 'If every model in a unit is fully visible to an observing model, then that unit is fully visible to that observing model. For the purposes of determining if an enemy unit is One model in this unit is visible, meaning the unit is visible.  \\nFrom well-timed Strategic Reserves to deftly executed Stratagems, gifted generals make use of all the tactical advantages at their disposal.  \\nModel Fully Visible  \\n#### Unit It Is Observing.',\n",
       "  'type': 'Document'},\n",
       " {'id': None,\n",
       "  'metadata': {'Header 1': 'Introduction',\n",
       "   'Header 2': 'Terrain Features (Pg 44-52)'},\n",
       "  'page_content': \"- **Model Visible:** If any part of a model can be seen, it is visible.  \\n- **Unit Visible:** If any model in a unit is visible, that model's unit is visible.  \\n- **Model Fully Visible:** If every Warhammer 40,000 battles are fought across all manner of grim and perilous landscapes, often strewn with ruins, wreckage and other obstacles your forces must navigate while they fight.  \\n#### - Unit Fully Visible: If Every Model In A Unit Is Fully Visible, That Unit Is\",\n",
       "  'type': 'Document'},\n",
       " {'id': None,\n",
       "  'metadata': {'Header 1': 'Introduction',\n",
       "   'Header 2': 'Muster Your Army (Pg 55-56)'},\n",
       "  'page_content': 'fully visible.  \\nUse these steps before battle to organise your warriors and war machines into a formidable fighting force.  \\n#### 5',\n",
       "  'type': 'Document'},\n",
       " {'id': None,\n",
       "  'metadata': {'Header 1': 'Introduction', 'Header 2': 'Missions (Pg 57-60)'},\n",
       "  'page_content': \"Before committing your forces to war, you must first establish your strategic goals and the nature of the battlefield to be fought over. This section presents the essential steps involved in preparing for any kind of Warhammer 40,000 battle.  \\n#### Abilities  \\nMany units in Warhammer 40,000 have one or more abilities listed on their datasheets that they can use in battle. Some of the most common of these are not written out in full on those datasheets, but are instead only referenced by name; the full details of these can be found on the Core Rules pages ahead, marked with the symbol shown on the right.  \\nCORE CONCEPTS\\nThis section introduces various rules terms that you will find throughout the Core Rules and beyond.  \\nThese key concepts form the basis of the Warhammer 40,000 rules, and are essential for every kind perspective' view by looking from behind the observing model. For the purposes of determining visibility, an  \\n#### The Observing Model.  \\nENGAGEMENT RANGE\",\n",
       "  'type': 'Document'},\n",
       " {'id': None,\n",
       "  'metadata': {'Header 1': 'Introduction', 'Header 2': 'Missions (Pg 57-60)'},\n",
       "  'page_content': 'ENGAGEMENT RANGE  \\nEngagement Range represents the zone of threat that models present to their enemies. While a model is within 1\" horizontally and 5\" vertically of an enemy model, those models - and their units - are within Engagement Range of each other.  \\nModels cannot be set up or end a Normal, Advance or Fall Back move within Engagement Range of any enemy models. If for any reason a model cannot meet this condition, that model is destroyed.  \\n- **Engagement Range:** Within 1\" horizontally and\\nto be fully visible to the observing  \\n5\" vertically.\\nmodel, i.e. the observing model  \\n- Models cannot be set up within Engagement Range of  \\n- **Army:** All of the models under your command.  \\nphysically possible to place the model enemy models.  \\nin the desired location, you may find it helps to leave a model in a safer BATTLEFIELD',\n",
       "  'type': 'Document'},\n",
       " {'id': None,\n",
       "  'metadata': {'Header 1': 'Introduction', 'Header 2': 'Missions (Pg 57-60)'},\n",
       "  'page_content': 'Battles of Warhammer 40,000 are fought on rectangular battlefields. This can be any surface upon which the models can stand - a dining table, for example, or the floor. Your mission will guide you as to the size of battlefield required. TERRAIN FEATURES\\nThe scenery on a battlefield can be represented by models from the Warhammer 40,000 range. These models are called terrain\\nare in.  \\nfeatures to differentiate them from the models that make up an army. Terrain features are set up on the battlefield before the\\nfully visible, an observing model  \\nbattle begins. You can find out more about terrain features on pages 44-48.\\ncan see through other models in the  \\nUnless the mission you are playing instructs you otherwise, you should feel free to create an exciting battlefield using any terrain features from your collection.  \\nMEASURING DISTANCES\\nDistances in Warhammer 40,000 are measured in inches (\"). You  \\n#### Datasheets  \\ncan measure distances whenever you wish.',\n",
       "  'type': 'Document'},\n",
       " {'id': None,\n",
       "  'metadata': {'Header 1': 'Introduction', 'Header 2': 'Missions (Pg 57-60)'},\n",
       "  'page_content': 'When measuring the distance between models, measure between the closest points of the bases of the models you\\'re measuring to and from. If a model does not have a base,\\nfacing part of a model can be  \\nmeasure to the closest point of any part of that model instead.  \\n#### Seen, It Is Fully Visible. Unit Fully Visible  \\nIf a rule says it applies \\'within\\' a certain distance, it applies at any distance that is not more than the specified distance. For example, within 1\" means any distance that is not more than 1\" away.  \\n#### Missions Hints And Tips  \\nTo play a game of Warhammer 40,000, you must first select a mission. The mission will tell you how to muster your armies, create your battlefield and deploy your forces on the tabletop.  \\nIt will also tell you any special rules that apply to the battle, and (most importantly!) what you need to do to win. You can find out more about missions on pages 57-58.  \\nARMIES',\n",
       "  'type': 'Document'},\n",
       " {'id': None,\n",
       "  'metadata': {'Header 1': 'Introduction', 'Header 2': 'Missions (Pg 57-60)'},\n",
       "  'page_content': \"ARMIES\\nEach player in a game of Warhammer 40,000 commands an army of Citadel miniatures, hereafter referred to as models. The mission you have selected will guide you as to how big your army should be.  \\nSome pages feature Hints and Tips, covering topics like dice-rolling practices and how to ensure you don't damage your models while moving them around the battlefield. Note that these are not rules, they are simply pieces of advice you may find useful to apply to your own games.  \\nIn cases like this, provided it is still  \\n#### Summaries  \\nposition, provided both players agree and know its 'actual' location. If, later on, an enemy model is shooting the model, you will have to hold it back in place so that visibility can be determined.  \\nUNITS\",\n",
       "  'type': 'Document'},\n",
       " {'id': None,\n",
       "  'metadata': {'Header 1': 'Introduction', 'Header 2': 'Missions (Pg 57-60)'},\n",
       "  'page_content': \"UNITS\\nModels move and fight in units. A unit can have one or more models from a single datasheet (see below). Models and units from the same army are said to be friendly in relation to each other. Models and units from your opponent's army are referred to as enemy models and units. If a rule affects 'models' or 'units' without specifying that they are friendly or enemy, that rule affects all models or all units, regardless of whose army they Some rules on the pages ahead include bullet-pointed summaries for quick reference purposes. Note that these are not comprehensive, and you should always consult the full rules if you are unsure.  \\n#### The Rules You Will Need To Use Your Models In Games Are Presented On Datasheets. Each Unit Has A Datasheet; Page Numbers  \\nyou will need the datasheets for all the units from your army. You can find out more about datasheets on pages 37-38.  \\nKEYWORDS\",\n",
       "  'type': 'Document'},\n",
       " {'id': None,\n",
       "  'metadata': {'Header 1': 'Introduction', 'Header 2': 'Missions (Pg 57-60)'},\n",
       "  'page_content': \"KEYWORDS\\nAll datasheets have a list of keywords, separated into Faction keywords and other keywords. Faction keywords can be used to help you decide which models to include in your army, but otherwise both sets of keywords are functionally the same.  \\nIn either case, keywords appear in **Keyword Bold**. Keywords are sometimes linked to (or 'tagged' by) a rule. For example, a rule might say that it applies to **Infantry** units. This means it only applies to units that have the **Infantry** keyword on their datasheet. The pluralisation (or otherwise) of keywords does not affect which units the rule in question applies to.\",\n",
       "  'type': 'Document'},\n",
       " {'id': None,\n",
       "  'metadata': {'Header 1': 'Introduction', 'Header 2': 'Missions (Pg 57-60)'},\n",
       "  'page_content': 'Throughout the Core Rules you will find page numbers shown within stylised triangles (see below). These function independently from any other page numbers within a publication; any page references found within the Core Rules - and any page references to the Core Rules found elsewhere - are based on this system, and do not relate to any other page numbers outside of the Core Rules.  \\n7 CORE RULES | CORE CONCEPTS',\n",
       "  'type': 'Document'},\n",
       " {'id': None,\n",
       "  'metadata': {'Header 1': 'Core Concepts'},\n",
       "  'page_content': 'This section introduces various rules terms that you will find throughout the Core Rules and beyond. These key concepts form the basis of the Warhammer 40,000 rules, and are essential for every kind of battle.',\n",
       "  'type': 'Document'},\n",
       " {'id': None,\n",
       "  'metadata': {'Header 1': 'Core Concepts', 'Header 2': 'Missions'},\n",
       "  'page_content': 'To play a game of Warhammer 40,000, you must first select a mission. The mission will tell you how to muster your armies, create your battlefield and deploy your forces on the tabletop. It will also tell you any special rules that apply to the battle, and (most importantly!) what you need to do to win. You can find out more about missions on pages 57-58.',\n",
       "  'type': 'Document'},\n",
       " {'id': None,\n",
       "  'metadata': {'Header 1': 'Core Concepts', 'Header 2': 'Armies'},\n",
       "  'page_content': \"Each player in a game of Warhammer 40,000 commands an army of Citadel miniatures, hereafter referred to as models. The mission you have selected will guide you as to how big your army should be.  \\n- **Army:** All of the models under your command.  \\n#### Units  \\nModels move and fight in units. A unit can have one or more models from a single datasheet (see below). Models and units from the same army are said to be friendly in relation to each other. Models and units from your opponent's army are referred to as enemy models and units. If a rule affects 'models' or 'units' without specifying that they are friendly or enemy, that rule affects all models or all units, regardless of whose army they are in.  \\n- **Unit:** One or more models from the same datasheet. - **Friendly Models/Units:** All models/units from the same army.  \\n- **Enemy Models/Units:** All models/units from your opponent's army.  \\n#### Datasheets\",\n",
       "  'type': 'Document'},\n",
       " {'id': None,\n",
       "  'metadata': {'Header 1': 'Core Concepts', 'Header 2': 'Armies'},\n",
       "  'page_content': \"#### Datasheets  \\nThe rules you will need to use your models in games are presented on datasheets. Each unit has a datasheet; you will need the datasheets for all the units from your army. You can find out more about datasheets on pages 37-38.  \\n#### Keywords  \\nAll datasheets have a list of keywords, separated into Faction keywords and other keywords. Faction keywords can be used to help you decide which models to include in your army, but otherwise both sets of keywords are functionally the same.  \\nIn either case, keywords appear in **Keyword Bold**. Keywords are sometimes linked to (or 'tagged' by) a rule. For example, a rule might say that it applies to **Infantry** units. This means it only applies to units that have the **Infantry** keyword on their datasheet. The pluralisation (or otherwise) of keywords does not affect which units the rule in question applies to.  \\n#### Unit Coherency\",\n",
       "  'type': 'Document'},\n",
       " {'id': None,\n",
       "  'metadata': {'Header 1': 'Core Concepts', 'Header 2': 'Armies'},\n",
       "  'page_content': 'A unit that contains more than one model must be set up and end any kind of move as a single group, with all of its models within 2\" horizontally and 5\" vertically of at least one other model from that unit. While a unit has seven or more models, all of its models must instead be set up and end any kind of move within 2\" horizontally and 5\" vertically of at least two other models from that unit. This is called Unit Coherency. If for any reason a model cannot be set up in Unit Coherency, that model is destroyed. If a unit cannot end a move in Unit Coherency, it cannot make that move and its models are returned to their previous positions. At the end of every turn, each player must remove models, one at a time, from any of the units from their armies that are no longer in Unit Coherency, until only a single group of models from each of those units remains in play and in Unit Coherency. Models removed in this way count as having been destroyed, but they never trigger any rules that apply',\n",
       "  'type': 'Document'},\n",
       " {'id': None,\n",
       "  'metadata': {'Header 1': 'Core Concepts', 'Header 2': 'Armies'},\n",
       "  'page_content': 'trigger any rules that apply when a model is destroyed.',\n",
       "  'type': 'Document'},\n",
       " {'id': None,\n",
       "  'metadata': {'Header 1': 'Core Concepts', 'Header 2': 'Armies'},\n",
       "  'page_content': '- **Unit Coherency:** Within 2\" horizontally and 5\" vertically of:\\n- One other model from the same unit\\n(in units of 2-6 models).  \\n- Two other models from the same unit\\n(in units of 7+ models).  \\n- At the end of every turn, if a unit is not in Unit Coherency, the controlling player must remove models until that unit is in Unit Coherency again.  \\n6  \\n#### Hints And Tips Wobbly Models',\n",
       "  'type': 'Document'},\n",
       " {'id': None,\n",
       "  'metadata': {'Header 1': 'Core Concepts', 'Header 2': 'Armies'},\n",
       "  'page_content': \"Sometimes you may find that a particular terrain feature makes it hard for you to place a model exactly where you want to. If you delicately balance a model in place, it is very likely to fall as soon as someone nudges the table, leaving your painted model damaged or even broken. In cases like this, provided it is still physically possible to place the model in the desired location, you may find it helps to leave a model in a safer position, provided both players agree and know its 'actual' location. If, later on, an enemy model is shooting the model, you will have to hold it back in place so that visibility can be determined.  \\n#### Engagement Range\",\n",
       "  'type': 'Document'},\n",
       " {'id': None,\n",
       "  'metadata': {'Header 1': 'Core Concepts', 'Header 2': 'Armies'},\n",
       "  'page_content': '#### Engagement Range  \\nEngagement Range represents the zone of threat that models present to their enemies. While a model is within 1\" horizontally and 5\" vertically of an enemy model, those models - and their units - are within Engagement Range of each other. Models cannot be set up or end a Normal, Advance or Fall Back move within Engagement Range of any enemy models. If for any reason a model cannot meet this condition, that model is destroyed.  \\n- **Engagement Range:** Within 1\" horizontally and 5\" vertically.  \\n- Models cannot be set up or end a Normal, Advance or Fall Back move within Engagement Range of any enemy models.',\n",
       "  'type': 'Document'},\n",
       " {'id': None,\n",
       "  'metadata': {'Header 1': 'Core Concepts', 'Header 2': 'Battlefield'},\n",
       "  'page_content': 'Battles of Warhammer 40,000 are fought on rectangular battlefields. This can be any surface upon which the models can stand - a dining table, for example, or the floor. Your mission will guide you as to the size of battlefield required.  \\n#### Terrain Features  \\nThe scenery on a battlefield can be represented by models from  \\nthe Warhammer 40,000 range. These models are called terrain features to differentiate them from the models that make up an army. Terrain features are set up on the battlefield before the battle begins. You can find out more about terrain features on pages 44-48. Unless the mission you are playing instructs you otherwise, you should feel free to create an exciting battlefield using any terrain features from your collection.',\n",
       "  'type': 'Document'},\n",
       " {'id': None,\n",
       "  'metadata': {'Header 1': 'Core Concepts', 'Header 2': 'Measuring Distances'},\n",
       "  'page_content': 'Distances in Warhammer 40,000 are measured in inches (\"). You can measure distances whenever you wish. When measuring the distance between models, measure between the closest points of the bases of the models you\\'re measuring to and from. If a model does not have a base, measure to the closest point of any part of that model instead. If a rule says it applies \\'within\\' a certain distance, it applies at any distance that is not more than the specified distance. For example, within 1\" means any distance that is not more than 1\" away.',\n",
       "  'type': 'Document'},\n",
       " {'id': None,\n",
       "  'metadata': {'Header 1': 'Core Concepts',\n",
       "   'Header 2': 'Determining Visibility'},\n",
       "  'page_content': \"Warhammer 40,000 uses true line of sight to determine visibility between models. To check this, get a 'model's perspective' view by looking from behind the observing model. For the purposes of determining visibility, an observing model can see through other models in its unit, and a model's base is also part of that model.  \\n#### Model Visible  \\nIf any part of another model can be seen from any part of the observing model, that other model is visible to the observing model.  \\n#### Unit Visible  \\nIf one or more models in a unit is visible to the observing model, then that model's unit is visible to the observing model.  \\n#### Model Fully Visible\",\n",
       "  'type': 'Document'},\n",
       " {'id': None,\n",
       "  'metadata': {'Header 1': 'Core Concepts',\n",
       "   'Header 2': 'Determining Visibility'},\n",
       "  'page_content': \"#### Model Fully Visible  \\nIf every part of another model that is facing the observing model can be seen from any part of the observing model, then that other model is said to be fully visible to the observing model, i.e. the observing model has line of sight to all parts of the other model that are facing it, without any other models or terrain features blocking visibility to any of those parts.  \\n#### Unit Fully Visible  \\nIf every model in a unit is fully visible to an observing model, then that unit is fully visible to that observing model. For the purposes of determining if an enemy unit is fully visible, an observing model can see through other models in the unit it is observing.  \\n- **Model Visible:** If any part of a model can be seen, it is visible.  \\n- **Unit Visible:** If any model in a unit is visible, that model's unit is visible.  \\n- **Model Fully Visible:** If every facing part of a model can be seen, it is fully visible.\",\n",
       "  'type': 'Document'},\n",
       " {'id': None,\n",
       "  'metadata': {'Header 1': 'Core Concepts',\n",
       "   'Header 2': 'Determining Visibility'},\n",
       "  'page_content': '- **Unit Fully Visible:** If every model in a unit is fully visible, that unit is fully visible.  \\n#### Hints And Tips  \\nDice Rolling',\n",
       "  'type': 'Document'},\n",
       " {'id': None,\n",
       "  'metadata': {'Header 1': 'Core Concepts',\n",
       "   'Header 2': 'Determining Visibility'},\n",
       "  'page_content': \"In a game of Warhammer 40,000 you and your opponent will be rolling, and in some cases re-rolling, lots of dice. It is good practice to always make sure your opponent knows what you are rolling dice for, and what abilities and rules are in effect that enable you to make any re-rolls. Many gamers roll their dice somewhere on the battlefield, but some roll their dice elsewhere, such as in a dice tray. Wherever you roll your dice, make sure you roll the dice where your opponent can see the results too. If a dice is rolled out of bounds (i.e. it rolls off your battlefield, out of your dice tray or ends up on the floor), it is very common to ignore the result of that dice and roll it again. Rolling an out-of-bounds dice again doesn't count as having re-rolled that dice. If a dice does not lie flat on your battlefield after it has been thrown, it is called a cocked dice. Some players use a house rule that unless a dice is flat after it has been rolled, or unless you can balance another dice\",\n",
       "  'type': 'Document'},\n",
       " {'id': None,\n",
       "  'metadata': {'Header 1': 'Core Concepts',\n",
       "   'Header 2': 'Determining Visibility'},\n",
       "  'page_content': \"you can balance another dice on top of a cocked dice without it sliding off, it must be rolled again. It is more common for players to roll the dice again only if they can't be sure of the result. In any case, rolling a cocked dice again doesn't count as having re-rolled that dice.\",\n",
       "  'type': 'Document'},\n",
       " {'id': None,\n",
       "  'metadata': {'Header 1': 'Core Concepts', 'Header 2': 'Dice'},\n",
       "  'page_content': 'In order to fight a battle, you will require some six-sided dice (often abbreviated to D6). Some rules refer to 2D6, 3D6 and so on - in such cases, roll that many D6 and add the results together. If a rule requires you to roll a D3, roll a D6 and halve the result (rounding up to a whole number) to get the D3 result, as shown below.  \\n| ROLLING A D3   |           |\\n|----------------|-----------|\\n| DICE RESULT    | D3 RESULT |\\n| or             | 1         |\\n| or             | 2         |\\n| or             | 3         |  \\nIf a rule requires a dice roll of, for example, 3 or more, this is often abbreviated to 3+. Where several consecutive dice results are relevant to a rule, these are often shown as a range (e.g. 1-3).  \\n#### Re-Rolls',\n",
       "  'type': 'Document'},\n",
       " {'id': None,\n",
       "  'metadata': {'Header 1': 'Core Concepts', 'Header 2': 'Dice'},\n",
       "  'page_content': \"#### Re-Rolls  \\nSome rules allow you to re-roll a dice roll, which means you get to roll some or all of the dice again. If a rule allows you to re-roll a dice roll that was made by adding several dice together (e.g. 2D6, 3D6, etc.) then, unless otherwise stated, you must re-roll all of those dice again. You can never re-roll a dice more than once, and re-rolls happen before modifiers (if any) are applied. Rules that refer to the value of an 'unmodified' dice roll are referring to the dice result after any re-rolls, but before any modifiers are applied.  \\n- **Unmodified Dice**: the result after re-rolls, but before any modifiers.  \\n- A dice can never be re-rolled more than once. - You must re-roll all dice if several need adding together\\n(e.g. 2D6).  \\n- Re-rolls are applied before any modifiers.  \\n#### Roll-Offs\",\n",
       "  'type': 'Document'},\n",
       " {'id': None,\n",
       "  'metadata': {'Header 1': 'Core Concepts', 'Header 2': 'Dice'},\n",
       "  'page_content': '#### Roll-Offs  \\nSome rules instruct players to roll off. To do so, both players roll one D6, and whoever scores highest wins the roll-off. If there is a tie for the highest roll, roll off again. Neither player is allowed to re-roll or modify any of the D6 when making a roll-off.',\n",
       "  'type': 'Document'},\n",
       " {'id': None,\n",
       "  'metadata': {'Header 1': 'Core Concepts', 'Header 2': 'Sequencing'},\n",
       "  'page_content': \"While playing Warhammer 40,000, you'll occasionally find that two or more rules are to be resolved at the same time. If this occurs during the battle, the player whose turn it is chooses the order. If this occurs before or after the battle, or at the start or end of a battle round, the players roll off and the winner decides the order in which those rules are resolved.\",\n",
       "  'type': 'Document'},\n",
       " {'id': None,\n",
       "  'metadata': {'Header 1': 'The Battle Round'},\n",
       "  'page_content': 'Minute by bloody minute the battle grinds on, from the opening volleys of shots through furious offensives and desperate counter-attacks, into the last dying moments when victory hangs by a thread.  \\nWarhammer 40,000 is played in a series of battle rounds. In each battle round, both players have a turn. The same player always takes the first turn in each battle round - the mission you are playing will tell you which player this is. Each turn consists of a series of phases, which must be resolved in the following order.  \\nBoth players muster strategic resources, then you test your',\n",
       "  'type': 'Document'},\n",
       " {'id': None,\n",
       "  'metadata': {'Header 1': 'The Battle Round', 'Header 2': 'Movement Phase'},\n",
       "  'page_content': \"Your units manoeuvre across the battlefield and reinforcements enter the fray.  \\nSHOOTING PHASE\\nYour units fire their ranged weapons at the foe.  \\nCHARGE PHASE\\nYour units charge forward to battle at close quarters.  \\nBoth players' units pile in and attack with melee weapons.  \\nOnce a player's turn has ended, their opponent then starts their turn. Once both players have completed a turn, the battle round has been completed and the next one begins, and so on, until the battle ends.  \\n3 4 5\",\n",
       "  'type': 'Document'},\n",
       " {'id': None,\n",
       "  'metadata': {'Header 1': 'Command Phase'},\n",
       "  'page_content': 'Commanders gauge the flow of the battle, consolidating their objectives before making alterations to  \\ntheir battle plans and devising new tactics and strategies with which to defeat the foe.  \\nYour Command phase is split into two steps. In the first, both players gain 1 Command point (CP) and you resolve any other Command phase rules; in the second, you test to see if any of your units  \\nGAINING COMMAND POINTS  \\nOutside of the CP players gain at the start of the Command phase, each player can only gain a total of 1CP per battle round, regardless of the source.',\n",
       "  'type': 'Document'},\n",
       " {'id': None,\n",
       "  'metadata': {'Header 1': 'Command Phase', 'Header 2': '1. Command'},\n",
       "  'page_content': 'At the start of your Command phase, before doing anything else, both players gain 1CP. Command points are a strategic resource that you can spend during the battle to use Stratagems. You can find out more about Stratagems on pages 41-42. Then, if you have any other rules that need to be resolved in the Command phase, you do so now before progressing to the Battle-shock step.  \\n- Both players gain 1CP. - Resolve any other rules that occur in the Command phase.',\n",
       "  'type': 'Document'},\n",
       " {'id': None,\n",
       "  'metadata': {'Header 1': 'Command Phase', 'Header 2': '2. Battle-Shock'},\n",
       "  'page_content': 'In this step, you must take a Battle-shock test for each of your units on the battlefield that is Below Half-strength (pg 12). To do so, roll 2D6: if the result is greater than or equal to the best Leadership characteristic in that unit, the test is passed; otherwise, the test is failed and, until the start of your next Command phase, that unit is Battle-shocked. While a unit is Battle-shocked: - The Objective Control characteristic of all of its models is 0. - If it Falls Back, you must take a Desperate Escape test for every model in that unit (pg 14).  \\n- Its controlling player cannot use Stratagems to affect that unit. Once you have taken Battle-shock tests for all of your units that require them, your Command phase ends and you progress to your Movement phase.  \\n- Take a Battle-shock test for each unit from your army on the battlefield that is Below Half-strength.',\n",
       "  'type': 'Document'},\n",
       " {'id': None,\n",
       "  'metadata': {'Header 1': 'Command Phase', 'Header 2': '2. Battle-Shock'},\n",
       "  'page_content': \"- Roll 2D6: if the result is greater than or equal to the unit's Leadership, the test is passed. Otherwise, the unit is Battle-shocked until the start of your next Command phase.  \\n- Battle-shocked units have an OC of 0 and their controlling player cannot use Stratagems to affect them.  \\n- Battle-shocked units must take Desperate Escape tests if they Fall Back.  \\n11  \\n#### Starting Strength  \\nThe number of models a unit contains when it is added to your army is known as its Starting Strength.  \\n#### Below Half-Strength  \\nSome rules will refer to a unit being Below Half-strength. - If a unit has a Starting Strength of 1, then it is said to be Below Half-strength while its remaining number of wounds is less than half of its Wounds characteristic.  \\n- For any other unit, while the number of models in that unit is less than half of its Starting Strength, that unit is said to be Below Half-strength.  \\n#### Destroyed  \\nThroughout a battle, models will suffer damage and be\",\n",
       "  'type': 'Document'},\n",
       " {'id': None,\n",
       "  'metadata': {'Header 1': 'Command Phase', 'Header 2': '2. Battle-Shock'},\n",
       "  'page_content': 'destroyed. When a model is destroyed, it is removed from the battlefield. When every model in a unit has been destroyed, that unit is destroyed.  \\n#### Attached Units  \\nSome **Character** units have the Leader ability (pg 39),\\nwhich lets them merge with other units (known as Bodyguard units) to form an Attached unit. The Starting Strength of an Attached unit is equal to the combined Starting Strengths of all of its units (i.e. the number of models in the Leader unit added to the number of models in the Bodyguard unit). If either the Leader unit or the Bodyguard unit in an Attached unit is destroyed, the Starting Strength of the remaining unit is changed to be equal to its original Starting Strength.  \\nExample: A Primaris Captain (Starting Strength 1) is attached to a unit of Intercessors (Starting Strength 5). This Attached unit has a Starting Strength of 6. If all the Intercessors are destroyed, the remaining Primaris Captain would revert to having a Starting Strength of 1.',\n",
       "  'type': 'Document'},\n",
       " {'id': None,\n",
       "  'metadata': {'Header 1': 'Command Phase', 'Header 2': '2. Battle-Shock'},\n",
       "  'page_content': 'For the purposes of rules that are triggered when a unit is destroyed, such rules are still triggered when one of the individual units that made up an Attached unit is destroyed (the Leader or the Bodyguard unit).  \\nExample: If a rule awards you with 1VP each time an enemy unit is destroyed, and you target an Attached unit, you would gain 1VP if the Bodyguard unit is destroyed and 1VP if the Leader unit is destroyed (for a total of 2VP).  \\n2  \\n3 4 5  \\n3',\n",
       "  'type': 'Document'},\n",
       " {'id': None,\n",
       "  'metadata': {'Header 1': 'Movement Phase'},\n",
       "  'page_content': 'The ground shakes to the tread of marching feet and the growl of engines as armies advance across the  \\nbattlefield and vie for advantageous positions.  \\nYour Movement phase is split into two steps. First you can move your units, then you can set up reinforcements.',\n",
       "  'type': 'Document'},\n",
       " {'id': None,\n",
       "  'metadata': {'Header 1': 'Movement Phase', 'Header 2': '1. Move Units'},\n",
       "  'page_content': 'Start your Movement phase by selecting one unit from your army that is on the battlefield to move: - Unless that unit is within Engagement Range of any enemy models, it can make a Normal move, or Advance, or Remain Stationary.  \\n- If that unit is within Engagement Range of any enemy models, it can either Remain Stationary or Fall Back.',\n",
       "  'type': 'Document'},\n",
       " {'id': None,\n",
       "  'metadata': {'Header 1': 'Movement Phase', 'Header 2': '1. Move Units'},\n",
       "  'page_content': 'After you have finished moving that unit, select another unit from your army to move, and so on, until you have done so with all of your units. Once you have moved all of your units, progress to the Reinforcements step of your Movement phase. Each time you move a unit, you can move any of its models you choose to. The controlling player chooses the order in which to move their models. Whenever you move a model, you can pivot it and/or change its position on the battlefield along any path, but no part of its base can be moved across an enemy model or cross the edge of the battlefield. It can be moved over friendly models as if they were not there if you wish, but it cannot end its move on top of another model. The only exception to this is when moving Monster or **Vehicle** models; such models cannot be moved over other friendly Monster or **Vehicle** models and must be moved around them instead. The distance a model moves is measured using the part of its base that moves furthest',\n",
       "  'type': 'Document'},\n",
       " {'id': None,\n",
       "  'metadata': {'Header 1': 'Movement Phase', 'Header 2': '1. Move Units'},\n",
       "  'page_content': 'its base that moves furthest along its path. If a model does not have a base, measure using whichever part of that model moves the furthest.',\n",
       "  'type': 'Document'},\n",
       " {'id': None,\n",
       "  'metadata': {'Header 1': 'Movement Phase', 'Header 2': '1. Move Units'},\n",
       "  'page_content': '- When a unit moves it can make a Normal move, Advance or Remain Stationary.  \\n- Units that are within Engagement Range of any enemy models can only Fall Back or Remain Stationary.  \\n#### Remain Stationary  \\nIf a unit Remains Stationary, none of its models can be moved for the rest of the phase.  \\n#### Normal Moves  \\nWhen a unit makes a Normal move, each model in that unit can move a distance in inches less than or equal to its Move (M) characteristic, but no model can be moved within Engagement Range of any enemy models (pg 7).  \\n- **Normal Move:** Models move up to M\". - Cannot move within Engagement Range of any enemy models.  \\n13  \\n4 5  \\n#### Advance Moves',\n",
       "  'type': 'Document'},\n",
       " {'id': None,\n",
       "  'metadata': {'Header 1': 'Movement Phase', 'Header 2': '1. Move Units'},\n",
       "  'page_content': '4 5  \\n#### Advance Moves  \\nWhen a unit Advances, make an Advance roll for that unit by rolling one D6. Add the result in inches to the Move characteristic of each model in that unit until the end of the phase. Each model in that unit can then make an Advance move by moving a distance in inches less than or equal to this total, but no model can be moved within Engagement Range of enemy models. A unit cannot shoot or declare a charge in the same turn that it Advanced.  \\n- **Advance Move:** Models move up to M+D6\". - Cannot move within Engagement Range of any enemy models.  \\n- Units that Advance cannot shoot or charge this turn.  \\n#### Fall Back Moves',\n",
       "  'type': 'Document'},\n",
       " {'id': None,\n",
       "  'metadata': {'Header 1': 'Movement Phase', 'Header 2': '1. Move Units'},\n",
       "  'page_content': '#### Fall Back Moves  \\nWhen a unit Falls Back, each model in that unit can make a Fall Back move by moving a distance in inches less than or equal to its Move characteristic, and when doing so you can move it within Engagement Range of enemy models, provided it does not end that move within Engagement Range of any enemy models - if this is not possible, that unit cannot Fall Back. A unit cannot shoot or declare a charge in the same turn that it Fell Back.  \\n#### Desperate Escape Tests  \\nUnlike when making other types of move, models can move over enemy models when making a Fall Back move as if those enemy models were not there, but you must take a Desperate Escape test for each model that will do so (excluding models that are **Titanic** or can Fly)\\nbefore any models in that unit are moved. In addition, if a unit is Battle-shocked when it is selected to Fall Back, you must take a Desperate Escape test for every model in that unit before any are moved.',\n",
       "  'type': 'Document'},\n",
       " {'id': None,\n",
       "  'metadata': {'Header 1': 'Movement Phase', 'Header 2': '1. Move Units'},\n",
       "  'page_content': 'Each time you take a Desperate Escape test for a model, roll one D6. For each roll of 1-2, one model from the unit that is Falling Back is destroyed (selected by you). The same model can only ever trigger one Desperate Escape test per phase.  \\n- **Fall Back Move:** Models move up to M\". - Units that Fall Back cannot shoot or declare a charge in the same turn.  \\n- Models can move over enemy models when Falling Back, but you must take Desperate Escape tests for them before they do so (excluding models that are **Titanic** or can Fly).  \\n- If a Battle-shocked unit is selected to Fall Back, take a Desperate Escape test for every model in that unit.  \\n- **Desperate Escape Test:** Roll one D6. On a 1-2, one model from that unit is destroyed.  \\n3 4 5  \\n#### Moving Over Terrain',\n",
       "  'type': 'Document'},\n",
       " {'id': None,\n",
       "  'metadata': {'Header 1': 'Movement Phase', 'Header 2': '1. Move Units'},\n",
       "  'page_content': '#### Moving Over Terrain  \\nWarhammer 40,000 battlefields are strewn with a wide variety of obstacles, structures and detritus collectively known as terrain features (see pages 44-48). When a model makes any kind of move, it can be moved over a terrain feature but not through it (so models can\\'t move through a wall, for example, but can climb up or over it). A model can be moved over terrain features that are 2\" or less in height as if they were not there. A model can be moved vertically in order to climb up or down any terrain features that are taller than this, counting the vertical distance up and/or down as part of its move. Models cannot end any kind of move mid-climb - if it is not possible to end the move as a result, that move cannot be made.  \\n- Models can move freely over terrain features 2\" or less in height.  \\n- Models cannot move through terrain features taller than 2\", but can climb up and down them.  \\n#### Flying',\n",
       "  'type': 'Document'},\n",
       " {'id': None,\n",
       "  'metadata': {'Header 1': 'Movement Phase', 'Header 2': '1. Move Units'},\n",
       "  'page_content': \"#### Flying  \\nIf a model can Fly, then when it makes a Normal, Advance or Fall Back move, it can be moved over enemy models as if they were not there, and can be moved within Engagement Range of enemy models when making such a move. Note this also means that **Monster** and **Vehicle** models that can Fly can be moved over other **Monster** and **Vehicle** models when making such a move. However, models that can Fly cannot end their move on top of any other models or within Engagement Range of any enemy models.  \\nWhen a model that can Fly starts or ends a move on a terrain feature, instead of measuring the path it has moved across the battlefield, you instead measure its path 'through the air', as shown in the diagram below.  \\n- Fly models can move over enemy models when they make a Normal, Advance or Fall Back move.  \\n- Fly models that start or end a move on a terrain feature measure distance moved through the air when they make a Normal, Advance or Fall Back move.  \\n4 5\",\n",
       "  'type': 'Document'},\n",
       " {'id': None,\n",
       "  'metadata': {'Header 1': '2. Reinforcements'},\n",
       "  'page_content': 'Some units have a rule that allows them to start the battle in Reserves, such as Deep Strike (pg 39). Such units will arrive later in the battle and are known as Reserves units. Any Reserves units that have not been set up on the battlefield when the battle ends count as having been destroyed. In the Reinforcements step of your Movement phase, if you have any Reserves units in your army, you can select one or more of them and set them up on the battlefield, one at a time. Once all your Reserves units that you wish to set up this turn have been set up, your Movement phase ends and you progress to your Shooting phase. Details of how to set up Reserves units are described in the',\n",
       "  'type': 'Document'},\n",
       " {'id': None,\n",
       "  'metadata': {'Header 1': '2. Reinforcements'},\n",
       "  'page_content': \"same rules that enabled the unit to be set up in Reserves. These rules will typically specify a distance away from all enemy models; whenever such a distance is specified, it always applies to the horizontal distance, even though normally you measure to and from the closest part of a model's base. Reserves units always count as having made a Normal move in the turn they are set up on the battlefield, and so cannot move further during this phase. Otherwise, units set up in this way can act normally this turn (shoot, declare a charge, fight, etc.).  \\n- **Reserves Unit:** A unit that starts the battle in a location other than the battlefield.  \\n- Always count as having made a Normal move in the turn they are set up on the battlefield.  \\n- Any specified distance from enemy models applies to horizontal distance.  \\n- Any Reserves unit not set up on the battlefield by the end of the battle counts as destroyed.  \\n16 1 3 4 5\",\n",
       "  'type': 'Document'},\n",
       " {'id': None,\n",
       "  'metadata': {'Header 1': 'Transports'},\n",
       "  'page_content': 'Some units can carry others across the battlefield, providing their passengers with greater speed and protection as they are ferried to the front lines or towards vital objectives.  \\nSome models have the **Transport** keyword. The following rules describe how units can embark within and disembark from such models, and how they are used to move these passengers across the battlefield.  \\n#### Transport Capacity  \\nAll **Transport** models have a transport capacity listed on their datasheet. This determines the type and maximum number of friendly models that can embark within them. Units can start the battle embarked within a Transport model instead of being set up separately\\n- declare which units are embarked within a Transport model before you set it up.  \\n#### Firing Deck  \\nSome transports have firing hatches, ports or platforms from which embarked passengers can shoot.',\n",
       "  'type': 'Document'},\n",
       " {'id': None,\n",
       "  'metadata': {'Header 1': 'Transports'},\n",
       "  'page_content': \"Some **Transport** models have 'Firing Deck x' listed in their abilities. Each time such a model is selected to shoot in the Shooting phase, you can select up to 'x' models embarked within it. Then, for each of those embarked models, you can select one ranged weapon that embarked model is equipped with. Until that **Transport**\\nmodel has resolved all of its attacks, it counts as being equipped with all of the weapons you selected in this way, in addition to its other weapons.  \\n- **Firing Deck 'x':** Each time this **Transport**\\nshoots, select one weapon from up to 'x' models embarked within it; this Transport counts as being equipped with those weapons as well.  \\n#### Embark\",\n",
       "  'type': 'Document'},\n",
       " {'id': None,\n",
       "  'metadata': {'Header 1': 'Transports'},\n",
       "  'page_content': '#### Embark  \\nIf a unit makes a Normal, Advance or Fall Back move, and every model in that unit ends that move within 3\" of a friendly **Transport** model, they can embark within it. A unit cannot embark if it has already disembarked from a **Transport** model in the same phase. Remove the unit from the battlefield and place it to one side - it is now embarked within that **Transport** model. Unless otherwise stated, units cannot do anything or be affected in any way while they are embarked.  \\n- A unit can embark within a friendly **Transport**\\nif all of its models end a Normal, Advance or Fall Back move within 3\" of that **Transport**.  \\n- A unit cannot embark and disembark in the same phase.  \\n#### Disembark  \\nIf a unit from your army starts your Movement phase embarked within a **Transport** model, that unit can disembark in that phase.',\n",
       "  'type': 'Document'},\n",
       " {'id': None,\n",
       "  'metadata': {'Header 1': 'Transports'},\n",
       "  'page_content': 'When a unit disembarks from a **Transport** model, set it up on the battlefield so that it is wholly within 3\" of that **Transport** model and not within Engagement Range of any enemy models. If, for any reason, a disembarking model cannot be set up, that model\\'s unit cannot disembark.  \\nUnits that disembark from a **Transport** model that either Remained Stationary this phase or has not yet made a Normal, Advance or Fall Back move this phase can then act normally (make a Normal move, Advance, shoot, declare a charge, fight, etc.) in the remainder of the turn. Such a disembarking unit cannot choose to Remain Stationary.  \\nUnits that disembark from a **Transport** model that made a Normal move this phase count as having made a Normal move themselves; they cannot move further during this phase. Such a unit also cannot declare a charge in the same turn, but can otherwise act normally in the remainder of the turn.',\n",
       "  'type': 'Document'},\n",
       " {'id': None,\n",
       "  'metadata': {'Header 1': 'Transports'},\n",
       "  'page_content': 'Units cannot disembark from a **Transport** model that either Advanced or Fell Back this turn.  \\n- Units that start your Movement phase embarked within a **Transport** can disembark this phase, provided their **Transport** has not Advanced or Fallen Back.  \\n- If a unit disembarks before its **Transport**\\nmoves, it can act normally.  \\n- If a unit disembarks after its **Transport**\\nmoves, it cannot move or charge this turn, but can otherwise act normally.  \\n- Disembarking units must be set up wholly within 3\" of their **Transport** and not within Engagement Range of any enemy models (or the unit cannot disembark).  \\n- Units that disembark this turn cannot Remain Stationary.  \\n17  \\n#### Destroyed Transports  \\nIf a **Transport** model is destroyed, any units embarked within that **Transport** model must immediately disembark (see opposite) before that Transport model is removed from the battlefield. Units that disembark from a destroyed **Transport**',\n",
       "  'type': 'Document'},\n",
       " {'id': None,\n",
       "  'metadata': {'Header 1': 'Transports'},\n",
       "  'page_content': \"model are not affected by that model's Deadly Demise ability (pg 23). Instead, you must roll one D6 for each disembarking model. For each roll of 1, that disembarking model's unit suffers 1 mortal wound (pg 23). In addition, if a unit disembarks from a destroyed **Transport** model:\\n- Until the start of its controlling player's next Command phase, that unit is Battle-shocked.  \\n- Until the end of the turn, that unit counts as having made a Normal move this turn, and cannot declare a charge this turn (pg 29).  \\n- If a **Transport** is destroyed, any embarked units must disembark.  \\n- Roll one D6 for each model that disembarks:\\nfor each 1, that model's unit suffers 1 mortal wound.  \\n- Until the start of its controlling player's next Command phase, the disembarking unit is Battle-shocked.  \\n- Until the end of the turn, the disembarking unit counts as having made a Normal move, and cannot declare a charge.  \\n#### Emergency Disembarkation\",\n",
       "  'type': 'Document'},\n",
       " {'id': None,\n",
       "  'metadata': {'Header 1': 'Transports'},\n",
       "  'page_content': 'If a **Transport** model is destroyed and it is not possible to set up a disembarking unit wholly within 3\" of that **Transport** model and not within Engagement Range of any enemy models, that unit must instead perform an Emergency Disembarkation. This is performed as described for disembarking from a destroyed **Transport** model, except that a unit that does so must be set up wholly within 6\" of the destroyed **Transport** model (instead of wholly within 3\") and not within Engagement Range of any enemy models, and when rolling for each disembarking model, that unit suffers 1 mortal wound for each roll of 1-3 (instead of for each roll of 1). If, for any reason, a disembarking model still cannot be set up, that model is destroyed.  \\n- Units disembarking a destroyed **Transport**\\nthat cannot be set up wholly within 3\" of it must perform an Emergency Disembarkation:\\n- Must be set up wholly within 6\" of it instead of wholly within 3\".',\n",
       "  'type': 'Document'},\n",
       " {'id': None,\n",
       "  'metadata': {'Header 1': 'Transports'},\n",
       "  'page_content': '- Suffer 1 mortal wound for each roll of 1-3, instead of each roll of 1.  \\n- Any disembarking model that cannot be set up is destroyed.  \\nThe Land Raider Crusader is destroyed, forcing the Terminators to\\ndisembark wholly within 3\". The controlling player then rolls one D6 for each disembarking model, resulting in a 1, 3, 3, 5 and 6. The Terminator unit suffers 1 mortal wound and is now Battle-shocked.  \\n18  \\n19',\n",
       "  'type': 'Document'},\n",
       " {'id': None,\n",
       "  'metadata': {'Header 1': 'Shooting Phase'},\n",
       "  'page_content': 'Guns thunder and shrapnel flies through the air. Bursts of muzzle flare and beams of las-fire illuminate the fog of war, and spent ammunition cartridges litter the battlefield.  \\nIn your Shooting phase, if you have one or more eligible units from your army on the battlefield, you can select those units, one at a time, and shoot with them. Each unit can only be selected to shoot once per phase. Once all of the units you selected have shot, progress to your Charge phase. A unit is eligible to shoot unless any of the following apply: - That unit Advanced this turn. - That unit Fell Back this turn.  \\n#### Select Targets',\n",
       "  'type': 'Document'},\n",
       " {'id': None,\n",
       "  'metadata': {'Header 1': 'Shooting Phase'},\n",
       "  'page_content': \"Each time a unit shoots, before any attacks are resolved, you must select the enemy units that will be the targets for all of the ranged weapons you wish its models to make attacks with. Each time you select a target for a model's ranged weapon, you can only select an enemy unit as the target if at least one model in that unit is both within range of that weapon and visible to that attacking model (pg 8). An enemy model is within range of a weapon if the distance between it and the attacking model is equal to or less than that weapon's Range characteristic. If a model has more than one ranged weapon, it can shoot all of them at the same target or it can shoot each of them at a different target, but it cannot split attacks from the same weapon across more than one target. Similarly, if a unit has more than one model, those models can shoot at the same or different targets. In any case, when you select a target unit you must declare which models will target that unit with which weapons\",\n",
       "  'type': 'Document'},\n",
       " {'id': None,\n",
       "  'metadata': {'Header 1': 'Shooting Phase'},\n",
       "  'page_content': 'that unit with which weapons before any attacks are resolved. If any of these weapons have more than one profile that you must choose between, you must also declare which profile is being used.',\n",
       "  'type': 'Document'},\n",
       " {'id': None,\n",
       "  'metadata': {'Header 1': 'Shooting Phase'},\n",
       "  'page_content': '- Before a unit shoots, select the targets for all of its ranged weapons.  \\n- At least one model in the target unit must be visible to the attacking model and within range of the weapon being used.  \\n- Models with more than one ranged weapon can shoot them at the same or different targets, but models cannot split attacks from the same weapon across more than one target.  \\n- Models in the same unit can shoot at the same or different targets.  \\n#### Lone Operative  \\nAssassins and other covert agents are difficult to track and pinpoint in the swirling maelstrom of battle. Unless part of an Attached unit (see Leader, page 39), this unit can only be selected as the target of a ranged attack if the attacking model is within 12\".  \\n4 5  \\n#### Make Ranged Attacks',\n",
       "  'type': 'Document'},\n",
       " {'id': None,\n",
       "  'metadata': {'Header 1': 'Shooting Phase'},\n",
       "  'page_content': \"The shooting unit's models now make attacks using their ranged weapons. Each time a model shoots with a ranged weapon, it will make a number of attacks equal to the Attacks (A) characteristic in that weapon's profile. You make one Hit roll for each attack being made (see Making Attacks, pages 21-23). If you selected more than one target for your unit to shoot at, you must resolve all of the attacks against one target before moving on to the next target. If your unit is shooting more than one ranged weapon at a target, and those weapons have different profiles, then after you have resolved attacks with one of those weapons you must, if any other weapons with the same profile are also being shot at that unit, resolve those attacks before resolving any other attacks against the target. Note that, provided at least one model in the target unit was visible to an attacking model and in range of that attacking model's weapon when that target unit was selected, that weapon's attacks can still\",\n",
       "  'type': 'Document'},\n",
       " {'id': None,\n",
       "  'metadata': {'Header 1': 'Shooting Phase'},\n",
       "  'page_content': \"weapon's attacks can still be made, even if no models in the target unit remain visible to or in range of it when you come to resolve those attacks (for example, because models in the target unit have already been destroyed by attacks made with other weapons in the attacking model's unit).\",\n",
       "  'type': 'Document'},\n",
       " {'id': None,\n",
       "  'metadata': {'Header 1': 'Shooting Phase'},\n",
       "  'page_content': \"- When a model shoots a weapon, it makes a number of attacks equal to that weapon's Attacks characteristic.  \\n- Resolve all attacks against one unit before resolving attacks against any other unit.  \\n- Resolve all attacks made with the same weapon profile before resolving attacks with any other profile.  \\n- If a weapon was in range and its target was visible when selected, that weapon's attacks can always be made.  \\n#### Locked In Combat  \\nA unit is not eligible to shoot while it is within Engagement Range of one or more enemy units. While an enemy unit is within Engagement Rage of one or more units from your army, you cannot select that enemy unit as a target of ranged weapons.  \\nMonster and **Vehicle** units are exceptions to these rules, as described in the Big Guns Never Tire section (see right).  \\n- Units cannot shoot while within Engagement Range of enemy units.  \\n- Units cannot shoot at targets within Engagement Range of friendly units.  \\n#### Stealth\",\n",
       "  'type': 'Document'},\n",
       " {'id': None,\n",
       "  'metadata': {'Header 1': 'Shooting Phase'},\n",
       "  'page_content': \"#### Stealth  \\nSome warriors are masters of disguise and concealment. If every model in a unit has this ability, then each time a ranged attack is made against it, subtract 1 from that  \\n#### Big Guns Never Tire  \\nMonsters and war engines can dispense death from afar even as they trample the masses before them.  \\nMonster and **Vehicle** units are eligible to shoot in their controlling player's Shooting phase even while they are within Engagement Range of one or more enemy units. Ranged weapons equipped by **Monster** and **Vehicle** units can target one or more of the enemy units they are within Engagement Range of, even if other friendly units are also within Engagement Range of the same enemy unit. Each time a Monster or **Vehicle** model makes a ranged attack, if its unit was within Engagement Range of one or more enemy units when it selected its targets, unless that attack is made with a Pistol (pg 25), subtract 1 from that attack's Hit roll.\",\n",
       "  'type': 'Document'},\n",
       " {'id': None,\n",
       "  'metadata': {'Header 1': 'Shooting Phase'},\n",
       "  'page_content': \"You can select an enemy **Monster** or **Vehicle** unit within Engagement Range of one or more units from your army as a target of ranged weapons. Each time a model from your army makes a ranged attack against such a target, unless that attack is made with a Pistol, subtract 1 from that attack's Hit roll. Designer's Note: A unit that is within Engagement Range of an enemy Monster *or* **Vehicle** unit is still not eligible to shoot, and so cannot make ranged attacks against that Monster *or* **Vehicle** *unit (unless* that unit is eligible to shoot even while within Engagement Range of enemy units, e.g. it is itself a **Monster** or **Vehicle** unit, or its models are equipped with Pistols). Other units from your army that are eligible to shoot can, however, target and shoot that enemy Monster *or* **Vehicle** *unit.*\\n- **Monsters** and **Vehicles**\",\n",
       "  'type': 'Document'},\n",
       " {'id': None,\n",
       "  'metadata': {'Header 1': 'Shooting Phase'},\n",
       "  'page_content': \"can shoot, and be shot at, even while they are within Engagement Range of enemy units. Each time a ranged attack is made by or against such a unit, subtract 1 from that attack's Hit roll (unless shooting with a Pistol).  \\nattack's Hit roll.20  \\n4 5\",\n",
       "  'type': 'Document'},\n",
       " {'id': None,\n",
       "  'metadata': {'Header 1': 'Making Attacks'},\n",
       "  'page_content': 'Attacks are made using ranged or melee weapons. Attacks can be made one at a time or, in some cases, you can roll for multiple attacks together (see Fast Dice Rolling, page 24).  \\nHIT ROLL  \\n2 WOUND ROLL\\n3 ALLOCATE ATTACK\\n4 SAVING THROW\\n5 INFLICT DAMAGE',\n",
       "  'type': 'Document'},\n",
       " {'id': None,\n",
       "  'metadata': {'Header 1': 'Making Attacks', 'Header 2': '1. Hit Roll'},\n",
       "  'page_content': \"When a model makes an attack, make one Hit roll for that attack by rolling one D6. If the result of the Hit roll is greater than or equal to the attack's Ballistic Skill (BS) characteristic (if the attack is being made with a ranged weapon) or its Weapon Skill (WS) characteristic (if the attack is being made with a melee weapon), then that Hit roll is successful and scores one hit against the target unit. Otherwise, the attack fails and the attack sequence ends. An unmodified Hit roll of 6 is called a Critical Hit and is always successful. An unmodified Hit roll of 1 always fails. A Hit roll can never be modified by more than -1 or +1.  \\n- **Hit Roll (Ranged Attack):** A hit is scored if the D6 result equals or exceeds that attack's BS.  \\n- **Hit Roll (Melee Attack):** A hit is scored if the D6 result equals or exceeds that attack's WS.\",\n",
       "  'type': 'Document'},\n",
       " {'id': None,\n",
       "  'metadata': {'Header 1': 'Making Attacks', 'Header 2': '1. Hit Roll'},\n",
       "  'page_content': '- **Critical Hit:** Unmodified Hit roll of 6. Always successful. - An unmodified Hit roll of 1 always fails. - A Hit roll can never be modified by more than -1 or +1.',\n",
       "  'type': 'Document'},\n",
       " {'id': None,\n",
       "  'metadata': {'Header 1': 'Making Attacks', 'Header 2': '2. Wound Roll'},\n",
       "  'page_content': \"Each time an attack scores a hit against a target unit, make a Wound roll for that attack by rolling one D6 to see if that attack successfully wounds the target unit. The result required is determined by comparing the attack's Strength (S) characteristic with the target's Toughness (T) characteristic, as shown below.  \\n| WOUND ROLL                              |           |\\n|-----------------------------------------|-----------|\\n| ATTACK'S STRENGTH VS                    | D6 RESULT |\\n| TARGET'S TOUGHNESS                      | REQUIRED  |\\n| Strength is TWICE (or more than twice)  | +         |\\n| the Toughness.                          |           |\\n| Strength is GREATER than the Toughness. | +         |\\n| Strength is EQUAL to the Toughness.     | +         |\\n| Strength is LESS than the Toughness.    | +         |\\n| Strength is HALF (or less than half)    | +         |\\n| the Toughness.                          |           |\",\n",
       "  'type': 'Document'},\n",
       " {'id': None,\n",
       "  'metadata': {'Header 1': '1 2 4'},\n",
       "  'page_content': '21 If the result of the Wound roll is greater than or equal to the required number shown in the table opposite, then that Wound roll is successful and scores one wound against the target unit. Otherwise, the attack fails and the attack sequence ends. An unmodified Wound roll of 6 is called a Critical Wound and is always successful. An unmodified Wound roll of 1 always fails. A Wound roll can never be modified by more than -1 or +1.  \\n- **Critical Wound:** Unmodified Wound roll of 6.  \\nAlways successful.  \\n- An unmodified Wound roll of 1 always fails. - A Wound roll can never be modified by more than -1 or +1.',\n",
       "  'type': 'Document'},\n",
       " {'id': None,\n",
       "  'metadata': {'Header 1': '1 2 4', 'Header 2': '3. Allocate Attack'},\n",
       "  'page_content': 'If an attack successfully wounds the target unit, the player controlling the target unit allocates that attack to one model in the target unit, as follows. If a model in the target unit has already lost one or more wounds, or has already had attacks allocated to it this phase, that attack must be allocated to that model. Otherwise, that attack can be allocated to any model in the target unit. Note that it does not matter if that model is visible to or within range/Engagement Range of the attacking model.  \\n- If a model in the target unit has already lost any wounds or had other attacks allocated to it this phase, the attack must be allocated to that model.',\n",
       "  'type': 'Document'},\n",
       " {'id': None,\n",
       "  'metadata': {'Header 1': '1 2 4', 'Header 2': '4. Saving Throw'},\n",
       "  'page_content': \"The player controlling the target unit then makes one saving throw. By default, this will be an armour saving throw using their model's Save (Sv) characteristic, but some models have invulnerable saves that can be used instead (see right). To make an armour saving throw, roll one D6, then modify the result by the Armour Penetration (AP) characteristic of the attack. For example, if the attack has an AP of -1, then 1 is subtracted from the saving throw. If the result is greater than or equal to the Save characteristic of the model the attack was allocated to, then that saving throw is successful and the attack sequence ends. Otherwise, that saving throw fails and that model suffers damage (pg 23). An unmodified saving throw of 1 always fails. A saving throw can never be improved by more than +1.\",\n",
       "  'type': 'Document'},\n",
       " {'id': None,\n",
       "  'metadata': {'Header 1': '1 2 4', 'Header 2': '4. Saving Throw'},\n",
       "  'page_content': \"- **Saving Throw:** Roll one D6 and modify by the attack's AP. If the result is less than the Save of the model being rolled for, the saving throw is failed and that model suffers damage. Otherwise, that attack is saved.  \\n- An unmodified saving throw of 1 always fails. - A saving throw can never be improved by more than +1.  \\n#### Invulnerable Saves\",\n",
       "  'type': 'Document'},\n",
       " {'id': None,\n",
       "  'metadata': {'Header 1': '1 2 4', 'Header 2': '4. Saving Throw'},\n",
       "  'page_content': \"#### Invulnerable Saves  \\nWhether shielded by force fields, enveloped in mystical energies or simply possessed of preternatural senses and lightning-fast reflexes, some warriors are protected by more than mere physical armour. Some models have an invulnerable save listed on their datasheet. Each time an attack is allocated to a model with an invulnerable save, the controlling player must choose to use either that model's Save characteristic or its invulnerable save, but not both. If a model has more than one invulnerable save, it can only use one of them - choose which it will use. Unlike armour saving throws (which use a model's Save characteristic), invulnerable saving throws are never modified by an attack's Armour Penetration characteristic, but otherwise follow the normal rules for saving throws.  \\n- **Invulnerable Save:** Never  \\nmodified by an attack's AP.  \\n- The controlling player can choose to use either a model's invulnerable save or its Save characteristic.\",\n",
       "  'type': 'Document'},\n",
       " {'id': None,\n",
       "  'metadata': {'Header 1': '1 2 4', 'Header 2': '4. Saving Throw'},\n",
       "  'page_content': '#### Mortal Wounds',\n",
       "  'type': 'Document'},\n",
       " {'id': None,\n",
       "  'metadata': {'Header 1': '1 2 4', 'Header 2': '4. Saving Throw'},\n",
       "  'page_content': \"Some attacks are so powerful that no armour or force field can withstand their fury. Some attacks inflict mortal wounds. Each mortal wound inflicts one point of damage on the target unit, and they are always applied one at a time. Do not make a Wound roll or saving throw (including invulnerable saving throws) against a mortal wound - just allocate it as you would any other attack and inflict damage to a model in the target unit as described on the right. Unlike damage inflicted by normal attacks, excess damage from mortal wounds is not lost if the damage can be allocated to another model. Instead, keep allocating damage to another model in the target unit until either all the damage has been allocated or the target unit is destroyed. If, when a unit is selected to shoot or fight, one or more of its attacks can inflict mortal wounds on the target, resolve any normal damage inflicted by the attacking unit's attacks on that target before inflicting any mortal wounds on that target. If an\",\n",
       "  'type': 'Document'},\n",
       " {'id': None,\n",
       "  'metadata': {'Header 1': '1 2 4', 'Header 2': '4. Saving Throw'},\n",
       "  'page_content': 'wounds on that target. If an attack inflicts mortal wounds in addition to any normal damage, but the normal damage is subsequently saved, the target unit still suffers those mortal wounds, as described above.',\n",
       "  'type': 'Document'},\n",
       " {'id': None,\n",
       "  'metadata': {'Header 1': '1 2 4', 'Header 2': '4. Saving Throw'},\n",
       "  'page_content': '- Each mortal wound inflicted on a unit causes one model in that unit to lose one wound.  \\n- No saving throws can be made against mortal wounds.  \\n- Mortal wounds inflicted by attacks always apply after any normal damage, even if that damage was saved.',\n",
       "  'type': 'Document'},\n",
       " {'id': None,\n",
       "  'metadata': {'Header 1': '1 2 4', 'Header 2': '5. Inflict Damage'},\n",
       "  'page_content': \"The damage inflicted is equal to the Damage (D) characteristic of the attack. A model loses one wound for each point of damage it suffers. If a model's wounds are reduced to 0 or less, it is destroyed and removed from play. If a model loses several wounds from an attack and is destroyed, any excess damage inflicted by that attack is lost and has no effect.  \\n- A model loses a number of wounds equal to the attack's Damage characteristic.  \\n- If a model is destroyed by an attack, any excess damage inflicted by that attack is lost.  \\n#### Feel No Pain\",\n",
       "  'type': 'Document'},\n",
       " {'id': None,\n",
       "  'metadata': {'Header 1': '1 2 4', 'Header 2': '5. Inflict Damage'},\n",
       "  'page_content': \"#### Feel No Pain  \\nSome warriors refuse to be laid low, even by what should be fatal wounds. Some models have 'Feel No Pain x+' listed in their abilities. Each time a model with this ability suffers damage and so would lose a wound (including wounds lost due to mortal wounds), roll one D6: if the result is greater than or equal to the number denoted by 'x', that wound is ignored and is not lost. If a model has more than one Feel No Pain ability, you can only use one of those abilities each time that model suffers damage and so would lose a wound.  \\n- **Feel No Pain x+:** Each time this model would lose a wound, roll one D6: if the result equals or exceeds 'x', that wound is not lost.  \\n#### Deadly Demise\",\n",
       "  'type': 'Document'},\n",
       " {'id': None,\n",
       "  'metadata': {'Header 1': '1 2 4', 'Header 2': '5. Inflict Damage'},\n",
       "  'page_content': '#### Deadly Demise  \\nFrom detonating ammo stores to corrosive innards or frenzied death throes, some targets are deadly even in defeat. Some models have \\'Deadly Demise x\\' listed in their abilities. When such a model is destroyed, roll one D6 before removing it from play (if such a model is a Transport, roll before any embarked models disembark).  \\nOn a 6, each unit within 6\" of that model suffers a number of mortal wounds denoted by \\'x\\' (if this is a random number, roll separately for each unit within 6\").  \\nExample: A **Transport** model with the Deadly Demise D3 ability is destroyed. Before any models disembark and before removing it from play, its controlling player rolls one D6, getting a 6. There are three units within 6\" of that destroyed model, so its controlling player rolls one D3 for each of them, inflicting mortal wounds accordingly.  \\n- **Deadly Demise x:** When this model is destroyed, roll one D6. On a 6, each unit within 6\" suffers 23 \\'x\\' mortal wounds.  \\n1 2 4',\n",
       "  'type': 'Document'},\n",
       " {'id': None,\n",
       "  'metadata': {'Header 1': '1 2 4', 'Header 2': '5. Inflict Damage'},\n",
       "  'page_content': '1 2 4  \\n#### Hints And Tips  \\nFast Dice Rolling',\n",
       "  'type': 'Document'},\n",
       " {'id': None,\n",
       "  'metadata': {'Header 1': '1 2 4', 'Header 2': '5. Inflict Damage'},\n",
       "  'page_content': \"The rules for making attacks have been written assuming you will resolve them one at a time. However, it is possible to speed up your battles by rolling the dice for similar attacks together. In order to make several attacks at once, all of the attacks must have the same Ballistic Skill (if it's a ranged attack) or the same Weapon Skill (if it's a melee attack). They must also have the same Strength and Armour Penetration characteristics, they must inflict the same Damage, they must be affected by the same abilities, and they must be directed at the same unit. If this is the case, make all of the Hit rolls at the same time, then all of the Wound rolls. Your opponent can then allocate the attacks one at a time, making the saving throws and suffering damage each time as appropriate. Note that if all the models in the target unit would require the same saving throw against the attacks, and the order in which the attacks are allocated would make no difference, then your opponent can make\",\n",
       "  'type': 'Document'},\n",
       " {'id': None,\n",
       "  'metadata': {'Header 1': '1 2 4', 'Header 2': '5. Inflict Damage'},\n",
       "  'page_content': 'then your opponent can make all their saving throws at the same time, and can do so as soon as the Wound rolls have been made. If they do, they then allocate the attacks that resulted in failed saving throws one at a time, inflicting the damage as appropriate even though, strictly speaking, saving throws should be made after attacks have been allocated. In any case, remember that if the target unit contains a model that has already lost any wounds or has already had attacks allocated to it this phase, the controlling player must allocate further attacks to that model until either it is destroyed, or all the attacks have been saved or resolved. If the attacks being allocated to a target inflict random damage, you cannot use the fast dice rolling approach exactly as stated above - you will need to roll the dice one at a time. Consider several attacks with a Damage characteristic of D3 being allocated to a target containing models with two wounds each. As excess damage is lost each time',\n",
       "  'type': 'Document'},\n",
       " {'id': None,\n",
       "  'metadata': {'Header 1': '1 2 4', 'Header 2': '5. Inflict Damage'},\n",
       "  'page_content': 'damage is lost each time a model is destroyed, the order in which the attacks are allocated and resolved becomes important. If the results of those D3s were 1, then 2, then 3, the attacks would result in a total of two destroyed models, but applying them in the order 3, then 2, then 1 would result in two models being destroyed and a third being damaged with only one wound remaining. As such, the rolls should be made one at a time.',\n",
       "  'type': 'Document'},\n",
       " {'id': None,\n",
       "  'metadata': {'Header 1': '1 2 4', 'Header 2': '5. Inflict Damage'},\n",
       "  'page_content': \"1 A unit of 20 Termagants targets a Terminators unit with their Fleshborers.  \\nAs these weapons all have the same profile, the controlling player chooses to use the fast dice rolling method.  \\n2 Each has an Attacks characteristic of 1, so the controlling player rolls twenty D6. Seven of the results are greater than or equal to the Fleshborers' Ballistic Skill of 4+, so seven hits are scored, and seven Wound rolls are then made.  \\n3 The Strength characteristic of those attacks is 5, which is equal to the Toughness of a Terminator, so rolls of 4+ are required to successfully wound the target. Of those seven rolls, five successfully wound.  \\n4 As all the attacks have a Damage characteristic of 1, and as the saving throws required for the Terminators are all the same, the Space Marines player can continue to use the fast dice rolling method and make all of those saving throws at the same time, even though strictly you should allocate attacks beforehand.\",\n",
       "  'type': 'Document'},\n",
       " {'id': None,\n",
       "  'metadata': {'Header 1': '1 2 4', 'Header 2': '5. Inflict Damage'},\n",
       "  'page_content': '5The attacks all have an Armour Penetration characteristic of -1, so in this instance, even though the Terminators have an invulnerable saving throw, their normal Save characteristic will afford them a better chance of survival. The saving throws rolled result in a 1, 2, 4, 5 and 5, meaning that two are failed.  \\n6 The Space Marines player now has to allocate those two attacks, one at a time. One Terminator model has already lost two wounds earlier in the battle, so they must allocate attacks to that model first. This means that model loses its last remaining wound (Terminator models have a Wounds characteristic of 3), and is destroyed. The last attack is allocated to a different model, and so that model suffers one wound.  \\n1 2 4',\n",
       "  'type': 'Document'},\n",
       " {'id': None,\n",
       "  'metadata': {'Header 1': 'Weapon Abilities'},\n",
       "  'page_content': \"Some weapons have additional abilities in their profiles. Often these are unique to those weapons and are written out in full, but others are common to many weapons, and may only be referenced by name on a weapon's profile. Some notable examples of these common abilities are defined here; further weapon abilities may be found in other locations such as Codexes.  \\n#### Assault Pistol  \\nPistols can be wielded even at point-blank range.  \\nAssault weapons fire so indiscriminately that they can be shot from the hip as warriors dash forward. Weapons with **[ASSAULT]** in their profile are known as Assault weapons. If a unit that Advanced this turn contains any models equipped with Assault weapons, it is still eligible to shoot in this turn's Shooting phase. When such a unit is selected to shoot, you can only resolve attacks using Assault weapons its models are equipped with.  \\n- Can be shot even if the bearer's unit Advanced.  \\n#### Rapid Fire\",\n",
       "  'type': 'Document'},\n",
       " {'id': None,\n",
       "  'metadata': {'Header 1': 'Weapon Abilities'},\n",
       "  'page_content': \"#### Rapid Fire  \\nRapid fire weapons are capable of long-ranged precision shots or controlled bursts at nearby targets. Weapons with **[RAPID FIRE X]** in their profile are known as Rapid Fire weapons. Each time such a weapon targets a unit within half that weapon's range, the Attacks characteristic of that weapon is increased by the amount denoted by 'x'.  \\nExample: *A model targets a unit that is within half* range of a weapon with an Attacks characteristic of 1 and the **[RAPID FIRE 1]** *ability. That weapon* therefore makes two attacks at the target, and you make two Hit rolls.  \\n- **[RAPID FIRE X]:** Increase the Attacks by 'x' when targeting units within half range.  \\n#### Ignores Cover  \\nSome weapons are designed to root enemy formations out of entrenched positions. Weapons with **[IGNORES COVER]** in their profile are known as Ignores Cover weapons. Each time an attack is made with such a weapon, the target cannot have the Benefit of Cover against that attack (pg 44).\",\n",
       "  'type': 'Document'},\n",
       " {'id': None,\n",
       "  'metadata': {'Header 1': 'Weapon Abilities'},\n",
       "  'page_content': \"#### Twin-Linked  \\nDual weapons are often grafted to the same targeting system for greater lethality. Weapons with **[TWIN-LINKED]** in their profile are known as Twin-linked weapons. Each time an attack is made with such a weapon, you can re-roll that attack's Wound roll.\",\n",
       "  'type': 'Document'},\n",
       " {'id': None,\n",
       "  'metadata': {'Header 1': 'Weapon Abilities'},\n",
       "  'page_content': \"Weapons with **[PISTOL]** in their profile are known as Pistols. If a unit contains any models equipped with Pistols, that unit is eligible to shoot in its controlling player's Shooting phase even while it is within Engagement Range of one or more enemy units. When such a unit is selected to shoot, it can only resolve attacks using its Pistols and can only target one of the enemy units it is within Engagement Range of. In such circumstances, a Pistol can target an enemy unit even if other friendly units are within Engagement Range of the same enemy unit. If a model is equipped with one or more Pistols, unless it is a Monster or **Vehicle** model, it can either shoot with its Pistols or with all of its other ranged weapons. Declare whether such a model will shoot with its Pistols or its other ranged weapons before selecting targets.  \\n- Can be shot even if the bearer's unit is within Engagement Range of enemy units, but must target one of those enemy units.\",\n",
       "  'type': 'Document'},\n",
       " {'id': None,\n",
       "  'metadata': {'Header 1': 'Weapon Abilities'},\n",
       "  'page_content': \"- Cannot be shot alongside any other non-Pistol weapon (except by a Monster or Vehicle).  \\n#### Torrent  \\nTorrent weapons shoot clouds of fire, gas or other lethal substances that few foes can hope to evade. Weapons with **[TORRENT]** in their profile are known as Torrent weapons. Each time an attack is made with such a weapon, that attack automatically hits the target.  \\n#### Lethal Hits  \\nSome weapons can inflict fatal injuries on any foe, no matter their resilience. Weapons with **[LETHAL HITS]** in their profile are known as Lethal Hits weapons. Each time an attack is made with such a weapon, a Critical Hit automatically wounds the target.  \\n#### Lance  \\nLance weapons are deadly on the charge. Weapons with **[LANCE]** in their profile are known as Lance weapons. Each time an attack is made with such a weapon, if the bearer made a Charge move this turn, add 1 to that attack's Wound roll.  \\n25  \\n#### Indirect Fire\",\n",
       "  'type': 'Document'},\n",
       " {'id': None,\n",
       "  'metadata': {'Header 1': 'Weapon Abilities'},\n",
       "  'page_content': \"25  \\n#### Indirect Fire  \\nIndirect fire weapons launch munitions over or around intervening obstacles - nowhere is safe from their fury. Weapons with **[INDIRECT FIRE]** in their profile are known as Indirect Fire weapons, and attacks can be made with them even if the target is not visible to the attacking model. These attacks can destroy enemy models in a target unit even though none may have been visible to the attacking unit when you selected that target. If no models in a target unit are visible to the attacking unit when you select that target, then each time a model in the attacking unit makes an attack against that target using an Indirect Fire weapon, subtract 1 from that attack's Hit roll and the target has the Benefit of Cover against that attack (pg 44).\",\n",
       "  'type': 'Document'},\n",
       " {'id': None,\n",
       "  'metadata': {'Header 1': 'Weapon Abilities'},\n",
       "  'page_content': \"Example: An enemy unit is targeted by an attacking model equipped with a weapon with the [INDIRECT FIRE] *ability. No models in the target unit* are visible to the attacking model, so when resolving the attacks made with that weapon, subtract 1 from that attack's Hit roll and each time an attack is allocated to a model in the target unit, it has the Benefit of Cover against that attack.  \\n- Can target and make attacks against units that are not visible to the attacking unit.  \\n- If no models are visible in a target unit when it is selected, then when making an attack against that target with an Indirect Fire weapon, subtract 1 from that attack's Hit roll and the target has the Benefit of Cover against that attack.  \\n#### Precision\",\n",
       "  'type': 'Document'},\n",
       " {'id': None,\n",
       "  'metadata': {'Header 1': 'Weapon Abilities'},\n",
       "  'page_content': \"#### Precision  \\nPrecision attacks can pick high-value targets out in a crowd, whether through the unerring aim of a sniper or the pinpoint accuracy of a blade-master's strike. Weapons with **[PRECISION]** in their profile are known as Precision weapons. Each time an attack made with such a weapon successfully wounds an Attached unit\\n(pg 39), if a **Character** model in that unit is visible to the attacking model, the attacking model's player can choose to have that attack allocated to that Character model instead of following the normal attack sequence.  \\n- When targeting an Attached unit, the attacking model's player can have the attack allocated to a **Character** model in that unit visible to the bearer.  \\n#### Blast\",\n",
       "  'type': 'Document'},\n",
       " {'id': None,\n",
       "  'metadata': {'Header 1': 'Weapon Abilities'},\n",
       "  'page_content': \"#### Blast  \\nHigh-explosives can fell several warriors in a single blast, but firing them where your comrades will get caught in the ensuing detonation is simply unwise. Weapons with **[BLAST]** in their profile are known as Blast weapons, and they make a random number of attacks. Each time you determine how many attacks are made with a Blast weapon, add 1 to the result for every five models that were in the target unit when you selected it as the target (rounding down). Blast weapons can never be used to make attacks against a unit that is within Engagement Range of one or more units from the attacking model's army (including its own unit).  \\nExample: *If a weapon with the* **[BLAST]** ability and an Attacks characteristic of 2D6 targets a unit that contains 11 models, and the roll to determine how many attacks are made is a 9, a total of 11 attacks would be made against that unit.  \\n- Add 1 to the Attacks characteristic for every five models in the target unit (rounding down).\",\n",
       "  'type': 'Document'},\n",
       " {'id': None,\n",
       "  'metadata': {'Header 1': 'Weapon Abilities'},\n",
       "  'page_content': \"- Can never be used against a target that is within Engagement Range of any units from the attacking model's army (including its own).  \\n#### Melta  \\nMelta weapons are powerful heat rays whose fury is magnified at close range. Weapons with **[MELTA X]** in their profile are known as Melta weapons. Each time an attack made with such a weapon targets a unit within half that weapon's range, that attack's Damage characteristic is increased by the amount denoted by 'x'.  \\nExample: *A model targets a unit that is within half* range of a weapon with a Damage characteristic of D6 and the **[MELTA 2]** *ability. If that attack inflicts* damage on the target, it inflicts D6+2 damage.  \\n- **[MELTA X]:** Increase the Damage by 'x' when targeting units within half range.  \\n#### Heavy\",\n",
       "  'type': 'Document'},\n",
       " {'id': None,\n",
       "  'metadata': {'Header 1': 'Weapon Abilities'},\n",
       "  'page_content': \"#### Heavy  \\nHeavy weapons are amongst the biggest guns on the battlefield, but require bracing to fire at full effect and are unwieldy to bring to bear at close quarters. Weapons with **[HEAVY]** in their profile are known as Heavy weapons. Each time an attack is made with such a weapon, if the attacking model's unit Remained Stationary this turn, add 1 to that attack's Hit roll.  \\n- Add 1 to Hit rolls if the bearer's unit Remained Stationary this turn.  \\n26  \\nCORE RULES | WEAPON ABILITIES\\n27  \\n#### Hazardous\",\n",
       "  'type': 'Document'},\n",
       " {'id': None,\n",
       "  'metadata': {'Header 1': 'Weapon Abilities'},\n",
       "  'page_content': '27  \\n#### Hazardous  \\nWeapons powered by unstable and dangerous energy sources pose a substantial risk to the wielder every time they are used. Weapons with **[HAZARDOUS]** in their profile are known as Hazardous weapons. Each time a unit is selected to shoot or fight, if one or more models attack with Hazardous weapons, then after that unit has resolved all of its attacks, you must take one Hazardous test for each Hazardous weapon that was just used by rolling one D6. For each roll of 1, that test is failed and one model in that unit equipped with a Hazardous weapon is destroyed (selected by the controlling player), unless that model is a **Character**, Monster or **Vehicle**, in which case it suffers 3 mortal wounds instead. Note that if you selected a Character model in an Attached unit, the mortal wounds suffered must be allocated to that model first, even if there is another model in that unit that has lost one or more wounds or has had attacks allocated to it this phase.',\n",
       "  'type': 'Document'},\n",
       " {'id': None,\n",
       "  'metadata': {'Header 1': 'Weapon Abilities'},\n",
       "  'page_content': 'Example: A unit of five models make five attacks with ranged weapons with the **[HAZARDOUS]** *ability.* After the unit has finished shooting, its controlling player rolls five D6. One of the results is a 1, and as no models in the unit are Characters, **Monsters** *or* Vehicles*, one of those models is destroyed.*\\n- After a unit shoots or fights, roll one Hazardous test (one D6) for each Hazardous weapon used. For each 1, one model equipped with a Hazardous weapon is destroyed (**Characters**, Monsters and **Vehicles** suffer 3 mortal wounds instead).  \\n#### Devastating Wounds  \\nSome weapons can inflict strikes of such power that they make a mockery of armour and can cleave through several foes. Weapons with **[DEVASTATING WOUNDS]** in their profile are known as Devastating Wounds weapons. Each time an attack is made with such a weapon, a Critical Wound inflicts a number of mortal wounds on the target equal to the Damage characteristic of that weapon and the attack sequence ends.',\n",
       "  'type': 'Document'},\n",
       " {'id': None,\n",
       "  'metadata': {'Header 1': 'Weapon Abilities'},\n",
       "  'page_content': \"Example: An attack made with a Devastating Wounds weapon with a Damage characteristic of 2 scores a Critical Wound. Instead of allocating the attack and making saving throws normally, the target suffers 2 mortal wounds.  \\n- A Critical Wound inflicts mortal wounds equal to the weapon's Damage characteristic, instead of any normal damage.  \\n#### Sustained Hits  \\nSome weapons strike in a flurry of blows, tearing the foe apart with relentless ferocity. Weapons with **[SUSTAINED HITS X]** in their profile are known as Sustained Hits weapons. Each time an attack is made with such a weapon, if a Critical Hit is rolled, that attack scores a number of additional hits on the target as denoted by 'x'.  \\nExample: *A model makes an attack with a melee* weapon with the **[SUSTAINED HITS 2]** ability. If the Hit roll is an unmodified 6 (a Critical Hit), then that attack scores a total of 3 hits on the target (1 from the successful Hit roll of 6, and 2 from the [SUSTAINED HITS 2] *ability).*\",\n",
       "  'type': 'Document'},\n",
       " {'id': None,\n",
       "  'metadata': {'Header 1': 'Weapon Abilities'},\n",
       "  'page_content': \"- **[SUSTAINED HITS X]:** Each Critical Hit scores 'x' additional hits on the target.  \\n#### Extra Attacks  \\nSome warriors ride to battle atop trusty mounts that gore and trample nearby foes. Others wield combat weapons that deliver a frenzy of additional blows. Weapons with **[EXTRA ATTACKS]** in their profile are known as Extra Attacks weapons. Each time the bearer of such a weapon fights, it can make attacks with that weapon in addition to the one it chooses to fight with. The number of attacks made with an Extra Attacks weapon cannot be modified by other rules.  \\n- The bearer can attack with this weapon in addition to any other weapons it can make attacks with.  \\n#### Anti  \\nCertain weapons are the bane of a particular foe. Weapons with **[ANTI-KEYWORD X+]** in their profile are known as Anti weapons. Each time an attack is made with such a weapon against a target with the keyword after the word 'Anti-', an unmodified Wound roll of 'x+' scores a Critical Wound.\",\n",
       "  'type': 'Document'},\n",
       " {'id': None,\n",
       "  'metadata': {'Header 1': 'Weapon Abilities'},\n",
       "  'page_content': \"Example: *An attack made with an* **[ANTI-VEHICLE 4+]** weapon will score a Critical Wound against - and so successfully wound - a **Vehicle** unit on an unmodified Wound roll of 4+, while an attack made with an **[ANTI-PSYKER 2+]** weapon will score a Critical Wound against - and so successfully wound - a Psyker *unit on an unmodified Wound roll of 2+.*\\n- **[ANTI-KEYWORD X+]:** An unmodified Wound roll of\\n'x+' against a target with the matching keyword scores a Critical Wound.  \\n28\",\n",
       "  'type': 'Document'},\n",
       " {'id': None,\n",
       "  'metadata': {'Header 1': 'Charge Phase'},\n",
       "  'page_content': 'Warriors hurl themselves into battle to slay with blade, hammer and claw. Strident war cries and frantic screams echo through the whirling smoke as the moment of cataclysmic violence draws near.  \\n#### Charge Bonus  \\nMany warriors thunder headlong into combat, using the impetus of their charge to bring swift death to their foes. Each time a unit makes a Charge move, until the end of the turn, that unit has the Fights First ability (pg 32).  \\n1 2 3 5',\n",
       "  'type': 'Document'},\n",
       " {'id': None,\n",
       "  'metadata': {'Header 1': 'Charge Phase'},\n",
       "  'page_content': '1 2 3 5\\nIn your Charge phase, if you have any eligible units from your army on the battlefield that you want to charge into close combat, you can select those units, one at a time, to declare a charge. Each can only be selected once per phase. Once all of these charges (if any) have been resolved, progress to the Fight phase. A unit is eligible to charge if it is within 12\" of one or more enemy units at the start of your Charge phase, unless any of the following apply: - That unit Advanced or Fell Back this turn. - That unit is within Engagement Range of any enemy models.  \\n- That unit is an **Aircraft** unit.  \\n#### Charging With A Unit',\n",
       "  'type': 'Document'},\n",
       " {'id': None,\n",
       "  'metadata': {'Header 1': 'Charge Phase'},\n",
       "  'page_content': '#### Charging With A Unit  \\nOnce you have selected an eligible unit to declare a charge, you must select one or more enemy units within 12\" of it as the targets of that charge. The targets of a charge do not need to be visible to the charging unit. You then make a Charge roll for the charging unit by rolling 2D6. The result is the maximum number of inches each model in that unit can be moved if a Charge move is possible. For a Charge move to be possible, the Charge roll must be sufficient to enable the charging unit to end that move: - Within Engagement Range of every unit that you selected as a target of the charge.  \\n- Without moving within Engagement Range of any enemy units that were not a target of the charge.',\n",
       "  'type': 'Document'},\n",
       " {'id': None,\n",
       "  'metadata': {'Header 1': 'Charge Phase'},\n",
       "  'page_content': '- In Unit Coherency. If any of these conditions cannot be met, the charge fails and no models in the charging unit move this phase. Otherwise, the charge is successful and the models in the charging unit make a Charge move - move each model a distance in inches up to the result of the Charge roll. When doing so, each model in the charging unit must end its Charge move closer to one of the units selected as a target of its charge. If you can also move a charging model so that it ends its Charge move in base-to-base contact with one or more enemy models while still enabling the charging unit to end its move satisfying all of the conditions above, you must do so. The controlling player chooses the order in which to move their models.  \\n- **Charge Roll:** 2D6\". - Targets of a charge must be within 12\" but do not need to be visible. - If the distance rolled is insufficient to move within Engagement Range of all targets while maintaining Unit Coherency, the charge fails.',\n",
       "  'type': 'Document'},\n",
       " {'id': None,\n",
       "  'metadata': {'Header 1': 'Charge Phase'},\n",
       "  'page_content': '- Cannot move within Engagement Range of any unit that was not a target of the charge.  \\n- If the charge is successful, each model makes a Charge move less than or equal to the Charge roll, and must move into base-to-base contact with an enemy model if possible.  \\n29  \\n#### Charging Over Terrain  \\nUnless otherwise stated, a model can be moved over a terrain feature when it makes a Charge move, but not through it. A model can be moved over terrain features that are 2\" or less in height as if they were not there. A model can be moved vertically in order to climb up, down and over any terrain features that are taller than this, counting the vertical distance up and/or down as part of its Charge move. Models cannot end a Charge move mid-climb - if it is not possible to make a Charge move as a result, the charge fails.  \\n- Models can be moved freely over terrain features 2\" or less in height.  \\n- Models cannot move through terrain features taller than 2\", but can climb up and down them.',\n",
       "  'type': 'Document'},\n",
       " {'id': None,\n",
       "  'metadata': {'Header 1': 'Charge Phase'},\n",
       "  'page_content': \"#### Charging With Flying Models  \\nWhen a model that can Fly starts or ends a Charge move on a terrain feature, instead of measuring the path it has moved across the battlefield, you instead measure its path 'through the air'. In addition, it can be moved over other models as if they were not there. A model that can Fly cannot end any move on top of another model.  \\n- Fly models can move over other models when they make a Charge move.  \\n- **Fly** models that start or end a Charge move on a terrain feature measure distance moved through the air when they make a Charge move.  \\nthrough the air. 30 1 2 3 5  \\n1000\",\n",
       "  'type': 'Document'},\n",
       " {'id': None,\n",
       "  'metadata': {'Header 1': 'Fight Phase'},\n",
       "  'page_content': 'Carnage engulfs the battlefield as the warring armies meet head-on. Fangs and claws crunch through bone. Blades ring like hammers on anvils. Blood spurts and flesh tears as hate-filled foes tear one another apart.',\n",
       "  'type': 'Document'},\n",
       " {'id': None,\n",
       "  'metadata': {'Header 1': 'Fight Phase'},\n",
       "  'page_content': \"In both steps of the Fight phase, players alternate selecting eligible units from their army, one at a time, starting with the player whose turn is not taking place, and fighting with them. Note that a player cannot pass or opt not to fight when they have one or more eligible units that could fight - they must select one of them to fight. In both steps, a unit is eligible to fight if either or both of the following apply: - It is within Engagement Range of one or more enemy units. - It made a Charge move this turn. No unit can fight more than once in the Fight phase. In each step, if all of one player's eligible units that can fight during that step have fought, the opposing player can then fight with all of their remaining eligible units that can fight during that step, one at a time. Once neither player has any eligible units to fight with during the current step, you progress to the next step. Once all eligible units have fought in every step, the Fight phase ends. The player's\",\n",
       "  'type': 'Document'},\n",
       " {'id': None,\n",
       "  'metadata': {'Header 1': 'Fight Phase'},\n",
       "  'page_content': \"phase ends. The player's turn then ends and, unless the battle ends, the next player's turn begins. Note that after an enemy unit has fought and finished its Consolidation move (pg 35), it might be that previously ineligible units are now eligible - these units can then be selected to fight during the Remaining Combats step.\",\n",
       "  'type': 'Document'},\n",
       " {'id': None,\n",
       "  'metadata': {'Header 1': 'Fight Phase', 'Header 2': '1. Fights First'},\n",
       "  'page_content': 'In this step, all eligible units with the Fights First ability fight (pg 33-36). Remember that this will include units that made a Charge move this turn and that have a Charge bonus (pg 29).  \\n#### Fights First  \\nSome warriors attack with blinding speed, landing their blows before their foes can react. Units with this ability that are eligible to fight do so in the Fights First step, provided every model in the unit has this ability.',\n",
       "  'type': 'Document'},\n",
       " {'id': None,\n",
       "  'metadata': {'Header 1': 'Fight Phase', 'Header 2': '2. Remaining Combats'},\n",
       "  'page_content': 'In this step, all remaining eligible units fight. This includes any units with the Fights First ability that were not eligible to fight at the start of the Fight phase, but have since become eligible to fight.  \\nThe Fight phase is split into two  \\nsteps. Units that have the ability to Fight First do so, followed by any remaining eligible units.  \\nRemaining units that  \\ncan fight do so 1 2 3 4',\n",
       "  'type': 'Document'},\n",
       " {'id': None,\n",
       "  'metadata': {'Header 1': 'Fight'},\n",
       "  'page_content': '2 3 When you select a unit to fight, it first Piles In, then its models make melee attacks, then the unit Consolidates.  \\nMAKE MELEE ATTACKS  \\nSelect weapon Select targets Make attacks 3 CONSOLIDATE',\n",
       "  'type': 'Document'},\n",
       " {'id': None,\n",
       "  'metadata': {'Header 1': 'Fight', 'Header 2': '1. Pile In'},\n",
       "  'page_content': 'When a unit Piles In, you can move each model in that unit that is not already in base-to-base contact with an enemy model up to 3\" - this is a Pile-in move. For a Pile In to be possible, a unit must be able to end these moves within Engagement Range of one or more enemy units and in Unit Coherency. If these conditions cannot be met, no models in the unit can make Pile-in moves this phase and you progress to making melee attacks with that unit. Otherwise, the unit can make Pile-in moves. Each time a model makes a Pile-in move, it must end that move closer to the closest enemy model. If it can also end that move in base-to-base contact with one or more enemy models while still satisfying all of the conditions above, it must do so. The controlling player chooses the order in which to move their models.',\n",
       "  'type': 'Document'},\n",
       " {'id': None,\n",
       "  'metadata': {'Header 1': 'Fight', 'Header 2': '1. Pile In'},\n",
       "  'page_content': '- **Pile-in Move:** Up to 3\". - Every model that moves must end closer to the closest enemy model, and in base-to-base contact with an enemy model if possible. The unit must end in Unit Coherency and within Engagement Range of at least one enemy unit (or no models can Pile In).',\n",
       "  'type': 'Document'},\n",
       " {'id': None,\n",
       "  'metadata': {'Header 1': 'Fight', 'Header 2': '2. Make Melee Attacks'},\n",
       "  'page_content': 'When a unit makes its melee attacks, before resolving those attacks you must first determine which models can fight, then select which melee weapon each of those models will make attacks with, then select the targets for those attacks.  \\n#### Which Models Fight  \\nWhen a unit makes its melee attacks, only models in that unit that are either within Engagement Range of an enemy unit, or in base-to-base contact with another model from their own unit that is itself in base-to-base contact with an enemy unit, can fight.  \\n- A model can fight if it is within Engagement Range of an enemy unit.  \\n- A model can fight if it is in base-to-base contact with another model from its own unit that is itself in base-to-base contact with an enemy unit.  \\n#### Select Weapon',\n",
       "  'type': 'Document'},\n",
       " {'id': None,\n",
       "  'metadata': {'Header 1': 'Fight', 'Header 2': '2. Make Melee Attacks'},\n",
       "  'page_content': '#### Select Weapon  \\nWhen a model fights, it must do so using a melee weapon it is equipped with. The weapons a model is equipped with are described on its datasheet. If a model has more than one melee weapon, it can only use one of them to make attacks with each time it fights, so you must now declare which it will use before resolving any of its attacks.  \\n1 4 33 If the selected weapon has more than one profile to choose between, a model can only use one of them to make attacks with each time it fights, so you must also declare which profile it will use before resolving any of its attacks. When a model fights, it will make a number of melee attacks determined by the Attacks (A) characteristic of the melee weapon it is using.  \\n- Each model that can fight does so using one of its melee weapons.  \\n- Each model makes a number of attacks equal to the Attacks characteristic of its selected weapon.  \\n#### Select Targets',\n",
       "  'type': 'Document'},\n",
       " {'id': None,\n",
       "  'metadata': {'Header 1': 'Fight', 'Header 2': '2. Make Melee Attacks'},\n",
       "  'page_content': 'Before you resolve any melee attacks, you must first select the enemy units that will be the targets for all of those attacks. In order to select an enemy unit as the target of a melee attack, the attacking model must be either within Engagement Range of that enemy unit, or in base-to-base contact with another model in its own unit that is itself in base-to-base contact with that enemy unit. If the melee weapon a model is using to fight with can make more than one attack, those attacks can all be made against the same target, or they can be split between different targets. Similarly, if a unit has more than one model, each model can make its attacks at the same, or different, targets. In either case, declare which attacks will target which units before any attacks are resolved. If there are no eligible targets (because there are no enemy units within Engagement Range, for example) then that unit cannot make melee attacks this phase, but it can still Consolidate (pg 35).',\n",
       "  'type': 'Document'},\n",
       " {'id': None,\n",
       "  'metadata': {'Header 1': 'Fight', 'Header 2': '2. Make Melee Attacks'},\n",
       "  'page_content': '- Select targets for all attacks before any are resolved. - Attacking model must either be within Engagement Range of an enemy unit to target it, or in base-to-base contact with another model in its unit that is itself in base-to-base contact with that enemy unit.  \\n#### Make Attacks',\n",
       "  'type': 'Document'},\n",
       " {'id': None,\n",
       "  'metadata': {'Header 1': 'Fight', 'Header 2': '2. Make Melee Attacks'},\n",
       "  'page_content': \"#### Make Attacks  \\nMelee attacks follow the same attack sequence as ranged attacks (see Making Attacks, pages 21-23), and you make one Hit roll for each attack being made. If more than one enemy unit has been targeted by an attacking unit's melee attacks, resolve all of the attacks against one target before moving onto the next. If your unit is making attacks with more than one melee weapon against a unit, and those weapons have different profiles, then after you have resolved an attack with one of those weapons, if any other weapons with the same profile are also being used to make attacks against that unit, you must resolve those attacks before resolving any other attacks against the target. Note that all of the attacks you have declared targets for are always resolved against the target units, even if, when you come to resolve an attack, no models in the target unit of that attack\",\n",
       "  'type': 'Document'},\n",
       " {'id': None,\n",
       "  'metadata': {'Header 1': 'Fight', 'Header 2': '2. Make Melee Attacks'},\n",
       "  'page_content': \"34 remain within Engagement Range of the attacking model's unit (because of models being destroyed as the result of other attacks made by the attacking model's unit, for example).  \\n- Resolve all attacks against one unit before moving onto the next.  \\n- Resolve all attacks with the same weapon profile before resolving any made with a different weapon profile.  \\n- All attacks declared against a target unit are resolved, even if no models in that unit remain within Engagement Range.\",\n",
       "  'type': 'Document'},\n",
       " {'id': None,\n",
       "  'metadata': {'Header 1': 'Fight', 'Header 2': '3. Consolidate'},\n",
       "  'page_content': 'After a unit has finished making all of its melee attacks, it Consolidates. Each time a unit Consolidates, you can move each model in that unit that is not already in base-to-base contact with an enemy model up to 3\" - this is a Consolidation move. For a Consolidation to be possible, a unit must be able to end these moves within Engagement Range of one or more enemy units and in Unit Coherency. If these conditions cannot be met, then each model in that unit can instead make a Consolidation move towards the closest objective marker, but only if, after doing so, that unit is within range of that objective marker and in Unit Coherency. If these conditions also cannot be met, no models in the unit can make Consolidation moves this phase and that unit\\'s fight ends. If a unit can end its Consolidation within Engagement Range of one or more enemy units, then each time one of its models makes a Consolidation move, it must end that move closer to the closest enemy model. If it can also end that',\n",
       "  'type': 'Document'},\n",
       " {'id': None,\n",
       "  'metadata': {'Header 1': 'Fight', 'Header 2': '3. Consolidate'},\n",
       "  'page_content': 'If it can also end that move in base-to-base contact with one or more enemy models while still satisfying all of the conditions above, it must do so. The controlling player chooses the order in which to move their models.',\n",
       "  'type': 'Document'},\n",
       " {'id': None,\n",
       "  'metadata': {'Header 1': 'Fight', 'Header 2': '3. Consolidate'},\n",
       "  'page_content': '- **Consolidation Move:** Up to 3\". - Every model that moves must end closer to the closest enemy model, and in base-to-base contact with an enemy model if possible. The unit must end in Unit Coherency and within Engagement Range of at least one enemy unit if possible.  \\n- If the above is not possible, each model can move towards the closest objective marker, but this must result in the unit being within range of it and in Unit Coherency.  \\n- If the above is also not possible, no models can Consolidate.  \\n1 2 3 4  \\n35  \\n- these Termagants will also get to make attacks. The remaining two Termagants are too distant from the foe, and will not get to make attacks.',\n",
       "  'type': 'Document'},\n",
       " {'id': None,\n",
       "  'metadata': {'Header 1': 'Fight', 'Header 2': '3. Consolidate'},\n",
       "  'page_content': 'C After the Termagants have made all of their attacks, one enemy model has been destroyed. The Termagants now Consolidate; just like when they Piled In, each model must move up to 3\" in order to end closer to the closest enemy model, and in base-to-base contact if they can. Three Termagants are already in base-to-base contact, and so are not moved.  \\n2 3  \\n4 1 36',\n",
       "  'type': 'Document'},\n",
       " {'id': None,\n",
       "  'metadata': {'Header 1': 'Datasheets'},\n",
       "  'page_content': 'Each unit has a datasheet that lists the characteristics, wargear, abilities and keywords of its models. This section presents a summary of these elements and how they relate to playing the game.  \\nEXAMPLE DATASHEET *(PROFILES AND ABILITIES)*  \\n| RANGED WEAPONS                | RANGE   | A   | BS   | S   | AP   | D   |\\n|-------------------------------|---------|-----|------|-----|------|-----|\\n| Example weapon [PISTOL]       | 12\"     | D3  | 2+   | 4   | \\\\-1  | 1   |\\n| Example weapon [RAPID FIRE 1] | 24\"     | 2   | 2+   | 4   | 0    | 1   |\\n| MELEE WEAPONS                 | RANGE   | A   | WS   | S   | AP   | D   |\\n| Example weapon                | Melee   | 4   | 2+   | 4   | \\\\-3  | 1   |  \\nM T SV W LD OC\\n5\" 4 2+ 7 4+ 1 KEYWORDS: **Imperium, Infantry, Character, Terminator**  \\n1 4\\n37  \\nThese contain the following characteristics that tell you how mighty the models in the unit are:',\n",
       "  'type': 'Document'},\n",
       " {'id': None,\n",
       "  'metadata': {'Header 1': 'Datasheets'},\n",
       "  'page_content': \"Move (M): This is the speed at which a model moves across the battlefield. If a model has a Move of '-' it is unable to move at all.  \\nToughness (T): This reflects the model's resilience against physical harm.  \\nSave (Sv): This indicates the protection a model's armour gives them.  \\nWounds (W): Wounds represent how much damage a model can sustain before it succumbs to its injuries. If a model's Wounds characteristic is reduced to 0, that model is destroyed.  \\nLeadership (Ld): This reveals how courageous, determined or self-controlled a model is. The lower this number, the better a model's Leadership is.  \\nObjective Control (OC): This shows how effectively a model can exert control over an objective on the battlefield.  \\n#### 3 Abilities\",\n",
       "  'type': 'Document'},\n",
       " {'id': None,\n",
       "  'metadata': {'Header 1': 'Datasheets'},\n",
       "  'page_content': \"#### 3 Abilities  \\nMany units have special abilities and rules that may apply during the game, from Core Rules shared by many units to bespoke Psychic abilities and invulnerable saves. These will be described here, along with any rules that apply when larger models such as vehicles have suffered sufficient damage. Some abilities are bestowed by items of wargear that models in a unit can be equipped with, and are known as Wargear abilities. These only apply while a model in the unit is equipped with the relevant item of wargear.  \\nWeapons are described with the following characteristics:\\nRange: How far the weapon can shoot.  \\nWeapons with a range of 'Melee' are melee weapons and can only be used in close combat. All other weapons are ranged weapons.  \\nAttacks (A): This tells you how many attacks are made each time that weapon is used.  \\nWeapon Skill (WS): This reflects the bearer's skill in wielding the relevant melee weapon.\",\n",
       "  'type': 'Document'},\n",
       " {'id': None,\n",
       "  'metadata': {'Header 1': 'Datasheets'},\n",
       "  'page_content': \"Ballistic Skill (BS): This shows how accurate the bearer is when shooting with the relevant ranged weapon.  \\nStrength (S): How likely the weapon is to wound a foe.  \\nArmour Penetration (AP): This represents the weapon's ability to cut through the target's defences.  \\nDamage (D): The amount of damage inflicted by a successful wound.  \\n#### 5 Keywords  \\nDatasheets have a list of keywords, separated into Faction keywords and other keywords. The former are used when deciding which models to include in your army, but otherwise both sets of keywords are functionally the same.  \\n#### 6 Unit Composition  \\nAnd Other Rules  \\nThis section details the number and types of models in the unit, and the default weapons and wargear those models are equipped with. It may also describe other interactions, such as how units with the Leader ability can attach to other units, and passenger restrictions that may apply to Transport models.  \\n#### 7 Wargear Options\",\n",
       "  'type': 'Document'},\n",
       " {'id': None,\n",
       "  'metadata': {'Header 1': 'Datasheets'},\n",
       "  'page_content': '#### 7 Wargear Options  \\nSome datasheets have a bullet-pointed list of wargear options. When you include such a unit in your army, you can use these options to change the weapons and other wargear of models in the unit. The order you use these options in does not matter, but each can only be used once.  \\n#### Leadership Tests  \\nIf a rule requires you to take a Leadership test for a unit, roll 2D6: if the total is greater than or equal to the best Leadership characteristic in that unit, that test is passed. Otherwise, it is failed.  \\n#### Random Characteristics',\n",
       "  'type': 'Document'},\n",
       " {'id': None,\n",
       "  'metadata': {'Header 1': 'Datasheets'},\n",
       "  'page_content': '#### Random Characteristics  \\nSome characteristics are a random value instead of a number. For example, a model\\'s Move characteristic might be 2D6\", or a weapon\\'s Attacks characteristic might be D6. When a unit with a random Move characteristic is selected to move, determine the entire unit\\'s move distance by rolling the indicated number of dice. For all other characteristics, roll to determine the value on an individual, per-model or per-weapon basis each time that characteristic is required.  \\n#### Aura Abilities  \\nSome abilities affect multiple models or units in a given range. These are known as Aura abilities and are tagged with the word \\'Aura\\'. A model with an Aura ability is always within range of its own Aura ability. A unit can be affected by more than one Aura ability at a time, but if a unit is within range of the same Aura ability more than once, that Aura ability only applies to that unit once.  \\n#### Psychic Weapons And Abilities',\n",
       "  'type': 'Document'},\n",
       " {'id': None,\n",
       "  'metadata': {'Header 1': 'Datasheets'},\n",
       "  'page_content': \"Some weapons and abilities can only be used by **Psykers**. Such weapons and abilities are tagged with the word 'Psychic'. If a Psychic weapon or ability causes any unit to suffer one or more wounds, each of those wounds is considered to have been inflicted by a Psychic Attack.\",\n",
       "  'type': 'Document'},\n",
       " {'id': None,\n",
       "  'metadata': {'Header 1': 'Deployment Abilities'},\n",
       "  'page_content': 'Some abilities are used during deployment, or when setting a unit up - either on the battlefield or into Reserves. These are known as Deployment abilities, and some widespread examples of these are presented below.  \\n#### Deep Strike  \\nSome units make their way to battle via tunnelling, teleportation, high-altitude descent or other extraordinary means that allow them to appear suddenly in the thick of the fighting. During the Declare Battle Formations step, if every model in a unit has this ability, you can set it up in Reserves instead of setting it up on the battlefield. If you do, in the Reinforcements step of one of your Movement phases you can set up this unit anywhere on the battlefield that is more than 9\" horizontally away from all enemy models.  \\n- Unit can be set up in Reserves instead of on the battlefield.  \\n- Unit can be set up in your Reinforcements step, more than 9\" horizontally away from all enemy models.  \\n#### Scouts',\n",
       "  'type': 'Document'},\n",
       " {'id': None,\n",
       "  'metadata': {'Header 1': 'Deployment Abilities'},\n",
       "  'page_content': '#### Scouts  \\nScouts form the vanguard of many armies. Unnoticed by the enemy, they range ahead of the main force. Some units have \\'Scouts x\"\\' listed in their abilities. If every model in a unit has this ability, then at the start of the first battle round, before the first turn begins, it can make a Normal move of up to x\" as if it were your Movement phase - as can any Dedicated Transport model such a unit starts the battle embarked within (provided only models with this ability are embarked within that Dedicated Transport model). A unit that moves using this ability must end that move more than 9\" horizontally away from all enemy models. If both players have units that can do this, the player who is taking the first turn moves their units first.  \\nExample: A unit has the Scouts 6\" ability. At the start of the first battle round, the controlling player can make a Normal move with that unit of up to 6\".',\n",
       "  'type': 'Document'},\n",
       " {'id': None,\n",
       "  'metadata': {'Header 1': 'Deployment Abilities'},\n",
       "  'page_content': '- **Scouts x\":** Unit can make a Normal move of up to x\" before the first turn begins.  \\n- If embarked in a Dedicated **Transport**,\\nthat Dedicated **Transport** can make this move instead.  \\n- Must end this move more than 9\" horizontally away from all enemy models.  \\n39  \\n#### Infiltrators  \\nMany armies employ reconnaissance units who can sit concealed, waiting for the right moment to strike. During deployment, if every model in a unit has this ability, then when you set it up, it can be set up anywhere on the battlefield that is more than 9\" horizontally away from the enemy deployment zone and all enemy models.  \\n#### Leader  \\nMighty heroes fight at the forefront of battle.',\n",
       "  'type': 'Document'},\n",
       " {'id': None,\n",
       "  'metadata': {'Header 1': 'Deployment Abilities'},\n",
       "  'page_content': \"Some **Character** units have 'Leader' listed on their datasheets. Such **Character** units are known as Leaders, and the units they can lead - known as their Bodyguard units - are listed on their datasheet. During the Declare Battle Formations step, for each Leader in your army, if your army also includes one or more of that Leader's Bodyguard units, you can select one of those Bodyguard units. That Leader will then attach to that Bodyguard unit for the duration of the battle and is said to be leading that unit. Each Bodyguard unit can only have one Leader attached to it. While a Bodyguard unit contains a Leader, it is known as an Attached unit and, with the exception of rules that are triggered when units are destroyed (pg 12), it is treated as a single unit for all rules purposes. Each time an attack targets an Attached unit, until the attacking unit has resolved all of its attacks, you must use the Toughness characteristic of the Bodyguard models in that unit, even if a Leader in\",\n",
       "  'type': 'Document'},\n",
       " {'id': None,\n",
       "  'metadata': {'Header 1': 'Deployment Abilities'},\n",
       "  'page_content': 'unit, even if a Leader in that unit has a different Toughness characteristic. Each time an attack sucessfully wounds an Attached unit, that attack cannot be allocated to a **Character** model in that unit, even if that **Character** model has lost one or more wounds or has already had attacks allocated to it this phase. As soon as the last Bodyguard model in an Attached unit has been destroyed, any attacks made against that unit that have yet to be allocated can then be allocated to Character models in that unit.',\n",
       "  'type': 'Document'},\n",
       " {'id': None,\n",
       "  'metadata': {'Header 1': 'Deployment Abilities'},\n",
       "  'page_content': '- Before the battle, **Character** units with the Leader ability can be attached to one of their Bodyguard units to form an Attached unit.  \\n- Attached units can only contain one Leader. - Attacks cannot be allocated to **Character**\\nmodels in Attached units.',\n",
       "  'type': 'Document'},\n",
       " {'id': None,\n",
       "  'metadata': {'Header 1': 'Stratagems'},\n",
       "  'page_content': \"Command points can be spent during the battle to use Stratagems. All players can use the Core Stratagems presented here. Additional Stratagems can be found in Codexes and other publications.  \\nWhen you use a Stratagem, reduce your CP total by the amount listed on that Stratagem. If you do not have enough CP for a specific Stratagem, you cannot use it. You can use the same Stratagem multiple times during a battle, but you cannot use the same Stratagem more than once in the same phase.  \\n- To use a Stratagem you must pay the CP specified.  \\n- The same Stratagem cannot be used more than once in the same phase.  \\n#### Stratagems Key  \\nEITHER PLAYER'S TURN YOUR TURN OPPONENT'S TURN  \\n#### Stratagem Categories  \\nEach Stratagem belongs to one of four categories, as described below. There are some rules (especially in Crusade games) that interact with Stratagems of a particular category.\",\n",
       "  'type': 'Document'},\n",
       " {'id': None,\n",
       "  'metadata': {'Header 1': 'Stratagems'},\n",
       "  'page_content': \"BATTLE TACTIC: These Stratagems bolster a unit's efficacy in battle, boosting their attacks or defensive capabilities at a critical moment.  \\nEPIC DEED: These Stratagems are used by individual models or units to perform mighty feats of heroism.  \\nSTRATEGIC PLOY: These Stratagems enable units to gain new strategic insights, granting them a small but valuable window of opportunity.  \\nWARGEAR: These Stratagems represent the effects of using specialised items of equipment in battle.  \\n#### Command Re-Roll  \\nCORE - BATTLE TACTIC STRATAGEM\\nA great commander can bend even the vagaries of fate and fortune to their will, the better to ensure victory.  \\n1CP 2CP\",\n",
       "  'type': 'Document'},\n",
       " {'id': None,\n",
       "  'metadata': {'Header 1': 'Stratagems'},\n",
       "  'page_content': '1CP 2CP\\nWHEN: In any phase, just after you have made a Hit roll, a Wound roll, a Damage roll, a saving throw, an Advance roll, a Charge roll, a Desperate Escape test, a Hazardous test, or just after you have rolled the dice to determine the number of attacks made with a weapon, for an attack, model or unit from your army. EFFECT: You re-roll that roll, test or saving throw.  \\n#### Counter-Offensive  \\nCORE - STRATEGIC PLOY STRATAGEM\\nIn close-quarters combat, the slightest hesitation can leave an opening for a swift foe to exploit.  \\nWHEN: Fight phase, just after an enemy unit has fought. TARGET: One unit from your army that is within Engagement Range of one or more enemy units and that has not already been selected to fight this phase. EFFECT: Your unit fights next.  \\n#### Epic Challenge  \\nCORE - EPIC DEED STRATAGEM\\nThe legends of the 41st Millennium are replete with deadly duels between mighty champions.  \\n1CP',\n",
       "  'type': 'Document'},\n",
       " {'id': None,\n",
       "  'metadata': {'Header 1': 'Stratagems'},\n",
       "  'page_content': '1CP\\nWHEN: Fight phase, when a **Character** unit from your army that is within Engagement Range of one or more Attached units is selected to fight.  \\nTARGET: One **Character** model in your unit. EFFECT: Until the end of the phase, all melee attacks made by that model have the **[PRECISION]** ability (pg 26).  \\n#### Insane Bravery  \\nCORE - EPIC DEED STRATAGEM\\n1CP\\nIndifferent to their own survival, these warriors hold their ground against seemingly impossible odds.  \\nWHEN: Battle-shock step of your Command phase, just after you have failed a Battle-shock test taken for a unit from your army (pg 11). TARGET: The unit from your army that Battle-shock test was just taken for (even though your Battle-shocked units cannot normally be affected by your Stratagems).  \\nEFFECT: Your unit is treated as having passed that test instead, and is not Battle-shocked as a result.  \\n1CP  \\n#### Grenade  \\nCORE - WARGEAR STRATAGEM',\n",
       "  'type': 'Document'},\n",
       " {'id': None,\n",
       "  'metadata': {'Header 1': 'Stratagems'},\n",
       "  'page_content': 'CORE - WARGEAR STRATAGEM\\nPriming their hand-held projectiles, these warriors draw back and hurl death into the enemy\\'s midst.  \\n1CP\\nWHEN: Your Shooting phase. TARGET: One **Grenades** unit from your army that is not within Engagement Range of any enemy units and has not been selected to shoot this phase. EFFECT: Select one enemy unit that is not within Engagement Range of any units from your army and is within 8\" of and visible to your **Grenades** unit. Roll six D6: for each 4+, that enemy unit suffers 1 mortal wound.  \\n#### Tank Shock  \\nCORE - STRATEGIC PLOY STRATAGEM\\n1CP\\nRamming the foe with a speeding vehicle may be an unsubtle tactic, but it is a murderously effective one.  \\nWHEN: Your Charge phase.',\n",
       "  'type': 'Document'},\n",
       " {'id': None,\n",
       "  'metadata': {'Header 1': 'Stratagems'},\n",
       "  'page_content': \"WHEN: Your Charge phase.  \\nTARGET: One **Vehicle** unit from your army. EFFECT: Until the end of the phase, after your unit ends a Charge move, select one enemy unit within Engagement Range of it, then select one melee weapon your unit is equipped with. Roll a number of D6 equal to that weapon's Strength characteristic. If that Strength characteristic is greater than that enemy unit's Toughness characteristic, roll two additional D6. For each 5+, that enemy unit suffers 1 mortal wound (to a maximum of 6 mortal wounds).  \\n#### Rapid Ingress  \\nCORE - STRATEGIC PLOY STRATAGEM\\n1CP\\nBe it cunning strategy, potent technology or supernatural ritual, there are many means by which a commander may hasten their warriors' onset. WHEN: End of your opponent's Movement phase. TARGET: One unit from your army that is in Reserves. EFFECT: Your unit can arrive on the battlefield as if it were the Reinforcements step of your Movement phase.\",\n",
       "  'type': 'Document'},\n",
       " {'id': None,\n",
       "  'metadata': {'Header 1': 'Stratagems'},\n",
       "  'page_content': 'RESTRICTIONS: You cannot use this Stratagem to enable a unit to arrive on the battlefield during a battle round it would not normally be able to do so in.  \\n#### Fire Overwatch  \\nCORE - STRATEGIC PLOY STRATAGEM\\nA hail of wildfire can drive back advancing foes.  \\nWHEN: Your opponent\\'s Movement or Charge phase, just after an enemy unit is set up or when an enemy unit starts or ends a Normal, Advance, Fall Back or Charge move. TARGET: One unit from your army that is within 24\" of that enemy unit and that would be eligible to shoot if it were your Shooting phase.  \\nEFFECT: Your unit can shoot that enemy unit as if it were your Shooting phase. RESTRICTIONS: Until the end of the phase, each time a model in your unit makes a ranged attack, an unmodified Hit roll of 6 is required to score a hit, irrespective of the attacking weapon\\'s Ballistic Skill or any modifiers. You can only use this Stratagem once per turn.  \\n#### Go To Ground  \\nCORE - BATTLE TACTIC STRATAGEM\\n1CP',\n",
       "  'type': 'Document'},\n",
       " {'id': None,\n",
       "  'metadata': {'Header 1': 'Stratagems'},\n",
       "  'page_content': \"1CP\\nSeeking salvation from incoming fire, warriors hurl themselves into whatever cover they can find.  \\nWHEN: Your opponent's Shooting phase, just after an enemy unit has selected its targets. TARGET: One **Infantry** unit from your army that was selected as the target of one or more of the attacking unit's attacks.  \\nEFFECT: Until the end of the phase, all models in your unit have a 6+ invulnerable save and have the Benefit of Cover (pg 44).  \\n#### Smokescreen  \\nCORE - WARGEAR STRATAGEM\\nEven the most skilled marksmen struggle to hit targets veiled by billowing screens of smoke.  \\nWHEN: Your opponent's Shooting phase, just after an enemy unit has selected its targets. TARGET: One **Smoke** unit from your army that was selected as the target of one or more of the attacking unit's attacks.  \\nEFFECT: Until the end of the phase, all models in your unit have the Benefit of Cover (pg 44) and the Stealth ability (pg 20).  \\n#### Heroic Intervention  \\nCORE - STRATEGIC PLOY STRATAGEM\\n2CP\",\n",
       "  'type': 'Document'},\n",
       " {'id': None,\n",
       "  'metadata': {'Header 1': 'Stratagems'},\n",
       "  'page_content': '2CP\\nVoices raised in furious war cries, your warriors surge forth to meet the enemy\\'s onslaught head-on.  \\nWHEN: Your opponent\\'s Charge phase, just after an enemy unit ends a Charge move.  \\nTARGET: One unit from your army that is within 6\" of that enemy unit and would be eligible to declare a charge against that enemy unit if it were your Charge phase. EFFECT: Your unit now declares a charge that targets only that enemy unit, and you resolve that charge as if it were your Charge phase. RESTRICTIONS: You can only select a **Vehicle** unit from your army if it is a **Walker**. Note that even if this charge is successful, your unit does not receive any Charge bonus this turn (pg 29).  \\n1CP',\n",
       "  'type': 'Document'},\n",
       " {'id': None,\n",
       "  'metadata': {'Header 1': 'Strategic Reserves'},\n",
       "  'page_content': 'Strategic Reserves are forces that one or both players have chosen not to deploy at the start of the battle. These rules explain how to place units into Strategic Reserves, as well as how and when they arrive on the battlefield.  \\nThese rules let you place units into Strategic Reserves - a special type of Reserves you can use to keep units off the battlefield until you require them. Note that while all Strategic Reserves units are also technically Reserves units, the reverse is not true, and so these rules do not apply to units that are using other rules that enable them to start the battle in Reserves (e.g. Deep Strike). Such units are instead set up as described by those other rules.  \\n#### Placing Units Into Strategic Reserves  \\nBefore the battle, when you are instructed to Declare Battle Formations, you can select one or more units from your army to be placed into Strategic Reserves\\n(excluding **Fortifications**).',\n",
       "  'type': 'Document'},\n",
       " {'id': None,\n",
       "  'metadata': {'Header 1': 'Strategic Reserves'},\n",
       "  'page_content': 'The combined points value of all the units you wish to place into Strategic Reserves before the battle\\n(including those embarked within **Transport** models that are themselves placed into Strategic Reserves) cannot exceed 25% of your total points limit for your chosen battle size, as shown in the table below.  \\n| STRATEGIC RESERVES   |                                                                                              |\\n|----------------------|----------------------------------------------------------------------------------------------|\\n| BATTLE SIZE          | MAXIMUM COMBINED POINTS  VALUE OF UNITS THAT CAN  BE PLACED INTO STRATEGIC   RESERVES BEFORE |\\n|                      | THE BATTLE                                                                                   |\\n| Incursion            | 250                                                                                          |',\n",
       "  'type': 'Document'},\n",
       " {'id': None,\n",
       "  'metadata': {'Header 1': 'Strategic Reserves'},\n",
       "  'page_content': \"| Strike Force         | 500                                                                                          |\\n| Onslaught            | 750                                                                                          |  \\n- **Strategic Reserves:** Units that are not deployed at the start of the battle.  \\n- Combined points value cannot exceed 25% of your army's total.  \\n- Cannot put **Fortifications** into Strategic Reserves.  \\n#### Arriving From Strategic Reserves  \\nUnits that are placed into Strategic Reserves are called Strategic Reserves units, and can arrive later in the battle during the Reinforcements step of any of your Movement phases except during the first battle round. Any Strategic Reserves units that are not on the battlefield at the end of the battle count as destroyed.  \\n- Strategic Reserves units can arrive in the Reinforcements step of your Movement phase, from the second battle round onwards.\",\n",
       "  'type': 'Document'},\n",
       " {'id': None,\n",
       "  'metadata': {'Header 1': 'Strategic Reserves'},\n",
       "  'page_content': '- Those not on the battlefield at the end of the battle count as destroyed.  \\n#### Setting Up Strategic Reserves Units  \\nWhere on the battlefield a Strategic Reserves unit can be set up when it arrives depends on the battle round, as follows: - During the second battle round, Strategic Reserves units that arrive must be set up wholly within 6\" of any battlefield edge, but no model in those units can be set up within the enemy deployment zone.  \\n- Starting from the third battle round, Strategic Reserves units that arrive must be set up wholly within 6\" of any battlefield edge.  \\nIn any case, Strategic Reserves units cannot be set up within 9\" horizontally of any enemy models. All other rules that apply when setting up Reserves units also apply when setting up Strategic Reserves units.  \\n- During the second battle round, set up wholly within 6\" of any battlefield edge (not in enemy deployment zone).',\n",
       "  'type': 'Document'},\n",
       " {'id': None,\n",
       "  'metadata': {'Header 1': 'Strategic Reserves'},\n",
       "  'page_content': '- From the third battle round onwards, set up wholly within 6\" of any battlefield edge.  \\n- Cannot be set up within 9\" of any enemy models.  \\n43',\n",
       "  'type': 'Document'},\n",
       " {'id': None,\n",
       "  'metadata': {'Header 1': 'Terrain Features'},\n",
       "  'page_content': 'This section provides rules for using a range of terrain features that can transform your gaming table into an interactive, thematic battlefield set in the 41st Millennium. These rules help to bring your battlefield to life and introduce a vital tactical dimension to your games.  \\nBattlefields are populated with terrain features that your models will need to move over or around, and which can partially or fully block line of sight between models. The rules on the following pages apply to the most common terrain features on the battlefields of the 41st Millennium. Unless otherwise stated, models can move up, over and down terrain features following the normal rules for movement. Many terrain features follow the normal rules for  \\ndetermining visibility between models (pg 8), but some interact differently; in either case, this is stated on the following pages. Terrain features cannot be selected as the target of an attack.',\n",
       "  'type': 'Document'},\n",
       " {'id': None,\n",
       "  'metadata': {'Header 1': 'Terrain Features', 'Header 2': 'Benefit Of Cover'},\n",
       "  'page_content': 'Shattered ruins and twisted wreckage afford much-needed shelter from enemy salvoes. Even heavily armoured warriors unfazed by small arms fire are thankful for such cover when foes bring their biggest guns to bear. Models can sometimes gain a measure of protection from terrain features. The rules on pages 45-48 detail the conditions under which a terrain feature confers the Benefit of Cover on a model. Each time a ranged attack is allocated to a model that has the Benefit of Cover, add 1 to the saving throw made for that attack (excluding invulnerable saving throws). Models with a Save characteristic of 3+ or better cannot have the Benefit of Cover against attacks with an Armour Penetration characteristic of 0. Multiple instances of the Benefit of Cover are not cumulative - a model cannot benefit from this rule more than once at any one time.  \\n- **Benefit of Cover:** Add 1 to armour saving throws against ranged attacks.',\n",
       "  'type': 'Document'},\n",
       " {'id': None,\n",
       "  'metadata': {'Header 1': 'Terrain Features', 'Header 2': 'Benefit Of Cover'},\n",
       "  'page_content': '- Does not apply to models with a Save of 3+ or better against attacks with an AP of 0.  \\n- Multiple instances are not cumulative.',\n",
       "  'type': 'Document'},\n",
       " {'id': None,\n",
       "  'metadata': {'Header 1': 'Terrain Features',\n",
       "   'Header 2': 'Benefit Of Cover',\n",
       "   'Header 3': 'Craters And Rubble'},\n",
       "  'page_content': 'Many battlefields bear the scars of heavy and sustained bombardment.  \\n#### Movement  \\nModels can be moved over this terrain feature, as described on page 15.  \\n#### Visibility  \\nNormal visibility rules apply.  \\n#### Benefit Of Cover  \\nEach time a ranged attack is allocated to an **Infantry** model that is wholly on top of this terrain feature, that model has the Benefit of Cover against that attack.  \\nKEYWORDS: Area Terrain, **Crater**',\n",
       "  'type': 'Document'},\n",
       " {'id': None,\n",
       "  'metadata': {'Header 1': 'Terrain Features',\n",
       "   'Header 2': 'Benefit Of Cover',\n",
       "   'Header 3': 'Barricades And Fuel Pipes'},\n",
       "  'page_content': 'Fuel pipes and purpose-made defence lines are excellent positions from which to repel the enemy.  \\n#### Movement  \\nModels can move up, over and down this terrain feature, but they cannot be set up or end any kind of move on top of it.  \\n#### Visibility  \\nNormal visibility rules apply.  \\n#### Engagement Range  \\n- In the Charge phase, if an enemy unit is within 1\" of this terrain feature, a charging unit on the opposite side of this terrain feature can still make a Charge move against that enemy unit provided it ends that Charge move as close as possible to this terrain feature and within 2\" of that enemy unit.  \\n- In the Fight phase, units are eligible to fight - and models can make attacks - if their target is on the opposite side of this terrain feature and within 2\" of them.  \\n#### Benefit Of Cover',\n",
       "  'type': 'Document'},\n",
       " {'id': None,\n",
       "  'metadata': {'Header 1': 'Terrain Features',\n",
       "   'Header 2': 'Benefit Of Cover',\n",
       "   'Header 3': 'Barricades And Fuel Pipes'},\n",
       "  'page_content': '#### Benefit Of Cover  \\nEach time a ranged attack is allocated to an **Infantry** model that is wholly within 3\" of this terrain feature, if that model is not fully visible to every model in the attacking unit because of this terrain feature, that model has the Benefit of Cover against that attack.  \\nKEYWORDS: Obstacle, **Barricade**\\n45',\n",
       "  'type': 'Document'},\n",
       " {'id': None,\n",
       "  'metadata': {'Header 1': 'Battlefield Debris And Statuary'},\n",
       "  'page_content': 'Discarded industrial machinery, power reactors, ancient statuary and other detritus of war litter the battlefields of the 41st Millennium.  \\n#### Movement  \\nModels can move up, over and down this terrain feature, but they cannot be set up or end any kind of move on top of it.  \\n#### Visibility  \\nNormal visibility rules apply.  \\n#### Benefit Of Cover  \\nEach time a ranged attack is allocated to a model, if that model is not fully visible to every model in the attacking unit because of this terrain feature, that model has the Benefit of Cover against that attack.  \\nKEYWORDS: Obstacle, **Battlefield Debris**',\n",
       "  'type': 'Document'},\n",
       " {'id': None,\n",
       "  'metadata': {'Header 1': 'Battlefield Debris And Statuary',\n",
       "   'Header 3': 'Hills, Industrial Structures, Sealed Buildings And Armoured Containers'},\n",
       "  'page_content': \"A sealed bunker, Mechanicus gantry-way, armoured container or even a simple hill can shelter troops  \\nfrom the enemy's sight and provide a superior vantage point to those atop it.  \\n#### Movement  \\nThese terrain features are raised areas that models can be set up on top of or end a move on top of, provided the model's base does not overhang the terrain feature (if the model does not have a base, no part of that model that would be in contact with the battlefield at ground level can overhang that terrain feature). In addition, other terrain features can be set up on top of a **Hill** terrain feature, provided no part of those terrain features overhangs that **Hill** terrain feature.  \\n#### Visibility  \\nNormal visibility rules apply.  \\n#### Benefit Of Cover  \\nEach time a ranged attack is allocated to a model, if that model is not fully visible to every model in the attacking unit because of this terrain feature, that model has the Benefit of Cover against that attack.\",\n",
       "  'type': 'Document'},\n",
       " {'id': None,\n",
       "  'metadata': {'Header 1': 'Battlefield Debris And Statuary',\n",
       "   'Header 3': 'Hills, Industrial Structures, Sealed Buildings And Armoured Containers'},\n",
       "  'page_content': 'KEYWORDS: **Hill**\\n46',\n",
       "  'type': 'Document'},\n",
       " {'id': None,\n",
       "  'metadata': {'Header 1': 'Battlefield Debris And Statuary',\n",
       "   'Header 3': 'Woods'},\n",
       "  'page_content': 'Twisted woodlands and alien flora grow on many corpse-strewn battlefields, obscuring lines of fire and slowing the advance.  \\n#### Footprint Visibility  \\nWhen this terrain feature is set up on the battlefield, both players must agree upon its footprint - that is, the boundary of the terrain feature at ground level. This is so that players know when a model is wholly within this terrain feature. If this terrain feature is mounted on a base, then this will define its footprint.  \\n#### Movement  \\nModels can be moved over this terrain feature, as described on page 15.',\n",
       "  'type': 'Document'},\n",
       " {'id': None,\n",
       "  'metadata': {'Header 1': 'Battlefield Debris And Statuary',\n",
       "   'Header 3': 'Woods'},\n",
       "  'page_content': 'Models and units that are wholly within this terrain feature are never considered to be fully visible to an observing model. Similarly, if a model that is not wholly within this terrain feature must look through or over this terrain feature in order to draw line of sight to another model, then that other model is never considered to be fully visible to that observing model, and so it will have the Benefit of Cover from this terrain feature. **Aircraft** and **Towering** models are exceptions to this - visibility to and from such models is determined normally, even if this terrain feature is wholly in between them and the observing model. Models that are wholly within this terrain feature can see out of it normally.  \\n#### Benefit Of Cover',\n",
       "  'type': 'Document'},\n",
       " {'id': None,\n",
       "  'metadata': {'Header 1': 'Battlefield Debris And Statuary',\n",
       "   'Header 3': 'Woods'},\n",
       "  'page_content': '#### Benefit Of Cover  \\nEach time a ranged attack is allocated to a model, if that model is either wholly within this terrain feature, or it is not fully visible to every model in the attacking unit because of this terrain feature, that model has the Benefit of Cover against that attack.  \\nKEYWORDS: Area Terrain, **Woods**  \\n47',\n",
       "  'type': 'Document'},\n",
       " {'id': None,\n",
       "  'metadata': {'Header 1': 'Battlefield Debris And Statuary',\n",
       "   'Header 3': 'Ruins'},\n",
       "  'page_content': 'The galaxy is littered with the shattered remains of once-proud cities, and countless troops have sought shelter from enemy bombardment within their husks.  \\n#### Footprint  \\nWhen this terrain feature is set up on the battlefield, both players must agree upon its footprint - that is, the boundary of the terrain feature at ground level. This is so that players know when a model is wholly within this terrain feature. If this terrain feature is mounted on a base, then this will define its footprint.  \\n#### Plunging Fire  \\nEach time a model that is wholly within this terrain feature makes a ranged attack, if that model is 6\" or more vertically from ground level, and every model in the target unit is at ground level, improve the Armour Penetration characteristic of that attack by 1.  \\n#### Movement',\n",
       "  'type': 'Document'},\n",
       " {'id': None,\n",
       "  'metadata': {'Header 1': 'Battlefield Debris And Statuary',\n",
       "   'Header 3': 'Ruins'},\n",
       "  'page_content': '#### Movement  \\n- **Infantry** and **Beast** models can move through this terrain feature (walls, floors, ceilings, gantries, chains, etc.) as if it were not there. A model cannot end a move within a wall, a floor, etc.  \\n- Infantry, **Beasts** and Fly models can be set up or end a move on any floor level of this terrain feature, but if that level is not the ground floor, such models can only do so if their base does not overhang the floor at that level (if a model does not have a base, no part of that model that would be in contact with the battlefield at ground level can overhang that floor). All other models can only be set up or end a move on the ground floor of this terrain feature.  \\n#### Visibility',\n",
       "  'type': 'Document'},\n",
       " {'id': None,\n",
       "  'metadata': {'Header 1': 'Battlefield Debris And Statuary',\n",
       "   'Header 3': 'Ruins'},\n",
       "  'page_content': '#### Visibility  \\nModels cannot see over or through this terrain feature (i.e. a unit outside this terrain feature cannot draw line of sight to a target on the other side of it, even if it would be possible to draw line of sight to that target through open windows, doors, etc.). **Aircraft** and **Towering** models are exceptions to this - visibility to and from such models is determined normally, even if this terrain feature is wholly in between them and the observing model. Models can see into this terrain feature normally, and models that are wholly within this terrain feature can see out of it normally.  \\n#### Benefit Of Cover  \\nEach time a ranged attack is allocated to a model, if that model is either wholly within this terrain feature, or it is not fully visible to every model in the attacking unit because of this terrain feature, that model has the Benefit of Cover against that attack.  \\nKEYWORDS: Area Terrain, **Ruins**  \\n48',\n",
       "  'type': 'Document'},\n",
       " {'id': None,\n",
       "  'metadata': {'Header 1': 'Example Battlefields'},\n",
       "  'page_content': 'In the far future, battles are fought across an infinite variety of strange and alien planets where no land is left untouched by the tempest of war. Crystal moons, derelict space hulks, carnivorous death worlds and war-ravaged cityscapes are just a few of the fantastical landscapes that can be recreated.',\n",
       "  'type': 'Document'},\n",
       " {'id': None,\n",
       "  'metadata': {'Header 1': 'Example Battlefields'},\n",
       "  'page_content': 'Battlefields are typically created by placing Battlezones next to each other. Battlezones are Citadel terrain sets that include two boards (each approximately 22\" by 30\" in size) and a range of terrain features designed to be set up evenly on those boards for the best Warhammer 40,000 gaming experience. Don\\'t worry if your battlefield doesn\\'t match these requirements, but keep in mind that playing on a battlefield that is either a barren wasteland or filled to overflowing with terrain features may give an advantage to one side or the other. Below is an example of a battlefield set up for a Strike Force battle, with a good mixture of different terrain features fairly distributed across the battlefield. Their placement will create a dynamic gaming experience that doesn\\'t favour one player over the other. Importantly, some terrain features that block visibility have been placed near the middle of the battlefield, ensuring that it is not easy to see from one side of the battlefield to the',\n",
       "  'type': 'Document'},\n",
       " {'id': None,\n",
       "  'metadata': {'Header 1': 'Example Battlefields'},\n",
       "  'page_content': 'of the battlefield to the other. Battlefields where this is not the case can advantage armies that rely on shooting, or disadvantage armies that rely on melee. There is also sufficient room for larger models such as vehicles to manoeuvre around the terrain features, especially near the edges, without getting trapped.',\n",
       "  'type': 'Document'},\n",
       " {'id': None,\n",
       "  'metadata': {'Header 1': 'Example Battlefields'},\n",
       "  'page_content': 'placement creates a battlefield that does not give an advantage to one player or the other, making it well suited to an aspirational matched play game. While this battlefield uses lots of Battlezone: Fronteris terrain features, you could achieve the same gaming experience using many different kinds of terrain, bearing in mind the concepts discussed above.  \\n49 Matched Play Focused: This Strike Force battlefield has fewer terrain features set up on it than the one below. The terrain has still been set up so as not to give an advantage to one player or the other, and there is still terrain set up in the middle that blocks visibility from one side of the battlefield to the other. As a result, this battlefield would make for an ideal matched play game. Battlefields with less terrain than this will start to advantage armies that rely on shooting over melee.  \\n50 Narrative Play Focused: This Strike Force battlefield has an ideal number and',\n",
       "  'type': 'Document'},\n",
       " {'id': None,\n",
       "  'metadata': {'Header 1': 'Example Battlefields'},\n",
       "  'page_content': \"mixture of terrain features. The largest pieces of **Area Terrain** have been set up along the two long battlefield edges, while the middle of the battlefield only has a scattering of **Obstacles** to provide any kind of shelter from enemy fire. While this battlefield is not ideal for a matched play game, it would make for a very thematic  \\nMatched Play Focused: This Strike Force battlefield is very similar to the one above in terms of number and types of terrain features, but they have been set up more evenly across the battlefield, and the middle contains terrain features that block visibility from one side of the battlefield to the other. This battlefield doesn't give an advantage to one player or the other, and is far more suited to a typical matched play game.  \\n51  \\nbattlefield, there is still space for units to manoeuvre around them, and lines of sight cannot easily be drawn from one edge to the other, giving neither player a clear advantage.\",\n",
       "  'type': 'Document'},\n",
       " {'id': None,\n",
       "  'metadata': {'Header 1': 'Example Battlefields'},\n",
       "  'page_content': 'does not favour one player over the other. A battlefield with fewer terrain features than this will afford units no way to gain protection from ranged attacks, and so will give a strong advantage to armies that rely on shooting, while disadvantaging armies that rely on melee.  \\nand mixture of terrain features, and has been set up to create a strong thematic battlefield that, while not ideally suited to all play styles, sets the scene for a thrilling narrative encounter.  \\nM\\nB\\nA\\nT P\\nA\\nT\\nR O\\nL\\nS\\nE T\\n-\\nU\\nP\\n52 C\\nO  \\nS',\n",
       "  'type': 'Document'},\n",
       " {'id': None,\n",
       "  'metadata': {'Header 1': 'Aircraft'},\n",
       "  'page_content': 'The airspace above a battle is often thronged with activity. Fighters and bomber craft hurtle through the skies, duelling with one another and strafing enemy formations on the ground.  \\nSome models have the **Aircraft** keyword. The following rules describe how such models operate on the battlefield.  \\n#### Deploying Aircraft  \\nWhen you are instructed to Declare Battle Formations, **Aircraft** models must start the battle in Reserves instead of being set up on the battlefield.  \\nOnce the battle has started, **Aircraft** models are then treated as Strategic Reserves units for all rules purposes (pg 43). Only units that are themselves placed into Reserves can start the battle embarked within **Aircraft Transport** models that are in Reserves.  \\n#### Hover  \\nSome aircraft can use vectored thrusters or anti-grav technology to hover over the battlefield, the better to hunt their prey or deploy embarked troops.',\n",
       "  'type': 'Document'},\n",
       " {'id': None,\n",
       "  'metadata': {'Header 1': 'Aircraft'},\n",
       "  'page_content': 'Some **Aircraft** models have \\'Hover\\' listed in their abilities. When you are instructed to Declare Battle Formations, before doing anything else, you must first declare which models from your army with this ability will be in Hover mode. If a model is in Hover mode, then until the end of the battle, its Move characteristic is changed to 20\", it loses the **Aircraft** keyword and it loses all associated rules for being an **Aircraft** model.  \\nModels in Hover mode do not start the battle in Reserves, but you can choose to place them into Strategic Reserves following the normal rules if you wish.  \\n#### Aircraft In The Movement Phase',\n",
       "  'type': 'Document'},\n",
       " {'id': None,\n",
       "  'metadata': {'Header 1': 'Aircraft'},\n",
       "  'page_content': 'Aircraft models cannot Advance, Fall Back or Remain Stationary. If, when an **Aircraft** model is selected to move in the Movement phase, any enemy units are within Engagement Range of it, that Aircraft model can still make a Normal move. Each time an **Aircraft** model makes a Normal move, first move the model straight forward, and it must move a minimum of 20\" - all parts of the model\\'s base must end the move at least this far from where they started. After it has moved, it can pivot on the spot up to 90° - this does not contribute to how far the model moves. If, when making a Normal move, any part of an **Aircraft** model\\'s base crosses the edge of the battlefield, or it cannot move a minimum of 20\", that model\\'s move ends and it is placed into Strategic Reserves. There is no upper limit to how far **Aircraft** models can move, and their Move characteristic is therefore 20+\".',\n",
       "  'type': 'Document'},\n",
       " {'id': None,\n",
       "  'metadata': {'Header 1': 'Aircraft'},\n",
       "  'page_content': 'If placed into Strategic Reserves, an **Aircraft** model will always arrive from Strategic Reserves in your next turn.  \\n- **Aircraft** can only make a Normal move, and can do so even when within Engagement Range of enemy models.  \\n- **Aircraft** must move straight forward at least 20\", and can then make one pivot of up to 90°.  \\n- **Aircraft** that cross the edge of the battlefield, or that cannot make their minimum move, are placed into Strategic Reserves.  \\n53 CORE RULES | AIRCRAFT  \\n#### Aircraft And The Movement Of Other Models  \\nWhen a unit is selected to move in the Movement phase, if the only enemy models that are within Engagement Range of that unit are **Aircraft**',\n",
       "  'type': 'Document'},\n",
       " {'id': None,\n",
       "  'metadata': {'Header 1': 'Aircraft'},\n",
       "  'page_content': 'models, then that unit can still make a Normal or Advance move. Whenever a model makes any kind of move, it can be moved over enemy **Aircraft** models as if they were not there, and can be moved within Engagement Range of enemy **Aircraft** models, but it cannot end that move on top of another model or within Engagement Range of any enemy Aircraft models.  \\n- Units can still make a Normal or Advance move if they are only within Engagement Range of enemy **Aircraft**.  \\n- Models can move within Engagement Range of enemy **Aircraft**, but cannot end a move within Engagement Range of enemy **Aircraft**.  \\n- Models can move over **Aircraft** when they make any kind of move.  \\n#### Aircraft In The Charge And Fight Phases',\n",
       "  'type': 'Document'},\n",
       " {'id': None,\n",
       "  'metadata': {'Header 1': 'Aircraft'},\n",
       "  'page_content': 'Aircraft units cannot declare a charge, and only units that can Fly can select an **Aircraft** unit as a target of their charge. Such units can end their Charge move within Engagement Range of one or more enemy **Aircraft** units. An **Aircraft** model is only eligible to fight if it is within Engagement Range of one or more enemy units that can Fly, and it can only make melee attacks against units that can Fly. Only models that can Fly can make melee attacks against **Aircraft** units. Aircraft models cannot make Pile-in or Consolidation moves. Each time a model makes a Pile-in or Consolidation move, unless that model can Fly, **Aircraft** models are ignored for the purposes of moving closer to the closest enemy model.  \\n- Only units that can Fly can charge at or make melee attacks against **Aircraft**.  \\n- **Aircraft** cannot charge, Pile In or Consolidate, and can only make melee attacks against units that can Fly.',\n",
       "  'type': 'Document'},\n",
       " {'id': None,\n",
       "  'metadata': {'Header 1': 'Aircraft'},\n",
       "  'page_content': '- When a model Piles In or Consolidates, unless it can Fly, ignore **Aircraft** when determining the closest enemy model.  \\nA The Stormtalon Gunship begins the Movement phase within Engagement Range of the Tyranid Prime. The Stormtalon is an **Aircraft** model and is not in Hover mode, so is free to make a Normal move.  \\nC After finishing its Normal move, the Stormtalon can then pivot on the spot up to 90º.  \\nNote that if at any point during its move the Stormtalon would leave the battlefield due to the minimum movement requirement, it is placed into Strategic Reserves and will arrive in its controlling player\\'s next turn.  \\nB The Stormtalon must move a minimum of 20\" straight forward, even though this would bring it within Engagement Range of an enemy unit.  \\n54',\n",
       "  'type': 'Document'},\n",
       " {'id': None,\n",
       "  'metadata': {'Header 1': 'Muster Your Army'},\n",
       "  'page_content': \"In order to play a game of Warhammer 40,000, you will need to muster an army. To do so, follow the sequence below.  \\nWith your opponent, select one of the battle sizes below. This will determine the total number of points each player can spend to build their army and, as a result, how long the battle will last. Points are a measure of a unit's power on the battlefield; the higher a unit's points value, the more powerful that unit is. The points values for units are presented in other publications, such as Codexes and the Munitorum Field Manual. You will need to refer to these when building your army.  \\nSTART YOUR ARMY  \\nROSTER\\nThe details of your army must be recorded on an Army Roster. This can be written on a piece of paper or recorded using the Warhammer 40,000 app. Players must show their finished Army Roster to their opponent before battle commences.  \\nYou can download blank Army Roster sheets from warhammer-community.com.  \\n1 2 3\",\n",
       "  'type': 'Document'},\n",
       " {'id': None,\n",
       "  'metadata': {'Header 1': 'Muster Your Army'},\n",
       "  'page_content': '1 2 3  \\n55 Note on your Army Roster one Faction keyword to be your army faction.  \\n#### Incursion  \\nPoints per Army **1000** Duration Up to 2 hours  \\n#### Strike Force  \\nPoints per Army **2000** Duration Up to 3 hours  \\n#### Onslaught  \\nPoints per Army **3000** Duration Up to 4 hours  \\nNote on your Army Roster one set of Detachment rules for your army.  \\nSome Detachment rules list units that you either must include or cannot include in your army; you must follow all such rules when building your army.  \\n4 5 6  \\nSelect all the units you want to include in your army. Your army must include at least one Character unit. Each time you include a unit in your army, it can take any upgrade, Enhancement or options it has access to. Note on your Army Roster the number of models in the unit, any weapons, wargear, upgrades and any Enhancement it has, and its points value. Subtract this points value from the total permitted for your battle size.  \\nYou can only include a unit in your army if:',\n",
       "  'type': 'Document'},\n",
       " {'id': None,\n",
       "  'metadata': {'Header 1': 'Muster Your Army'},\n",
       "  'page_content': '- That unit has the Faction keyword you chose for your army in step 3.  \\n- You have enough points remaining.  \\n- Your army does not already contain three units with the same datasheet name as that unit - or six units with the same datasheet name as that unit if it is a Battleline or Dedicated Transport* unit. Only **Characters** can be given Enhancements and your army cannot include more than three Enhancements in total. No unit can have more than one Enhancement and each Enhancement included in your army must be unique.  \\nEpic Heroes cannot be given any Enhancements. Your army cannot include the same **Epic Hero** more than once.  \\n* Every **Dedicated Transport** unit from your army must start the battle with at least one unit embarked within it, or it cannot be deployed for that battle and will instead count as having been destroyed during the first battle round.  \\nSelect one **Character** model from your army to be your Warlord - this will be the leader of your army -',\n",
       "  'type': 'Document'},\n",
       " {'id': None,\n",
       "  'metadata': {'Header 1': 'Muster Your Army'},\n",
       "  'page_content': 'and make a note of this on your Army Roster. Your Warlord gains the Warlord keyword.  \\n56',\n",
       "  'type': 'Document'},\n",
       " {'id': None,\n",
       "  'metadata': {'Header 1': 'Missions'},\n",
       "  'page_content': \"Before you can wage war in a game of Warhammer 40,000, you must first select a mission. The Core Rules include a single mission - Only War - that is ideal to get the action started quickly. Others can be found elsewhere in this or other books, or you could play a mission of your own creation. If you and your opponent can't agree which mission to play, you must roll off, and the winner decides.  \\nPlayers muster their armies based on their selected battle size, as described on pages 55-56. Each mission will guide players on what size of battle they can play, and may include further rules that could affect how players pick their armies.  \\nOBJECTIVES\\nEach mission will state what its primary objectives are, and may also include one or more special rules. These cover unique situations, or abilities that can be used in the battle.  \\n#### Create The Battlefield\",\n",
       "  'type': 'Document'},\n",
       " {'id': None,\n",
       "  'metadata': {'Header 1': 'Missions'},\n",
       "  'page_content': '#### Create The Battlefield  \\nEach mission will include details of the size of the battlefield that you will need. Each mission will also instruct you if any terrain features or objective markers must be set up, and will provide details of where to set them up.  \\nOtherwise, it is assumed you are using the guidelines on pages 49-52 to create your battlefield.  \\nIf you are using a battlefield that is a different size or shape to those guidelines, you will need to adjust distances, and the location of deployment zones, objective markers and terrain features, in an appropriate way.  \\nPlayers roll off and the winner is the Attacker - their opponent is the Defender.  \\nIn the order stated below, both players now secretly note down:\\n- Which of their Leader units will start the battle attached (they must specify which Leader unit is attached to which Bodyguard unit).',\n",
       "  'type': 'Document'},\n",
       " {'id': None,\n",
       "  'metadata': {'Header 1': 'Missions'},\n",
       "  'page_content': '- Which of their units will start the battle embarked within **Transport** models (they must specify which units are embarked within which models).  \\n- Which of their units will start the battle in Reserves (including Strategic Reserves).  \\nWhen both players have done so, they declare their selections to their opponent.  \\nDEPLOY ARMIES  \\nEach mission includes a deployment map that shows where each player can set up the models in their army (called their deployment zone), and will list any restrictions that apply to setting up.  \\nEach mission will tell you how to determine which player has the first turn.  \\nPlayers alternate resolving any pre-battle rules units from their armies have, starting with the player who will take the first turn.  \\nBEGIN THE BATTLE  \\nThe first battle round begins.  \\nPlayers continue to complete battle rounds until the battle ends.  \\n#### End The Battle',\n",
       "  'type': 'Document'},\n",
       " {'id': None,\n",
       "  'metadata': {'Header 1': 'Missions'},\n",
       "  'page_content': '#### End The Battle  \\nEach mission will tell you when the battle ends. This will typically be after a set number of battle rounds have been completed, or when one player has achieved a certain victory condition.  \\nDETERMINE VICTOR\\nEach mission will tell you what you need to do in order to win the game. If neither player manages to achieve a victory then the game is considered to be a draw.  \\n57',\n",
       "  'type': 'Document'},\n",
       " {'id': None,\n",
       "  'metadata': {'Header 1': 'Objective Markers'},\n",
       "  'page_content': 'Objective markers represent objects of tactical or strategic import that both sides are attempting to secure, such as valuable artefacts, vital supplies or communications nodes. If a mission uses objective markers, it will state where they are located on the battlefield. These can be represented using any suitable marker, but we recommend using round markers that are 40mm in diameter. When setting objective markers up on the battlefield, place them so they are centred on the point specified by the mission. When measuring distances to and from objective markers, measure to and from the closest part of them. Models can move over objective markers as if they were not there, but they cannot end a move on top of an objective marker. At the start of the battle, each objective marker on the battlefield is said to be contested, and so is not controlled by either player. To control an objective marker, a player will first need to move models within range of it. A model is within range of an',\n",
       "  'type': 'Document'},\n",
       " {'id': None,\n",
       "  'metadata': {'Header 1': 'Objective Markers'},\n",
       "  'page_content': 'A model is within range of an objective marker if it is within 3\" horizontally and 5\" vertically of that objective marker. Every model has an Objective Control (OC) characteristic listed on its datasheet. To determine a player\\'s Level of Control over an objective marker, add together the OC characteristics of all the models from that player\\'s army that are within range of that objective marker. A player will control an objective marker at the end of any phase if their Level of Control over it is greater than their opponent\\'s. If both players have the same Level of Control over an objective marker, that objective marker is contested.',\n",
       "  'type': 'Document'},\n",
       " {'id': None,\n",
       "  'metadata': {'Header 1': 'Objective Markers'},\n",
       "  'page_content': '- A model is within range of an objective marker if within 3\" horizontally and 5\" vertically.  \\n- **Level of Control:** Add together the OC characteristics of all of a player\\'s models within range of the objective marker.  \\n- An objective marker is controlled by the player with the highest Level of Control over it (in a tie, it is contested).  \\n- Models cannot end a move on top of an objective marker.  \\n#### Hints And Tips  \\nObjective Markers And Terrain Features',\n",
       "  'type': 'Document'},\n",
       " {'id': None,\n",
       "  'metadata': {'Header 1': 'Objective Markers'},\n",
       "  'page_content': 'Many players choose to bring the narrative of their missions to life by positioning objective markers within exciting terrain features on the battlefield. When setting up terrain features, you can place them where an objective marker would be, so long as you can reposition that objective marker directly on top of that terrain feature and it lies flat, without overhanging any part of it. That objective marker should still be more than 1\" away from all impassable parts of that terrain feature (such as the walls of a ruin) so that there is sufficient room for models to move around it. If it is not possible to set up terrain features or objective markers in this way, and both players agree, you can nudge the positions of any terrain feature or objective marker so that these conditions are satisfied. Of course, the final position of an objective marker should still be as close as possible to the location indicated on your mission\\'s deployment map, but if both players are happy to tweak the',\n",
       "  'type': 'Document'},\n",
       " {'id': None,\n",
       "  'metadata': {'Header 1': 'Objective Markers'},\n",
       "  'page_content': 'are happy to tweak the battlefield arrangement to forge a stronger narrative, you should feel free to do so.',\n",
       "  'type': 'Document'},\n",
       " {'id': None,\n",
       "  'metadata': {'Header 1': 'Objective Markers'},\n",
       "  'page_content': \"MISSION MAP KEY  \\nAttacker's Battlefield Edge Defender's Battlefield Edge Centre of Battlefield\\nDefender's Deployment Zone The Defender must set up their army within this area.  \\nObjective Markers  \\nThe locations of objective markers on the battlefield are typically shown on the deployment map of the mission being played, and are represented by this icon.\",\n",
       "  'type': 'Document'},\n",
       " {'id': None,\n",
       "  'metadata': {'Header 1': 'Only War Mission'},\n",
       "  'page_content': \"The time has come to prove your worth as the greatest commander in the galaxy! All that stands between you and ultimate glory is an opposing force bent upon your destruction. Destroy the enemy army and secure strategic sites littered across the battlefield while stopping your foe from doing likewise.  \\n#### 1 Muster Armies  \\nFirst, players will need to muster armies based on the battle size they have selected, as described on pages 55-56. This mission is designed for Incursion, Strike Force and Onslaught battle sizes.  \\n#### 2 Mission Objectives  \\nCapture And Control  \\nProgressive Objective Starting from the second battle round, at the end of  \\neach player's Command phase, the player whose turn it is scores 1 Victory point (VP) for each objective marker they control (to a maximum of 3VP per turn). Details of how to control objective markers can be found on page 58.  \\n#### 3 Create The Battlefield\",\n",
       "  'type': 'Document'},\n",
       " {'id': None,\n",
       "  'metadata': {'Header 1': 'Only War Mission'},\n",
       "  'page_content': 'Players now create the battlefield and set up terrain features using the guidelines on pages 49-52. The minimum size of your battlefield depends on the battle size you have selected, as shown in the table below.  \\n| BATTLEFIELDS           |                  |\\n|------------------------|------------------|\\n| BATTLE SIZE            | MINIMUM          |\\n|                        | BATTLEFIELD SIZE |\\n| Incursion/Strike Force | 44\" x 60\"        |\\n| Onslaught              | 44\" x 90\"        |  \\nPlayers must then alternate setting up objective markers on the battlefield, starting with whichever player wins a roll-off, until a total of four have been placed. Objective markers cannot be placed within 6\" of any battlefield edge, or within 9\" of any other objective markers.  \\n#### 4 Determine Attacker  \\nAnd Defender  \\nPlayers roll off and the winner is the Attacker - their opponent is the Defender.  \\n5 **DECLARE BATTLE**  \\nFORMATIONS',\n",
       "  'type': 'Document'},\n",
       " {'id': None,\n",
       "  'metadata': {'Header 1': 'Only War Mission'},\n",
       "  'page_content': 'FORMATIONS\\nIn the order stated below, both players now secretly note down: - Which of their Leader units will start the battle attached (they must specify which Leader unit is attached to which Bodyguard unit).  \\n- Which of their units will start the battle embarked within **Transport** models (they must specify which units are embarked within which models).  \\n- Which of their units will start the battle in Reserves (including Strategic Reserves).  \\nWhen both players have done so, they declare their selections to their opponent.',\n",
       "  'type': 'Document'},\n",
       " {'id': None,\n",
       "  'metadata': {'Header 1': 'Only War Mission'},\n",
       "  'page_content': \"Players then alternate deploying their units, one at a time, starting with the Attacker. Models must be set up wholly within their controlling player's deployment zone. Continue setting up units until both players have set up all the units from their armies, or you have run out of room to set up more units. If one player has finished setting up their army, their opponent continues to set up the remaining units from their army. If both players have units with abilities that allow them to be set up after both armies have deployed, the players must roll off after all other units have been set up and alternate setting up those units, starting with the winner.  \\n#### 7 Determine First Turn  \\nPlayers should roll off again, and the winner takes the first turn.  \\n8 **RESOLVE PRE-BATTLE RULES**  \\nPlayers now resolve any pre-battle rules their armies have.  \\nThe first battle round begins. Players continue to resolve battle rounds until the battle ends.  \\n#### 10 End The Battle\",\n",
       "  'type': 'Document'},\n",
       " {'id': None,\n",
       "  'metadata': {'Header 1': 'Only War Mission'},\n",
       "  'page_content': \"#### 10 End The Battle  \\nThe battle ends when all of the models in one player's army have been destroyed, or once the fifth battle round has ended (whichever comes first).  \\n#### 11 Determine Victor  \\nIf, at the end of the battle, one army has been destroyed, the player commanding the opposing army is the victor. Otherwise, the player with the most Victory points is the victor (in the case of a tie, the battle is a draw).\",\n",
       "  'type': 'Document'}]"
      ]
     },
     "execution_count": 15,
     "metadata": {},
     "output_type": "execute_result"
    }
   ],
   "execution_count": 15
  },
  {
   "metadata": {
    "ExecuteTime": {
     "end_time": "2024-11-26T20:02:55.497452Z",
     "start_time": "2024-11-26T20:02:55.494452Z"
    }
   },
   "cell_type": "code",
   "source": "uuid.uuid4()",
   "outputs": [
    {
     "data": {
      "text/plain": [
       "UUID('18803a6e-ddd5-4cc9-b130-426ed8520d4d')"
      ]
     },
     "execution_count": 16,
     "metadata": {},
     "output_type": "execute_result"
    }
   ],
   "execution_count": 16
  },
  {
   "cell_type": "code",
   "source": [
    "def create_id(chunks):\n",
    "    for i,chunk in enumerate(chunks):\n",
    "        chunk['id'] = str(uuid.uuid4())\n",
    "    return chunks\n",
    "\n",
    "new_chunks = create_id(chunks)"
   ],
   "metadata": {
    "id": "niiJ9Ecl7rcs",
    "outputId": "dccbb256-325f-4072-cd90-addc7efbac77",
    "colab": {
     "base_uri": "https://localhost:8080/",
     "height": 490
    },
    "ExecuteTime": {
     "end_time": "2024-11-26T20:03:11.215678Z",
     "start_time": "2024-11-26T20:03:11.212654Z"
    }
   },
   "outputs": [],
   "execution_count": 17
  },
  {
   "cell_type": "code",
   "source": [
    "def create_dataset(chunks):\n",
    "    documents = []\n",
    "    metadatas = [] \n",
    "    ids = [] \n",
    "    types = [] \n",
    "    for i, chunk in enumerate(chunks):\n",
    "        documents.append(chunk['page_content'])\n",
    "        metadata = chunk['metadata'].copy()\n",
    "        metadata['type'] = chunk['type']    \n",
    "        metadatas.append(metadata)\n",
    "        ids.append(chunk['id'])\n",
    "    return documents, metadatas, ids\n",
    "    \n",
    "documents,metadatas,ids = create_dataset(new_chunks)    "
   ],
   "metadata": {
    "id": "cyjNUrkOmgZJ",
    "ExecuteTime": {
     "end_time": "2024-11-26T20:03:14.226832Z",
     "start_time": "2024-11-26T20:03:14.224041Z"
    }
   },
   "outputs": [],
   "execution_count": 18
  },
  {
   "metadata": {
    "ExecuteTime": {
     "end_time": "2024-11-26T20:03:19.739732Z",
     "start_time": "2024-11-26T20:03:16.953820Z"
    }
   },
   "cell_type": "code",
   "source": [
    "# add data into the database \n",
    "collection.add(\n",
    "    documents=documents,\n",
    "    metadatas=metadatas,\n",
    "    ids=ids,\n",
    ")"
   ],
   "outputs": [],
   "execution_count": 19
  },
  {
   "metadata": {
    "ExecuteTime": {
     "end_time": "2024-11-27T16:37:57.484679Z",
     "start_time": "2024-11-27T16:37:57.481436Z"
    }
   },
   "cell_type": "code",
   "source": "ids",
   "outputs": [
    {
     "data": {
      "text/plain": [
       "['a1145463-1ed4-47b2-9651-d8f47d03a4ae',\n",
       " 'dd72fc83-1b13-4fc3-a3c2-08e425d9675f',\n",
       " '63cd7545-f58c-468a-a572-644aa36728a9',\n",
       " 'c9fe615f-ea20-4d12-943b-c4741e94a78c',\n",
       " '753c9a31-be3e-4daf-aad9-16e96aa52d70',\n",
       " 'd1ff2b30-757c-4a86-9d2b-c1a74a89cab2',\n",
       " '74ec4b20-17e7-42e1-96fe-303279191b2b',\n",
       " '54cb2d72-2141-45e7-b943-2e47649c8ed4',\n",
       " '18d20ce9-d10d-4e12-acd9-722409fe66da',\n",
       " '0134a460-c992-42ab-a9de-bdf649a4f08a',\n",
       " '6d08b28b-ccd3-4b9b-b268-a82a78dcf26e',\n",
       " '24ac6e40-1c3f-46cb-9fdf-d21d9d32c02e',\n",
       " '738e9ce3-a5b4-480d-ab4a-29fdbcf053fd',\n",
       " '8f0fdcd2-c5a4-4b03-8b96-8ca3651cd643',\n",
       " '9fe68bbc-4bb7-498a-a17b-35b3da34f957',\n",
       " 'fb1647f2-b49a-4972-bf8b-2dc0473b4a07',\n",
       " '801a3f7c-be08-48f8-b4a3-29a93b529403',\n",
       " '613cde78-79b3-493c-a410-2b1c536dfd95',\n",
       " 'b91fc394-6b2f-4122-a160-e64c47315c62',\n",
       " 'd30f5465-5fc3-4a0c-be8b-0680a720a1ed',\n",
       " 'ba6bf301-5e9c-4743-9319-a0310a456107',\n",
       " '19160fee-046d-4b51-8b57-4e03c0af6376',\n",
       " '135278b9-cb7b-4ddd-af12-fade834c24a9',\n",
       " 'f8a4c78e-d441-4deb-9136-bec3690b2b23',\n",
       " '716c9b99-55ee-4a12-9f5c-f5833a5b65bc',\n",
       " '55fcaf74-2e0a-482d-b33d-a9ecc96c376d',\n",
       " '13ed2364-70bb-4f97-8529-7527767331c7',\n",
       " 'b40ba1fb-c774-4d7a-baed-6fbb0e3980c8',\n",
       " '5bf6dcb5-178c-4e83-8430-c991b4dabc3e',\n",
       " '0f73524b-b95f-4686-a869-f9a5d8b7e3e7',\n",
       " 'd4a19162-f5dd-4f09-afe2-a08077ab1d31',\n",
       " '94347603-da1c-4abc-97fb-f78b3b49ee7d',\n",
       " '86cf544b-4d7d-4302-a7cb-e4ae55d10c06',\n",
       " '9c7f9d99-237c-49c9-93c4-690340f5843b',\n",
       " '50a61a79-f683-4e9b-91e2-3b3d21a967b0',\n",
       " '23c41b0c-3424-4917-ba25-a143722f5a06',\n",
       " 'a5875fe0-b79f-4f9f-aa30-8f28c324317c',\n",
       " '3eff9276-c953-49bc-85a4-5e80ae2546e6',\n",
       " 'a176d10c-ef87-4611-8d87-54d26e870673',\n",
       " '0bb80f4a-689c-4f34-8cc6-a966defd8b14',\n",
       " '42f92aa7-e2fa-4ff5-af01-d8862f59bcb3',\n",
       " 'e9837133-d088-44e5-a3cb-d065e0ef0b9f',\n",
       " 'fb2d4b0c-3f90-4367-9c16-d484c3862939',\n",
       " '39c7ce77-8305-47d3-8c39-b48eeb3beedb',\n",
       " 'cd67420a-1641-4bfc-a261-7e8b07116ea7',\n",
       " 'dc51b00e-6f0f-4fe2-af1e-2e9e6b6c2840',\n",
       " '7160f146-f06c-480c-96cf-b81824058761',\n",
       " '3c8f908d-5165-48ec-87c5-d2c557823163',\n",
       " '6169f08a-4688-450e-9067-a4cb90aadcd9',\n",
       " '3fd4521c-ed65-42ba-8218-02f7f321ccdc',\n",
       " '7ca66141-8b21-4417-b290-06b14cb2ff9c',\n",
       " '55e3873e-c6b3-4d2a-9359-459214ea04fa',\n",
       " '43f12b1c-a4cb-4cd5-8863-05ed532f19b1',\n",
       " '00c45e1f-28ad-4b5c-8ba8-d1627a512efe',\n",
       " '3a43cbaa-110d-462b-bad0-45292da71481',\n",
       " '20de7b03-a27b-4d72-8773-19e7c7cc3448',\n",
       " '87e926ea-ae3c-435a-a3d9-a0418e38cb9d',\n",
       " 'fea391a0-2f0a-4709-b045-c13729d37cad',\n",
       " 'b0c9f098-1ebf-4534-80ce-e30acb651e3d',\n",
       " 'd828d6bd-658a-4649-a272-9185a0586336',\n",
       " '806da24c-0e18-430a-8a22-cdd9fc04a966',\n",
       " '243c4429-4e55-4734-b75c-b4f46aadc905',\n",
       " 'b5f79f2c-8fe2-445a-a6a2-a9a401359a01',\n",
       " 'c5c4cae5-b0fa-46b0-b649-f6fb1169aa3d',\n",
       " 'ce10ed84-0879-4477-93e7-0596498c4949',\n",
       " '53778a09-b15d-4af6-aac3-8ffd28bbec82',\n",
       " 'b9964725-b84e-4a0b-885d-b5de9f94578f',\n",
       " '8f2a06ce-d27b-4c6e-a275-74a37193a411',\n",
       " 'f9806b9c-3f0f-441f-917d-52067d87147c',\n",
       " '4a6217db-2ccf-4181-81a3-5c8d8af75cbb',\n",
       " 'f0d78dc3-2b14-4dfb-b43d-7e1e29b7e055',\n",
       " 'f43eb1a9-b7e3-4d8a-b66c-491afff4e1fa',\n",
       " '7d77110c-7c9d-4179-a248-1e95246a10a5',\n",
       " '2a1c3657-4f6d-4549-96d6-925585e2f0d2',\n",
       " '8ddca143-ebdf-40b2-a3ff-d5b13e7377fb',\n",
       " '6e3e028c-70f9-444b-a2ca-f960fb9b9ea5',\n",
       " 'f6e1b21b-b430-4d38-8f4c-a82fa0391f15',\n",
       " 'b655e869-0ac9-4873-ae1c-5ac996ab37bc',\n",
       " 'dc82c652-74d2-4cd7-8233-3e29ba1193b6',\n",
       " '8d6ff71d-80cd-43ba-8d19-33f6afee23ce',\n",
       " '56535782-d3cd-4c0a-9b85-f5bc95b6ef56',\n",
       " 'd3f31bb6-bb25-458d-93ef-74c51afa7179',\n",
       " '329f1214-5c2f-4b34-9fcf-d1526918db5d',\n",
       " 'b1c9edf0-f407-41bc-b16b-204be7e1b5b9',\n",
       " '03b14d42-7afc-490e-895e-2e95ceb9cf82',\n",
       " '30d69191-4bb8-4c38-a64b-d69e709b95d3',\n",
       " '9963235c-2bb6-4fa8-a634-8da0a9517ad6',\n",
       " '1caa1ace-611b-4826-b2fb-2af9b309829c',\n",
       " '7ae48583-8fec-42a4-9396-3b9fcb795a79',\n",
       " 'de0496dd-691a-4ab6-a64a-8425f7c708c9',\n",
       " 'd839a2d4-ff9f-4da6-8247-e0807da2ffac',\n",
       " '5563281f-014d-4185-9164-fcf7fee84a62',\n",
       " '92ffb9df-174a-48d3-9b91-e1facaa42ee7',\n",
       " '531e2ec3-193f-4b91-85b8-df4ecc4a1499',\n",
       " 'f71e4c0c-6844-4e9a-a1ee-54e270ff019a',\n",
       " 'a50c2a17-5297-4585-ac6f-1703de2e0186',\n",
       " '81c67d19-8b80-4355-9759-eebb8ffefd8c',\n",
       " 'fcdde7d8-4e53-4ac0-b04e-aeb6418d05f3',\n",
       " '7351e716-aa05-40cf-8b0c-08e7a3ffa3bc',\n",
       " '5d5c5cc0-7809-4fcf-ae48-91bfba1f0ed9',\n",
       " '8c5cabf6-f226-4c64-b37c-2b8e2d5dd2de',\n",
       " '412fed45-52bf-4ef9-b607-4c522aa23c4a',\n",
       " 'ff46c8de-b862-4765-9c8d-628d05dd6e4b',\n",
       " '3a98d0b2-48af-4afc-9da2-b43f59fa5eb0',\n",
       " 'cbec078c-630a-4286-9992-f64cc850224c',\n",
       " '61ecafa5-17e8-4fa4-ba71-00fb3147bb67',\n",
       " 'e48d3ef8-e3dd-42be-b03b-1f39a89a08bb',\n",
       " 'dcf5c200-2a5e-460d-abbe-d50d160f035f',\n",
       " '600ad411-7f14-4796-93a3-4b8eea9936a0',\n",
       " '7674e08d-da66-48e7-b454-5c5fe0cafb8f',\n",
       " '1757ee76-9c73-48c6-8899-42f387f2e19d',\n",
       " 'c90de4f0-6a1a-444e-bdd7-f44118e5dcbe',\n",
       " 'ef5fd94a-8a7a-4a81-9881-fb1e2f80fca1',\n",
       " '6be8b71b-4b8c-4e9d-b360-75749d2b734b',\n",
       " '7c928ba1-8cc3-4340-a6b9-c6f766cd0c17',\n",
       " '8704cbed-faf4-4a49-aada-9644658364e7',\n",
       " 'f128db59-a182-4b2e-9588-065ae1554ca6',\n",
       " '936b0c9c-7427-407c-a1fb-211432bedc43',\n",
       " '60159f1f-ccc4-40d0-a1a8-646de2d6c376',\n",
       " '9214b2bf-314d-4244-ad67-2dd11a716ea0',\n",
       " '2a6f7d4b-c80c-4f73-baef-085be5823152',\n",
       " '5716943c-7951-44ee-adee-5505d637fcdd',\n",
       " 'f9a78cc8-d28d-47b2-8b62-2ffcc27f3a25',\n",
       " '3e8d61e5-13d4-44b0-8151-44e1b70b7bc2',\n",
       " 'bd41da62-aeb2-468b-b44e-9fa2561478ed',\n",
       " '087af620-a2a2-43a8-9f6a-dc645189c1e7',\n",
       " 'cd14d3da-aa89-4264-9b3f-7c25b7ab332e',\n",
       " 'b287151b-7bfe-4006-820e-3b26834ee81b',\n",
       " '3acdd126-9c3f-4623-a4a3-14db9941bac9',\n",
       " 'e9cdbaec-12c5-4b73-a688-44a28d916bd4',\n",
       " '32571541-a446-41c8-ab5a-fbe571c758d7',\n",
       " 'cda99698-3fe8-48af-aaea-0f6bd087002f',\n",
       " '1212d106-a89a-4b98-a1c9-655d139bba66',\n",
       " '1629119c-253f-4111-8f4d-d3f0150d4ebd',\n",
       " '1788e78c-d2c1-4954-8239-870fda5536af',\n",
       " 'b7fdedbe-06ba-462d-8034-0d60c50668a7',\n",
       " '477f216d-a447-4e7f-9af5-1b294fb9d61a',\n",
       " '2636f9c3-13d6-44ed-a1d4-83e0bff9e5ce',\n",
       " 'ca4341fd-5fba-4d55-b952-0eab657a9d81',\n",
       " '89c26f16-fb2d-489e-a747-dc7ce49ad698',\n",
       " '45d40d6b-f279-4479-a9e3-8035f2beabb1',\n",
       " '39b1e35c-8b32-41f4-aa14-edb1383ff7d3',\n",
       " 'cbdcdd1e-263f-4b35-b33a-8a1b61b40450',\n",
       " '6593b2d7-294b-4b52-bcc0-c91542dfc094',\n",
       " '3b82edc6-80b2-4c27-bd83-eec5c864c78f',\n",
       " 'a6c35cd9-6fd8-472f-a819-b4da9fd8a531',\n",
       " '160f30ea-9b04-44aa-8028-ac48b0922521',\n",
       " '3638daa0-3654-4523-b92a-87a541ce66c6',\n",
       " '9488f142-1bd9-467c-a9e2-189673b94697',\n",
       " 'c882d90c-c3d2-4272-9cc2-a47f63897d55',\n",
       " '3854eebe-aa49-412a-ac95-612acd6d0e12',\n",
       " '0dedcb59-60b9-4d13-b56a-11b54eec7417',\n",
       " '3d019bee-7d33-4afb-88a5-ac731db1b84f',\n",
       " '38dc1bd6-d9d0-4c9e-9deb-8c4338eba9e7',\n",
       " '4ca539c4-9dab-4780-865c-a860f332027a',\n",
       " '131d61e0-8dcb-485e-b1b4-d95c286302eb',\n",
       " '045f2859-fe3f-4105-bf76-9315a925fb63',\n",
       " 'bfddca29-818a-4354-8c07-a7744f2abb27',\n",
       " '78e4b844-8705-4584-b8bd-bba7814cb731',\n",
       " '8092b776-4e37-4a69-8ca8-4ac92b30f721',\n",
       " '87742de8-9ae2-49ac-963c-924b1fa2d78f',\n",
       " 'f313eaf6-388e-4b9b-a3fb-ff2758bc355a',\n",
       " '76bba3b0-5742-460e-9e0e-a4b65024fc25',\n",
       " 'b60ee8b0-8531-44e4-b63d-374d84c34747',\n",
       " '943227a8-90c1-40e6-bd06-920ecf27bcc7',\n",
       " '67454aca-998b-4ea4-ac53-28a21b9593c1',\n",
       " 'c5e99858-e8e2-44b9-9d66-0c3ca3035929',\n",
       " '7da7c21e-4a1d-43ed-867f-5e0014c2dba8',\n",
       " 'c0371ab7-530f-4219-a2b2-ae99a1fdf5b1',\n",
       " '508d56f4-41a0-4e09-9382-71447fc74ff0',\n",
       " '9de5acd1-e2f6-4356-a939-c96584c60faa',\n",
       " 'a834fe20-1750-4a80-b54f-0007bcbd95e5',\n",
       " '0ddb0f26-691f-4f38-9473-607beb85c5d5',\n",
       " '157ec665-9201-4a3b-a6b6-bd726df1b090',\n",
       " 'd37d02ba-b583-468b-9698-17f2100446ca',\n",
       " 'fd0a9010-2076-42ba-a175-5f950624cc42',\n",
       " '6b328fc2-a0a7-49df-b144-a203510c5185',\n",
       " '9ff583da-a984-47b9-8927-b7bcc312f407',\n",
       " '85bb2279-faf8-4813-9df5-d2f857b2db8a',\n",
       " '1c392adf-5fa6-4289-ad53-dd3a1d02a025',\n",
       " '841b5ede-e27f-4e0e-9416-5c5e31f9dfa5',\n",
       " 'b877437a-3d7a-4c74-b13f-b83f405809f4',\n",
       " 'ebb508bc-0c28-4bfa-8c69-7b580ec1d57d',\n",
       " 'b11afe2b-fabe-4737-96de-1b1e01c27f69',\n",
       " 'bf883927-04d1-4e4c-b976-5fe6bef7b4a5',\n",
       " 'ff0fdb67-309b-45df-a49a-1a5c70e624fb',\n",
       " '32ed5c04-821d-4c1a-827f-475b8915870d',\n",
       " '4b7b84ae-d474-4742-a1f6-d73cb038f44f',\n",
       " '57b0f5d7-985d-464d-9918-d1d1b405cda7',\n",
       " '8787fc0e-d727-49c4-a58e-9682475f15b9',\n",
       " '85d2a555-2a8a-48da-917f-7129b16f3885',\n",
       " 'dc63bbc9-1517-4b70-bc69-97ccf5fe4ef4',\n",
       " 'c2bdc929-a7b7-4079-b50b-768dc98d0bb1',\n",
       " '8250debd-e65e-4db9-919b-7439d86c7f26',\n",
       " '5363c299-593d-4cbc-acba-e7a7a68b9aa1',\n",
       " '69935cfd-ce4c-4aa3-98f8-a1c7cba2c2f5',\n",
       " '9ced671a-9770-4106-aacc-57a6e39f0bad',\n",
       " '79e91257-d59c-4e48-8cea-11c999c46aa6',\n",
       " '4260937f-150b-4275-9240-a08d9744574a',\n",
       " '346bf39e-9d4a-42e2-a29b-7ce7303fbecd',\n",
       " 'e142d70d-a392-495f-8fe1-98c358a6f995',\n",
       " 'e565705d-4c26-4394-b527-3c0a857bfedd',\n",
       " 'bd595a5d-3bef-46f7-bc3c-32f0ac2af861',\n",
       " 'a66b0cfe-d0e7-48ed-b02b-0ee38f0ba990',\n",
       " '7d9d4de7-2a5c-473c-b406-019aea993761',\n",
       " 'b1076db3-15c6-481a-8122-2c02927a88eb',\n",
       " '5048df34-c6a8-4938-aab0-26de5dbe2f7c',\n",
       " '2d831df7-0d96-4013-bf1d-c113745eae09',\n",
       " 'cb5df38f-0f30-450e-bac4-a460198f01c5',\n",
       " 'd52f21a8-59c8-481d-8bb8-df0bd81e9e5a',\n",
       " 'ba3ee6e6-7a6c-44eb-86d4-009a26aa61c0']"
      ]
     },
     "execution_count": 194,
     "metadata": {},
     "output_type": "execute_result"
    }
   ],
   "execution_count": 194
  },
  {
   "cell_type": "code",
   "source": [
    "question = \"What is a visible unit ?\"\n",
    "\n",
    "# Perform a query"
   ],
   "metadata": {
    "id": "AdghQbnpCt36",
    "ExecuteTime": {
     "end_time": "2024-11-26T20:03:21.827341Z",
     "start_time": "2024-11-26T20:03:21.825268Z"
    }
   },
   "outputs": [],
   "execution_count": 20
  },
  {
   "metadata": {
    "ExecuteTime": {
     "end_time": "2024-11-26T20:03:32.761254Z",
     "start_time": "2024-11-26T20:03:32.751100Z"
    }
   },
   "cell_type": "code",
   "source": [
    "results = collection.query(query_texts=[question],\n",
    "                          n_results=2,\n",
    "                           include=['distances','documents','metadatas']\n",
    "                           )\n",
    "print(results)"
   ],
   "outputs": [
    {
     "name": "stdout",
     "output_type": "stream",
     "text": [
      "{'ids': [['54cb2d72-2141-45e7-b943-2e47649c8ed4', 'd4a19162-f5dd-4f09-afe2-a08077ab1d31']], 'embeddings': None, 'documents': [[\"- **Model Visible:** If any part of a model can be seen, it is visible.  \\n- **Unit Visible:** If any model in a unit is visible, that model's unit is visible.  \\n- **Model Fully Visible:** If every Warhammer 40,000 battles are fought across all manner of grim and perilous landscapes, often strewn with ruins, wreckage and other obstacles your forces must navigate while they fight.  \\n#### - Unit Fully Visible: If Every Model In A Unit Is Fully Visible, That Unit Is\", '- **Unit Fully Visible:** If every model in a unit is fully visible, that unit is fully visible.  \\n#### Hints And Tips  \\nDice Rolling']], 'uris': None, 'data': None, 'metadatas': [[{'Header 1': 'Introduction', 'Header 2': 'Terrain Features (Pg 44-52)', 'type': 'Document'}, {'Header 1': 'Core Concepts', 'Header 2': 'Determining Visibility', 'type': 'Document'}]], 'distances': [[0.3847702741622925, 0.3943132758140564]], 'included': [<IncludeEnum.distances: 'distances'>, <IncludeEnum.documents: 'documents'>, <IncludeEnum.metadatas: 'metadatas'>]}\n"
     ]
    }
   ],
   "execution_count": 22
  },
  {
   "cell_type": "markdown",
   "source": [
    "Create a retrieval function wrapping the ChromaDB query and returning an adapted format."
   ],
   "metadata": {
    "id": "loMw0Bv0EunN"
   }
  },
  {
   "cell_type": "code",
   "source": [
    "def retrieve(question, n_results=5):\n",
    "    retrieved_text = collection.query(query_texts=[question],  \n",
    "                     n_results=n_results)\n",
    "    out_text = retrieved_text['documents']\n",
    "    out_headers = retrieved_text['metadatas']\n",
    "    \n",
    "    return out_text,out_headers# retunr texts and associated headers"
   ],
   "metadata": {
    "id": "71Lu8EiWFAr5",
    "ExecuteTime": {
     "end_time": "2024-11-26T20:03:37.440583Z",
     "start_time": "2024-11-26T20:03:37.438139Z"
    }
   },
   "outputs": [],
   "execution_count": 23
  },
  {
   "cell_type": "code",
   "source": "retrieve(question)",
   "metadata": {
    "id": "6Qp8xkrCFcrQ",
    "ExecuteTime": {
     "end_time": "2024-11-26T20:03:44.932070Z",
     "start_time": "2024-11-26T20:03:44.921479Z"
    }
   },
   "outputs": [
    {
     "data": {
      "text/plain": [
       "([[\"- **Model Visible:** If any part of a model can be seen, it is visible.  \\n- **Unit Visible:** If any model in a unit is visible, that model's unit is visible.  \\n- **Model Fully Visible:** If every Warhammer 40,000 battles are fought across all manner of grim and perilous landscapes, often strewn with ruins, wreckage and other obstacles your forces must navigate while they fight.  \\n#### - Unit Fully Visible: If Every Model In A Unit Is Fully Visible, That Unit Is\",\n",
       "   '- **Unit Fully Visible:** If every model in a unit is fully visible, that unit is fully visible.  \\n#### Hints And Tips  \\nDice Rolling',\n",
       "   'MODEL FULLY VISIBLE\\nIf every part of another model that is facing the observing model can be seen from any part of the observing model, then that other model is said Every Warhammer 40,000 unit has a datasheet, reflecting the characteristics and abilities they can draw upon in battle.  \\nUnit Visible  \\n#### Has Line Of Sight To All Parts Of The Other Model That Are Facing It, Without Any Other Models Or Terrain Features Blocking Visibility To Any Of Those Parts. Unit Fully Visible',\n",
       "   'If every model in a unit is fully visible to an observing model, then that unit is fully visible to that observing model. For the purposes of determining if an enemy unit is One model in this unit is visible, meaning the unit is visible.  \\nFrom well-timed Strategic Reserves to deftly executed Stratagems, gifted generals make use of all the tactical advantages at their disposal.  \\nModel Fully Visible  \\n#### Unit It Is Observing.',\n",
       "   \"#### Model Fully Visible  \\nIf every part of another model that is facing the observing model can be seen from any part of the observing model, then that other model is said to be fully visible to the observing model, i.e. the observing model has line of sight to all parts of the other model that are facing it, without any other models or terrain features blocking visibility to any of those parts.  \\n#### Unit Fully Visible  \\nIf every model in a unit is fully visible to an observing model, then that unit is fully visible to that observing model. For the purposes of determining if an enemy unit is fully visible, an observing model can see through other models in the unit it is observing.  \\n- **Model Visible:** If any part of a model can be seen, it is visible.  \\n- **Unit Visible:** If any model in a unit is visible, that model's unit is visible.  \\n- **Model Fully Visible:** If every facing part of a model can be seen, it is fully visible.\"]],\n",
       " [[{'Header 1': 'Introduction',\n",
       "    'Header 2': 'Terrain Features (Pg 44-52)',\n",
       "    'type': 'Document'},\n",
       "   {'Header 1': 'Core Concepts',\n",
       "    'Header 2': 'Determining Visibility',\n",
       "    'type': 'Document'},\n",
       "   {'Header 1': 'Introduction',\n",
       "    'Header 2': 'Datasheets And Unit Abilities (Pg 37-39)',\n",
       "    'type': 'Document'},\n",
       "   {'Header 1': 'Introduction',\n",
       "    'Header 2': 'Strategic Reserves And Stratagems (Pg 41-43)',\n",
       "    'type': 'Document'},\n",
       "   {'Header 1': 'Core Concepts',\n",
       "    'Header 2': 'Determining Visibility',\n",
       "    'type': 'Document'}]])"
      ]
     },
     "execution_count": 24,
     "metadata": {},
     "output_type": "execute_result"
    }
   ],
   "execution_count": 24
  },
  {
   "cell_type": "markdown",
   "source": [
    "## Rag template\n",
    "\n",
    "Create a RAG template in Jinja"
   ],
   "metadata": {
    "id": "KtRvx_u6jpZT"
   }
  },
  {
   "cell_type": "code",
   "source": [
    "rag_template = Template(\n",
    "    \"\"\"\n",
    "<|begin_of_text|><|start_header_id|>system<|end_header_id|>\n",
    "{{ role }}\n",
    "Here is the relevant context:\n",
    "{% for chunk in chunks %}\n",
    "{% if chunk.header %}\n",
    "Section: {{ chunk.header.header1 }}\n",
    "{% if chunk.header.header2 is defined %}\n",
    "Subsection: {{ chunk.header.header2 }}\n",
    "{% endif %}\n",
    "{% endif %}\n",
    "Content: {{ chunk.text }}\n",
    "{% endfor %}\n",
    "<|eot_id|><|start_header_id|>user<|end_header_id|>\n",
    "{{ question }}<|eot_id|><|start_header_id|>assistant<|end_header_id|>\n",
    "    \"\"\"\n",
    ")"
   ],
   "metadata": {
    "id": "XsOWaJxGjuzI",
    "ExecuteTime": {
     "end_time": "2024-11-26T20:19:11.695407Z",
     "start_time": "2024-11-26T20:19:11.691723Z"
    }
   },
   "outputs": [],
   "execution_count": 30
  },
  {
   "metadata": {},
   "cell_type": "code",
   "outputs": [],
   "execution_count": null,
   "source": [
    "# # claude \n",
    "# rag_template = Template(\n",
    "#     \"\"\"\n",
    "# <|begin_of_text|><|start_header_id|>system<|end_header_id|>\n",
    "# {{ role }}\n",
    "# <userStyle>{{ style }}</userStyle>\n",
    "# <|eot_id|><|start_header_id|>user<|end_header_id|>\n",
    "# {{ question }}<|eot_id|><|start_header_id|>assistant<|end_header_id|>\n",
    "# Based on the provided context:\n",
    "# {% for chunk in chunks %}\n",
    "# {{ chunk.text }}\n",
    "# {% endfor %}\n",
    "# \n",
    "# Please answer the question about: {{ question }}\n",
    "#     \"\"\"\n",
    "# )"
   ]
  },
  {
   "metadata": {
    "ExecuteTime": {
     "end_time": "2024-11-26T20:17:42.696627Z",
     "start_time": "2024-11-26T20:17:42.694658Z"
    }
   },
   "cell_type": "code",
   "source": [
    "# rag_template= Template(\n",
    "#     \"\"\"\n",
    "# <|begin_of_text|><|start_header_id|>system<|end_header_id|>\n",
    "# {{ role }}<|eot_id|><|start_header_id|>user<|end_header_id|>\n",
    "# {{ input }}<|eot_id|><|start_header_id|>assistant<|end_header_id|>\n",
    "#     \"\"\"\n",
    "# )"
   ],
   "outputs": [],
   "execution_count": 26
  },
  {
   "cell_type": "code",
   "source": [
    "print(rag_template.render(**{\n",
    "    'role': 'you are an experienced wargame player',\n",
    "    'question': \"What is a visible unit ?\",\n",
    "    'chunks':[{'header': {'header1':'toto'},'text':'ctx1'},{'header': {'header1':'tato', 'header2':'tato'},'text':'ctx2'},{'header': {'header1':'tato'}, 'text':'ctx3'}]\n",
    "}))"
   ],
   "metadata": {
    "id": "BnktYC5sj5xg",
    "ExecuteTime": {
     "end_time": "2024-11-26T20:17:43.463499Z",
     "start_time": "2024-11-26T20:17:43.461130Z"
    }
   },
   "outputs": [
    {
     "name": "stdout",
     "output_type": "stream",
     "text": [
      "\n",
      "<|begin_of_text|><|start_header_id|>system<|end_header_id|>\n",
      "you are an experienced wargame player\n",
      "<userStyle>Normal</userStyle>\n",
      "\n",
      "Here is the relevant context:\n",
      "\n",
      "\n",
      "Section: toto\n",
      "\n",
      "\n",
      "Content: ctx1\n",
      "\n",
      "\n",
      "Section: tato\n",
      "\n",
      "Subsection: tato\n",
      "\n",
      "\n",
      "Content: ctx2\n",
      "\n",
      "\n",
      "Section: tato\n",
      "\n",
      "\n",
      "Content: ctx3\n",
      "\n",
      "<|eot_id|><|start_header_id|>user<|end_header_id|>\n",
      "What is a visible unit ?<|eot_id|><|start_header_id|>assistant<|end_header_id|>\n",
      "    \n"
     ]
    }
   ],
   "execution_count": 27
  },
  {
   "metadata": {
    "ExecuteTime": {
     "end_time": "2024-11-26T20:19:17.120014Z",
     "start_time": "2024-11-26T20:19:17.117571Z"
    }
   },
   "cell_type": "code",
   "source": [
    "example = rag_template.render(**{\n",
    "    'role': 'you are an experienced wargame player',\n",
    "    'question': \"What is a visible unit ?\",\n",
    "    'chunks':[{'header': {'header1':'toto'},'text':'ctx1'},{'header': {'header1':'tato', 'header2':'tato'},'text':'ctx2'},{'header': {'header1':'tato'}, 'text':'ctx3'}]\n",
    "})"
   ],
   "outputs": [],
   "execution_count": 31
  },
  {
   "metadata": {
    "ExecuteTime": {
     "end_time": "2024-11-26T20:19:20.471019Z",
     "start_time": "2024-11-26T20:19:18.208718Z"
    }
   },
   "cell_type": "code",
   "source": "llm_complete(example,if_jinja=True)",
   "outputs": [
    {
     "data": {
      "text/plain": [
       "'A visible unit is an entity in a game that is easily visible to the opponent or the player. It is typically a character, creature, or other entity that can be seen on the battlefield or map, and is usually represented by a visual representation, such as a symbol, icon, or image.\\n\\nExamples of visible units include:\\n\\n* Characters on a tabletop board\\n* Creatures on a fantasy world map\\n* Minions or enemy units on a game of Starcraft\\n* Heroes or champions on a fantasy RPG game\\n* Units on a game of Risk or other board games\\n\\nVisible units can be distinguished from invisible units by their visual representation, which can be:\\n\\n* A distinct symbol or icon\\n* A specific color or pattern\\n* A unique design or shape\\n* A distinctive sound or audio cue\\n\\nVisible units can also be distinguished from invisible units by their behavior or movement patterns. For example, a visible unit may be able to move, attack, or cast spells, while an invisible unit may not.'"
      ]
     },
     "execution_count": 32,
     "metadata": {},
     "output_type": "execute_result"
    }
   ],
   "execution_count": 32
  },
  {
   "cell_type": "markdown",
   "source": [
    "Createz a question that will create the prompt using the question and chunks."
   ],
   "metadata": {
    "id": "PzP5AKsRkCA3"
   }
  },
  {
   "cell_type": "code",
   "source": [
    "def prompt_generation(question, chunks, if_sorted=False):\n",
    "    if if_sorted:\n",
    "        # for the final sorted chunks\n",
    "        chunks = [item['chunk'] for item in reranked_chunks]\n",
    "    prompt = {'role':'you are an experienced wargame player',\n",
    "              'question':question,\n",
    "              'chunks':chunks}\n",
    "    formatted_prompt = rag_template.render(**prompt)\n",
    "    \n",
    "    return formatted_prompt# return the prompt"
   ],
   "metadata": {
    "id": "TKe-DnAykBYo",
    "ExecuteTime": {
     "end_time": "2024-11-27T17:46:58.594606Z",
     "start_time": "2024-11-27T17:46:58.592212Z"
    }
   },
   "outputs": [],
   "execution_count": 209
  },
  {
   "cell_type": "code",
   "source": [
    "print(prompt_generation(question, retrieve(question)))"
   ],
   "metadata": {
    "id": "jLUqmJN2Fffc",
    "ExecuteTime": {
     "end_time": "2024-11-26T20:23:26.529770Z",
     "start_time": "2024-11-26T20:23:26.518873Z"
    }
   },
   "outputs": [
    {
     "name": "stdout",
     "output_type": "stream",
     "text": [
      "\n",
      "<|begin_of_text|><|start_header_id|>system<|end_header_id|>\n",
      "you are an experienced wargame player\n",
      "Here is the relevant context:\n",
      "\n",
      "\n",
      "Content: \n",
      "\n",
      "\n",
      "Content: \n",
      "\n",
      "<|eot_id|><|start_header_id|>user<|end_header_id|>\n",
      "What is a visible unit ?<|eot_id|><|start_header_id|>assistant<|end_header_id|>\n",
      "    \n"
     ]
    }
   ],
   "execution_count": 36
  },
  {
   "cell_type": "markdown",
   "source": [
    "# Full Rag\n",
    "\n",
    "Create functions to perform the full RAG pipeline, you may create a function for the CPU and another one for the GPU."
   ],
   "metadata": {
    "id": "PvBFifq7F1h1"
   }
  },
  {
   "cell_type": "code",
   "source": [
    "question_0 = \"What is a visible unit ?\"\n",
    "question_1 = 'What are the limitations associated to the advance mouvement rule ?'\n",
    "question_2 = 'Is there a stratagem that can be used to reroll a failed dice role?'\n",
    "question_3 = 'Explain the Comand Re-roll stratagem'"
   ],
   "metadata": {
    "id": "4yjRG9hqkwcR",
    "ExecuteTime": {
     "end_time": "2024-11-26T20:23:30.550401Z",
     "start_time": "2024-11-26T20:23:30.548218Z"
    }
   },
   "outputs": [],
   "execution_count": 37
  },
  {
   "cell_type": "code",
   "source": [
    "def full_rag_cpu(question, n_results=4):\n",
    "    #"
   ],
   "metadata": {
    "id": "DuAGBaenFsZk"
   },
   "execution_count": null,
   "outputs": []
  },
  {
   "cell_type": "code",
   "source": [
    "def full_rag_gpu(question, n_results=4):\n",
    "    chunks = retrieve(question, n_results=n_results)\n",
    "    prompt = prompt_generation(question, chunks)\n",
    "    out = llm_complete(prompt,if_jinja=True)\n",
    "    return out\n"
   ],
   "metadata": {
    "id": "8TP1wD7SUTJR",
    "ExecuteTime": {
     "end_time": "2024-11-26T20:25:45.766587Z",
     "start_time": "2024-11-26T20:25:45.764193Z"
    }
   },
   "outputs": [],
   "execution_count": 38
  },
  {
   "metadata": {
    "ExecuteTime": {
     "end_time": "2024-11-26T20:26:03.683419Z",
     "start_time": "2024-11-26T20:26:00.398262Z"
    }
   },
   "cell_type": "code",
   "source": "full_rag_gpu(question_0, n_results=4)",
   "outputs": [
    {
     "data": {
      "text/plain": [
       "'In wargaming, a visible unit refers to a unit that is clearly recognizable and can be seen on the battlefield, either by the player or by the opponent. Visible units are typically characterized by their:\\n\\n1. **Visible color**: Units with visible colors, such as red, blue, or green, which are distinguishable from the background or other units.\\n2. **Distinctive markings**: Units with distinctive markings, such as a specific insignia, emblem, or iconography, that set them apart from other units.\\n3. **Distinctive appearance**: Units with a unique appearance, such as a specific shape, size, or design, that makes them stand out from the surrounding units.\\n4. **Visible position**: Units that are clearly visible on the battlefield, either by being in a visible position, such as on the front lines or in a visible formation, or by being in a visible location, such as on a visible terrain feature.\\n\\nExamples of visible units include:\\n\\n* Armored vehicles, such as tanks, tanks, or infantry vehicles\\n* Infantry units, such as infantry, cavalry, or air support\\n* Artillery units, such as guns or mortars\\n* Aircraft units, such as planes or helicopters\\n* Naval units, such as ships or submarines\\n\\nVisible units can be distinguished from non-visible units, such as:\\n\\n* Invisible units, such as stealthy or invisible units that are not visible on the battlefield\\n* Invisible units with obscured or hidden markings, such as camouflage or concealment\\n* Units that are not visible due to terrain or environmental factors, such as fog, smoke, or darkness.'"
      ]
     },
     "execution_count": 39,
     "metadata": {},
     "output_type": "execute_result"
    }
   ],
   "execution_count": 39
  },
  {
   "metadata": {
    "ExecuteTime": {
     "end_time": "2024-11-26T20:26:37.554174Z",
     "start_time": "2024-11-26T20:26:34.931008Z"
    }
   },
   "cell_type": "code",
   "source": "full_rag_gpu(question_1, n_results=4)  ",
   "outputs": [
    {
     "data": {
      "text/plain": [
       "'In the game of War of the Ring, the Advance Movement rule has several limitations that affect gameplay. Here are some of them:\\n\\n\\n1.  **No Advance Movement**:  The Advance Movement rule prevents a unit from advancing beyond the current location on the board. This means that units cannot move more than one space in any direction, except for the initial movement.\\n\\n2.  **No Retreat**:  Once a unit is placed on the board, it cannot retreat.  If a unit is in a position where it can retreat, it must retreat and can only retreat to a position that is not occupied by another unit.\\n\\n3.  **No Movement to adjacent spaces**:  Units cannot move to adjacent spaces, unless they are in a position where they can move to a space that is not occupied by another unit.\\n\\n4.  **No Movement to adjacent hexes**:  Units cannot move to adjacent hexes, unless they are in a position where they can move to a space that is not occupied by another unit.\\n\\n5.  **No Movement through terrain**:  Units cannot move through terrain features such as mountains, rivers, or forests.\\n\\n6.  **No Movement through enemy units**:  Units cannot move through enemy units.'"
      ]
     },
     "execution_count": 40,
     "metadata": {},
     "output_type": "execute_result"
    }
   ],
   "execution_count": 40
  },
  {
   "cell_type": "markdown",
   "source": [
    "# Adding a reranker\n",
    "The results Might not be satisfactory for some questions.\n",
    "\n",
    "In order to better use the header extraction, we will rerank the chunks using BM25 over the headers."
   ],
   "metadata": {
    "id": "flMmij9HWBTB"
   }
  },
  {
   "metadata": {
    "ExecuteTime": {
     "end_time": "2024-11-26T20:41:20.906051Z",
     "start_time": "2024-11-26T20:41:20.903961Z"
    }
   },
   "cell_type": "code",
   "source": "from nltk.tokenize import word_tokenize",
   "outputs": [],
   "execution_count": 60
  },
  {
   "metadata": {
    "ExecuteTime": {
     "end_time": "2024-11-26T20:43:33.336242Z",
     "start_time": "2024-11-26T20:43:32.801214Z"
    }
   },
   "cell_type": "code",
   "source": "nltk.download('punkt_tab')",
   "outputs": [
    {
     "name": "stderr",
     "output_type": "stream",
     "text": [
      "[nltk_data] Downloading package punkt_tab to /home/sidney/nltk_data...\n",
      "[nltk_data]   Unzipping tokenizers/punkt_tab.zip.\n"
     ]
    },
    {
     "data": {
      "text/plain": [
       "True"
      ]
     },
     "execution_count": 64,
     "metadata": {},
     "output_type": "execute_result"
    }
   ],
   "execution_count": 64
  },
  {
   "cell_type": "code",
   "source": [
    "stopwords_en = stopwords.words('english')\n",
    "stemmer = SnowballStemmer(\"english\")\n",
    "# def metadata_preprocessing(metadata):\n",
    "    \n",
    "    \n",
    "    # return # preprocessed headers\n",
    "def preprocessing_string(anystring):\n",
    "    tokens = word_tokenize(anystring)\n",
    "    tokens = [stemmer.stem(w) for w in tokens]\n",
    "    tokens = [w for w in tokens if not w in stopwords_en]\n",
    "    return \" \".join(tokens) \n",
    "\n",
    "def query_preprocessing(query):\n",
    "    query = preprocessing_string(query)\n",
    "    return query \n",
    "    # return # preprocessed queries\n",
    "def metadata_preprocessing(processed_query,n_results):\n",
    "    chunks = retrieve(processed_query, n_results=n_results)\n",
    "    for chunk in chunks[1]:\n",
    "        for sub_chunk in chunk:\n",
    "            keys = sub_chunk.keys()\n",
    "            for key in keys:\n",
    "                if keys != 'type':\n",
    "                    context = sub_chunk[key]\n",
    "                    context = preprocessing_string(context)\n",
    "                    sub_chunk[key] = context    \n",
    "    return chunks\n",
    "def call_retriever(query,n_results): \n",
    "    query = query_preprocessing(query)\n",
    "    chunks = metadata_preprocessing(processed_query=query,n_results=n_results)\n",
    "    return chunks"
   ],
   "metadata": {
    "id": "9TW-taRDMzsD",
    "ExecuteTime": {
     "end_time": "2024-11-26T21:37:54.159284Z",
     "start_time": "2024-11-26T21:37:54.155477Z"
    }
   },
   "outputs": [],
   "execution_count": 125
  },
  {
   "metadata": {},
   "cell_type": "code",
   "outputs": [],
   "execution_count": null,
   "source": "# i think more logically we should first process query and then we do retrive, and process the metadata generated by retriever "
  },
  {
   "metadata": {
    "ExecuteTime": {
     "end_time": "2024-11-26T20:47:35.459270Z",
     "start_time": "2024-11-26T20:47:35.456309Z"
    }
   },
   "cell_type": "code",
   "source": "question_3",
   "outputs": [
    {
     "data": {
      "text/plain": [
       "'Explain the Comand Re-roll stratagem'"
      ]
     },
     "execution_count": 83,
     "metadata": {},
     "output_type": "execute_result"
    }
   ],
   "execution_count": 83
  },
  {
   "metadata": {
    "ExecuteTime": {
     "end_time": "2024-11-26T20:46:02.423466Z",
     "start_time": "2024-11-26T20:46:02.414116Z"
    }
   },
   "cell_type": "code",
   "source": "example = retrieve(question_3,n_results=2)",
   "outputs": [],
   "execution_count": 80
  },
  {
   "metadata": {
    "ExecuteTime": {
     "end_time": "2024-11-26T20:46:03.188379Z",
     "start_time": "2024-11-26T20:46:03.185579Z"
    }
   },
   "cell_type": "code",
   "source": "example[1]",
   "outputs": [
    {
     "data": {
      "text/plain": [
       "[[{'Header 1': 'Core Concepts', 'Header 2': 'Dice', 'type': 'Document'},\n",
       "  {'Header 1': 'Stratagems', 'type': 'Document'}]]"
      ]
     },
     "execution_count": 81,
     "metadata": {},
     "output_type": "execute_result"
    }
   ],
   "execution_count": 81
  },
  {
   "metadata": {
    "ExecuteTime": {
     "end_time": "2024-11-26T20:46:08.597664Z",
     "start_time": "2024-11-26T20:46:08.594831Z"
    }
   },
   "cell_type": "code",
   "source": "example[1][0][0]",
   "outputs": [
    {
     "data": {
      "text/plain": [
       "{'Header 1': 'Core Concepts', 'Header 2': 'Dice', 'type': 'Document'}"
      ]
     },
     "execution_count": 82,
     "metadata": {},
     "output_type": "execute_result"
    }
   ],
   "execution_count": 82
  },
  {
   "metadata": {
    "ExecuteTime": {
     "end_time": "2024-11-26T20:45:14.647903Z",
     "start_time": "2024-11-26T20:45:14.644790Z"
    }
   },
   "cell_type": "code",
   "source": [
    "for item in example[1]:\n",
    "   for sub_item in item:\n",
    "       keys = list(sub_item.keys())\n",
    "       for key in keys:\n",
    "           if key != 'type':\n",
    "               context = sub_item[key]\n",
    "\n",
    "               tokenized = word_tokenize(context)\n",
    "               tokenized = [stemmer.stem(word) for word in tokenized]\n",
    "               tokenized = [word for word in tokenized if not word in stopwords_en]\n",
    "               new_strings = \" \".join(tokenized) \n",
    "               sub_item[key] = new_strings\n",
    "\n",
    "               "
   ],
   "outputs": [
    {
     "name": "stdout",
     "output_type": "stream",
     "text": [
      "Introduction\n",
      "['Introduction']\n",
      "['introduct']\n",
      "['introduct']\n",
      "Terrain Features (Pg 44-52)\n",
      "['Terrain', 'Features', '(', 'Pg', '44-52', ')']\n",
      "['terrain', 'featur', '(', 'pg', '44-52', ')']\n",
      "['terrain', 'featur', '(', 'pg', '44-52', ')']\n",
      "Core Concepts\n",
      "['Core', 'Concepts']\n",
      "['core', 'concept']\n",
      "['core', 'concept']\n",
      "Determining Visibility\n",
      "['Determining', 'Visibility']\n",
      "['determin', 'visibl']\n",
      "['determin', 'visibl']\n"
     ]
    }
   ],
   "execution_count": 78
  },
  {
   "metadata": {
    "ExecuteTime": {
     "end_time": "2024-11-26T20:45:19.379893Z",
     "start_time": "2024-11-26T20:45:19.377103Z"
    }
   },
   "cell_type": "code",
   "source": "example",
   "outputs": [
    {
     "data": {
      "text/plain": [
       "([[\"- **Model Visible:** If any part of a model can be seen, it is visible.  \\n- **Unit Visible:** If any model in a unit is visible, that model's unit is visible.  \\n- **Model Fully Visible:** If every Warhammer 40,000 battles are fought across all manner of grim and perilous landscapes, often strewn with ruins, wreckage and other obstacles your forces must navigate while they fight.  \\n#### - Unit Fully Visible: If Every Model In A Unit Is Fully Visible, That Unit Is\",\n",
       "   '- **Unit Fully Visible:** If every model in a unit is fully visible, that unit is fully visible.  \\n#### Hints And Tips  \\nDice Rolling']],\n",
       " [[{'Header 1': 'introduct',\n",
       "    'Header 2': 'terrain featur ( pg 44-52 )',\n",
       "    'type': 'Document'},\n",
       "   {'Header 1': 'core concept',\n",
       "    'Header 2': 'determin visibl',\n",
       "    'type': 'Document'}]])"
      ]
     },
     "execution_count": 79,
     "metadata": {},
     "output_type": "execute_result"
    }
   ],
   "execution_count": 79
  },
  {
   "metadata": {
    "ExecuteTime": {
     "end_time": "2024-11-26T20:59:44.942127Z",
     "start_time": "2024-11-26T20:59:44.931803Z"
    }
   },
   "cell_type": "code",
   "source": [
    "# process query \n",
    "question_0 = query_preprocessing(question_0)\n",
    "# process_meta and get meta\n",
    "chunks_0 = metadata_preprocessing(question_0,n_results=5)\n",
    "\n",
    "print(chunks_0)"
   ],
   "outputs": [
    {
     "name": "stdout",
     "output_type": "stream",
     "text": [
      "([['- **Unit Fully Visible:** If every model in a unit is fully visible, that unit is fully visible.  \\n#### Hints And Tips  \\nDice Rolling', \"- **Model Visible:** If any part of a model can be seen, it is visible.  \\n- **Unit Visible:** If any model in a unit is visible, that model's unit is visible.  \\n- **Model Fully Visible:** If every Warhammer 40,000 battles are fought across all manner of grim and perilous landscapes, often strewn with ruins, wreckage and other obstacles your forces must navigate while they fight.  \\n#### - Unit Fully Visible: If Every Model In A Unit Is Fully Visible, That Unit Is\", 'MODEL FULLY VISIBLE\\nIf every part of another model that is facing the observing model can be seen from any part of the observing model, then that other model is said Every Warhammer 40,000 unit has a datasheet, reflecting the characteristics and abilities they can draw upon in battle.  \\nUnit Visible  \\n#### Has Line Of Sight To All Parts Of The Other Model That Are Facing It, Without Any Other Models Or Terrain Features Blocking Visibility To Any Of Those Parts. Unit Fully Visible', '- **Unit Coherency:** Within 2\" horizontally and 5\" vertically of:\\n- One other model from the same unit\\n(in units of 2-6 models).  \\n- Two other models from the same unit\\n(in units of 7+ models).  \\n- At the end of every turn, if a unit is not in Unit Coherency, the controlling player must remove models until that unit is in Unit Coherency again.  \\n6  \\n#### Hints And Tips Wobbly Models', 'that unit with which weapons before any attacks are resolved. If any of these weapons have more than one profile that you must choose between, you must also declare which profile is being used.']], [[{'Header 1': 'core concept', 'Header 2': 'determin visibl', 'type': 'document'}, {'Header 1': 'introduct', 'Header 2': 'terrain featur ( pg 44-52 )', 'type': 'document'}, {'Header 1': 'introduct', 'Header 2': 'datasheet unit abil ( pg 37-39 )', 'type': 'document'}, {'Header 1': 'core concept', 'Header 2': 'armi', 'type': 'document'}, {'Header 1': 'shoot phase', 'type': 'document'}]])\n"
     ]
    }
   ],
   "execution_count": 88
  },
  {
   "metadata": {
    "ExecuteTime": {
     "end_time": "2024-11-26T21:38:10.200156Z",
     "start_time": "2024-11-26T21:38:10.188782Z"
    }
   },
   "cell_type": "code",
   "source": "call_retriever(question_1,n_results=5)",
   "outputs": [
    {
     "data": {
      "text/plain": [
       "([['This section introduces various rules terms that you will find throughout the Core Rules and beyond. These key concepts form the basis of the Warhammer 40,000 rules, and are essential for every kind of battle.',\n",
       "   '- **Consolidation Move:** Up to 3\". - Every model that moves must end closer to the closest enemy model, and in base-to-base contact with an enemy model if possible. The unit must end in Unit Coherency and within Engagement Range of at least one enemy unit if possible.  \\n- If the above is not possible, each model can move towards the closest objective marker, but this must result in the unit being within range of it and in Unit Coherency.  \\n- If the above is also not possible, no models can Consolidate.  \\n1 2 3 4  \\n35  \\n- these Termagants will also get to make attacks. The remaining two Termagants are too distant from the foe, and will not get to make attacks.',\n",
       "   '- A model is within range of an objective marker if within 3\" horizontally and 5\" vertically.  \\n- **Level of Control:** Add together the OC characteristics of all of a player\\'s models within range of the objective marker.  \\n- An objective marker is controlled by the player with the highest Level of Control over it (in a tie, it is contested).  \\n- Models cannot end a move on top of an objective marker.  \\n#### Hints And Tips  \\nObjective Markers And Terrain Features',\n",
       "   '- **Unit Coherency:** Within 2\" horizontally and 5\" vertically of:\\n- One other model from the same unit\\n(in units of 2-6 models).  \\n- Two other models from the same unit\\n(in units of 7+ models).  \\n- At the end of every turn, if a unit is not in Unit Coherency, the controlling player must remove models until that unit is in Unit Coherency again.  \\n6  \\n#### Hints And Tips Wobbly Models',\n",
       "   'After a unit has finished making all of its melee attacks, it Consolidates. Each time a unit Consolidates, you can move each model in that unit that is not already in base-to-base contact with an enemy model up to 3\" - this is a Consolidation move. For a Consolidation to be possible, a unit must be able to end these moves within Engagement Range of one or more enemy units and in Unit Coherency. If these conditions cannot be met, then each model in that unit can instead make a Consolidation move towards the closest objective marker, but only if, after doing so, that unit is within range of that objective marker and in Unit Coherency. If these conditions also cannot be met, no models in the unit can make Consolidation moves this phase and that unit\\'s fight ends. If a unit can end its Consolidation within Engagement Range of one or more enemy units, then each time one of its models makes a Consolidation move, it must end that move closer to the closest enemy model. If it can also end that']],\n",
       " [[{'Header 1': 'core concept', 'type': 'document'},\n",
       "   {'Header 1': 'fight', 'Header 2': '3 . consolid', 'type': 'document'},\n",
       "   {'Header 1': 'object marker', 'type': 'document'},\n",
       "   {'Header 1': 'core concept', 'Header 2': 'armi', 'type': 'document'},\n",
       "   {'Header 1': 'fight', 'Header 2': '3 . consolid', 'type': 'document'}]])"
      ]
     },
     "execution_count": 126,
     "metadata": {},
     "output_type": "execute_result"
    }
   ],
   "execution_count": 126
  },
  {
   "metadata": {
    "ExecuteTime": {
     "end_time": "2024-11-26T22:13:10.679019Z",
     "start_time": "2024-11-26T22:13:10.676994Z"
    }
   },
   "cell_type": "code",
   "source": [
    "# # reranker use bm25 -> \n",
    "# # initialize bm25 on all the data \n",
    "# new_chunks[0].keys()"
   ],
   "outputs": [],
   "execution_count": 189
  },
  {
   "metadata": {
    "ExecuteTime": {
     "end_time": "2024-11-26T22:13:12.455341Z",
     "start_time": "2024-11-26T22:13:12.452998Z"
    }
   },
   "cell_type": "code",
   "source": "# chunks[0]",
   "outputs": [],
   "execution_count": 190
  },
  {
   "metadata": {
    "ExecuteTime": {
     "end_time": "2024-11-26T22:13:07.026701Z",
     "start_time": "2024-11-26T22:13:07.024490Z"
    }
   },
   "cell_type": "code",
   "source": [
    "# all_corpus_keys = new_chunks[0].keys()\n",
    "# corpus = [] \n",
    "# \n",
    "# for chunk in chunks:\n",
    "#     strings = ''\n",
    "#     \n",
    "#     meta_context = chunk['metadata']\n",
    "#     for key in meta_context.keys():\n",
    "#         strings += meta_context[key]\n",
    "#     page_context = chunk['page_content']\n",
    "#     strings += page_context\n",
    "#     type_context = chunk['type']\n",
    "#     # print(type_context)\n",
    "#     strings += type_context\n",
    "#     cleaned_strings = preprocessing_string(strings)\n",
    "#     corpus.append(cleaned_strings)\n",
    "# \n",
    "#     \n",
    "# tokenized_corpus = [word_tokenize(doc) for doc in corpus]\n",
    "# \n",
    "# # initialize bm25\n",
    "# bm25 = BM25Okapi(tokenized_corpus)"
   ],
   "outputs": [],
   "execution_count": 188
  },
  {
   "metadata": {
    "ExecuteTime": {
     "end_time": "2024-11-26T21:11:07.750698Z",
     "start_time": "2024-11-26T21:11:07.560674Z"
    }
   },
   "cell_type": "code",
   "source": "# cleaned_corpus = preprocessing_string(strings)",
   "outputs": [],
   "execution_count": 104
  },
  {
   "metadata": {
    "ExecuteTime": {
     "end_time": "2024-11-26T21:27:29.459603Z",
     "start_time": "2024-11-26T21:27:29.451733Z"
    }
   },
   "cell_type": "code",
   "source": "",
   "outputs": [],
   "execution_count": 120
  },
  {
   "metadata": {
    "ExecuteTime": {
     "end_time": "2024-11-26T22:13:03.077805Z",
     "start_time": "2024-11-26T22:13:03.075890Z"
    }
   },
   "cell_type": "code",
   "source": [
    "# # how to rerank chunks_0 \n",
    "# chunks_0"
   ],
   "outputs": [],
   "execution_count": 187
  },
  {
   "metadata": {
    "ExecuteTime": {
     "end_time": "2024-11-26T22:12:56.241289Z",
     "start_time": "2024-11-26T22:12:56.239269Z"
    }
   },
   "cell_type": "code",
   "source": [
    "# # rerank \n",
    "# retrived_docs,retrieved_meta = chunks_0\n",
    "# # print(retrived_docs[0][1])\n",
    "# \n",
    "# combined_text = [] \n",
    "# \n",
    "# for doc,meta in zip(retrived_docs[0],retrieved_meta[0]):\n",
    "#     text = \"\"\n",
    "#     for key in meta.keys():\n",
    "#         text += meta[key]\n",
    "#     text += doc\n",
    "#     combined_text.append(text)\n",
    "# tokenized_combined_text = [preprocessing_string(doc) for doc in combined_text]\n",
    "# bm_25_local = BM25Okapi(combined_text)\n",
    "# scores = bm25.get_scores(question_0.split())\n",
    "# # print(scores)\n",
    "# # scored_results = list(zip(scores,retrived_docs[0],retrieved_meta[0]))\n",
    "# scored_results = list(zip(scores, retrived_docs[0], retrieved_meta[0]))\n",
    "# reranked_results = sorted(scored_results, key=lambda x: x[0], reverse=True)\n"
   ],
   "outputs": [],
   "execution_count": 185
  },
  {
   "metadata": {
    "ExecuteTime": {
     "end_time": "2024-11-26T22:12:59.479388Z",
     "start_time": "2024-11-26T22:12:59.477196Z"
    }
   },
   "cell_type": "code",
   "source": "# reranked_results",
   "outputs": [],
   "execution_count": 186
  },
  {
   "cell_type": "code",
   "source": "",
   "metadata": {
    "id": "KS90kln0aZnO",
    "ExecuteTime": {
     "end_time": "2024-11-26T22:09:23.661104Z",
     "start_time": "2024-11-26T22:09:23.659458Z"
    }
   },
   "outputs": [],
   "execution_count": null
  },
  {
   "metadata": {
    "ExecuteTime": {
     "end_time": "2024-11-26T22:08:44.229813Z",
     "start_time": "2024-11-26T22:08:44.226409Z"
    }
   },
   "cell_type": "code",
   "source": [
    "# import numpy as np\n",
    "# \n",
    "# def rerank_chunks(question, chunks, n_results=int):\n",
    "#     \n",
    "#     \n",
    "#     retrieved_docs, retrieved_meta = chunks\n",
    "# \n",
    "#     # prepare the dataset \n",
    "#     combined_text = []\n",
    "#     for doc, meta in zip(retrieved_docs[0], retrieved_meta[0]):\n",
    "#         text = \"\"\n",
    "#         for key in meta.keys():\n",
    "#             text += meta[key]\n",
    "#         text += doc\n",
    "#         combined_text.append(text)\n",
    "# \n",
    "#     # calculate bm25 scores for each retrieved content \n",
    "#     tokenized_combined_text = [word_tokenize(doc) for doc in combined_text]\n",
    "#     bm_25 = BM25Okapi(tokenized_combined_text)\n",
    "#     scores = bm_25.get_scores(question.split())\n",
    "# \n",
    "#     # create a index for selecting n_results for the reranker \n",
    "#     all_results = []\n",
    "#     for i, (score, doc, meta) in enumerate(zip(scores, retrieved_docs[0], retrieved_meta[0])):\n",
    "#         all_results.append({\n",
    "#             'score': score,\n",
    "#             'document': doc,\n",
    "#             'metadata': meta,\n",
    "#             'index': i\n",
    "#         })\n",
    "# \n",
    "#     # reranker \n",
    "#     reranked_results = sorted(all_results,\n",
    "#                               key=lambda x: x['score'],\n",
    "#                               reverse=True)[:n_results]\n",
    "#     return [(item['score'], item['document'], item['metadata'])\n",
    "#             for item in reranked_results]"
   ],
   "outputs": [],
   "execution_count": 180
  },
  {
   "metadata": {
    "ExecuteTime": {
     "end_time": "2024-11-27T17:47:17.540160Z",
     "start_time": "2024-11-27T17:47:17.536569Z"
    }
   },
   "cell_type": "code",
   "source": [
    "def rerank_chunks(question, chunks, n_results=int):\n",
    "    retrieved_docs, retrieved_meta = chunks\n",
    "\n",
    "    # 1. 准备文档\n",
    "    combined_text = []\n",
    "    for doc, meta in zip(retrieved_docs[0], retrieved_meta[0]):\n",
    "        text = \"\"\n",
    "        for key in meta.keys():\n",
    "            text += meta[key]\n",
    "        text += doc\n",
    "        combined_text.append(text)\n",
    "\n",
    "    # 2. 计算分数\n",
    "    tokenized_combined_text = [word_tokenize(doc) for doc in combined_text]\n",
    "    bm_25 = BM25Okapi(tokenized_combined_text)\n",
    "    scores = bm_25.get_scores(question.split())\n",
    "\n",
    "    # 3. 创建结果列表\n",
    "    all_results = []\n",
    "    for score, doc, meta in zip(scores, retrieved_docs[0], retrieved_meta[0]):\n",
    "        result = {\n",
    "            'score': score,\n",
    "            'chunk': {  # 为template创建chunk格式\n",
    "                'header': {\n",
    "                    'header1': meta.get('Header 1', ''),\n",
    "                    'header2': meta.get('Header 2', '')\n",
    "                },\n",
    "                'text': doc\n",
    "            }\n",
    "        }\n",
    "        all_results.append(result)\n",
    "\n",
    "    # 4. 排序\n",
    "    reranked_results = sorted(all_results,\n",
    "                              key=lambda x: x['score'],\n",
    "                              reverse=True)[:n_results]\n",
    "\n",
    "    # 5. 返回包含score和template格式的结果\n",
    "    return reranked_results\n",
    "# \n",
    "# def prompt_generation(question, reranked_chunks):\n",
    "#     # 从reranked_chunks中只取chunk部分用于template\n",
    "#     chunks_for_template = [item['chunk'] for item in reranked_chunks]\n",
    "# \n",
    "#     prompt = rag_template.render(\n",
    "#         role='you are an experienced wargame player',\n",
    "#         question=question,\n",
    "#         chunks=chunks_for_template\n",
    "#     )\n",
    "#     return prompt, reranked_chunks  # 同时返回带分数的完整结果"
   ],
   "outputs": [],
   "execution_count": 210
  },
  {
   "cell_type": "code",
   "source": [
    "retrieved_chunks = call_retriever(question_2, n_results=100)\n",
    "reranked_chunks = rerank_chunks(question_2, retrieved_chunks, n_results=10)\n",
    "# print(question_2)\n",
    "print(reranked_chunks)\n",
    "for rr_chk in reranked_chunks:\n",
    "    print('score: {}'.format(rr_chk['score']))\n",
    "    print('header: {}'.format('#'.join(rr_chk['chunk']['header'][key]for key in rr_chk['chunk']['header'].keys() if key != 'type')))\n",
    "    print('text: {}'.format(rr_chk['chunk']['text']))\n",
    "    print('-'*100)"
   ],
   "metadata": {
    "id": "DgzJY-EHaZ05",
    "ExecuteTime": {
     "end_time": "2024-11-27T17:45:27.398905Z",
     "start_time": "2024-11-27T17:45:27.342960Z"
    }
   },
   "outputs": [
    {
     "name": "stdout",
     "output_type": "stream",
     "text": [
      "[{'score': 15.420252591115945, 'chunk': {'header': {'header1': 'introduct', 'header2': 'strateg reserv stratagem ( pg 41-43 )'}, 'text': 'If every model in a unit is fully visible to an observing model, then that unit is fully visible to that observing model. For the purposes of determining if an enemy unit is One model in this unit is visible, meaning the unit is visible.  \\nFrom well-timed Strategic Reserves to deftly executed Stratagems, gifted generals make use of all the tactical advantages at their disposal.  \\nModel Fully Visible  \\n#### Unit It Is Observing.'}}, {'score': 14.3578906842436, 'chunk': {'header': {'header1': 'weapon abil', 'header2': ''}, 'text': '27  \\n#### Hazardous  \\nWeapons powered by unstable and dangerous energy sources pose a substantial risk to the wielder every time they are used. Weapons with **[HAZARDOUS]** in their profile are known as Hazardous weapons. Each time a unit is selected to shoot or fight, if one or more models attack with Hazardous weapons, then after that unit has resolved all of its attacks, you must take one Hazardous test for each Hazardous weapon that was just used by rolling one D6. For each roll of 1, that test is failed and one model in that unit equipped with a Hazardous weapon is destroyed (selected by the controlling player), unless that model is a **Character**, Monster or **Vehicle**, in which case it suffers 3 mortal wounds instead. Note that if you selected a Character model in an Attached unit, the mortal wounds suffered must be allocated to that model first, even if there is another model in that unit that has lost one or more wounds or has had attacks allocated to it this phase.'}}, {'score': 14.081808547610144, 'chunk': {'header': {'header1': '1 2 4', 'header2': '5 . inflict damag'}, 'text': 'then your opponent can make all their saving throws at the same time, and can do so as soon as the Wound rolls have been made. If they do, they then allocate the attacks that resulted in failed saving throws one at a time, inflicting the damage as appropriate even though, strictly speaking, saving throws should be made after attacks have been allocated. In any case, remember that if the target unit contains a model that has already lost any wounds or has already had attacks allocated to it this phase, the controlling player must allocate further attacks to that model until either it is destroyed, or all the attacks have been saved or resolved. If the attacks being allocated to a target inflict random damage, you cannot use the fast dice rolling approach exactly as stated above - you will need to roll the dice one at a time. Consider several attacks with a Damage characteristic of D3 being allocated to a target containing models with two wounds each. As excess damage is lost each time'}}, {'score': 13.779272478814862, 'chunk': {'header': {'header1': 'datasheet', 'header2': ''}, 'text': '#### 7 Wargear Options  \\nSome datasheets have a bullet-pointed list of wargear options. When you include such a unit in your army, you can use these options to change the weapons and other wargear of models in the unit. The order you use these options in does not matter, but each can only be used once.  \\n#### Leadership Tests  \\nIf a rule requires you to take a Leadership test for a unit, roll 2D6: if the total is greater than or equal to the best Leadership characteristic in that unit, that test is passed. Otherwise, it is failed.  \\n#### Random Characteristics'}}, {'score': 13.71104051107975, 'chunk': {'header': {'header1': 'core concept', 'header2': 'determin visibl'}, 'text': \"In a game of Warhammer 40,000 you and your opponent will be rolling, and in some cases re-rolling, lots of dice. It is good practice to always make sure your opponent knows what you are rolling dice for, and what abilities and rules are in effect that enable you to make any re-rolls. Many gamers roll their dice somewhere on the battlefield, but some roll their dice elsewhere, such as in a dice tray. Wherever you roll your dice, make sure you roll the dice where your opponent can see the results too. If a dice is rolled out of bounds (i.e. it rolls off your battlefield, out of your dice tray or ends up on the floor), it is very common to ignore the result of that dice and roll it again. Rolling an out-of-bounds dice again doesn't count as having re-rolled that dice. If a dice does not lie flat on your battlefield after it has been thrown, it is called a cocked dice. Some players use a house rule that unless a dice is flat after it has been rolled, or unless you can balance another dice\"}}, {'score': 13.591666113758128, 'chunk': {'header': {'header1': 'core concept', 'header2': 'determin visibl'}, 'text': \"you can balance another dice on top of a cocked dice without it sliding off, it must be rolled again. It is more common for players to roll the dice again only if they can't be sure of the result. In any case, rolling a cocked dice again doesn't count as having re-rolled that dice.\"}}, {'score': 13.205053205193675, 'chunk': {'header': {'header1': 'core concept', 'header2': 'dice'}, 'text': \"#### Re-Rolls  \\nSome rules allow you to re-roll a dice roll, which means you get to roll some or all of the dice again. If a rule allows you to re-roll a dice roll that was made by adding several dice together (e.g. 2D6, 3D6, etc.) then, unless otherwise stated, you must re-roll all of those dice again. You can never re-roll a dice more than once, and re-rolls happen before modifiers (if any) are applied. Rules that refer to the value of an 'unmodified' dice roll are referring to the dice result after any re-rolls, but before any modifiers are applied.  \\n- **Unmodified Dice**: the result after re-rolls, but before any modifiers.  \\n- A dice can never be re-rolled more than once. - You must re-roll all dice if several need adding together\\n(e.g. 2D6).  \\n- Re-rolls are applied before any modifiers.  \\n#### Roll-Offs\"}}, {'score': 11.640810334015596, 'chunk': {'header': {'header1': 'charg phase', 'header2': ''}, 'text': '- Cannot move within Engagement Range of any unit that was not a target of the charge.  \\n- If the charge is successful, each model makes a Charge move less than or equal to the Charge roll, and must move into base-to-base contact with an enemy model if possible.  \\n29  \\n#### Charging Over Terrain  \\nUnless otherwise stated, a model can be moved over a terrain feature when it makes a Charge move, but not through it. A model can be moved over terrain features that are 2\" or less in height as if they were not there. A model can be moved vertically in order to climb up, down and over any terrain features that are taller than this, counting the vertical distance up and/or down as part of its Charge move. Models cannot end a Charge move mid-climb - if it is not possible to make a Charge move as a result, the charge fails.  \\n- Models can be moved freely over terrain features 2\" or less in height.  \\n- Models cannot move through terrain features taller than 2\", but can climb up and down them.'}}, {'score': 10.821273802792037, 'chunk': {'header': {'header1': 'stratagem', 'header2': ''}, 'text': \"Command points can be spent during the battle to use Stratagems. All players can use the Core Stratagems presented here. Additional Stratagems can be found in Codexes and other publications.  \\nWhen you use a Stratagem, reduce your CP total by the amount listed on that Stratagem. If you do not have enough CP for a specific Stratagem, you cannot use it. You can use the same Stratagem multiple times during a battle, but you cannot use the same Stratagem more than once in the same phase.  \\n- To use a Stratagem you must pay the CP specified.  \\n- The same Stratagem cannot be used more than once in the same phase.  \\n#### Stratagems Key  \\nEITHER PLAYER'S TURN YOUR TURN OPPONENT'S TURN  \\n#### Stratagem Categories  \\nEach Stratagem belongs to one of four categories, as described below. There are some rules (especially in Crusade games) that interact with Stratagems of a particular category.\"}}, {'score': 10.362569378446223, 'chunk': {'header': {'header1': 'core concept', 'header2': 'dice'}, 'text': 'In order to fight a battle, you will require some six-sided dice (often abbreviated to D6). Some rules refer to 2D6, 3D6 and so on - in such cases, roll that many D6 and add the results together. If a rule requires you to roll a D3, roll a D6 and halve the result (rounding up to a whole number) to get the D3 result, as shown below.  \\n| ROLLING A D3   |           |\\n|----------------|-----------|\\n| DICE RESULT    | D3 RESULT |\\n| or             | 1         |\\n| or             | 2         |\\n| or             | 3         |  \\nIf a rule requires a dice roll of, for example, 3 or more, this is often abbreviated to 3+. Where several consecutive dice results are relevant to a rule, these are often shown as a range (e.g. 1-3).  \\n#### Re-Rolls'}}]\n",
      "score: 15.420252591115945\n",
      "header: introduct#strateg reserv stratagem ( pg 41-43 )\n",
      "text: If every model in a unit is fully visible to an observing model, then that unit is fully visible to that observing model. For the purposes of determining if an enemy unit is One model in this unit is visible, meaning the unit is visible.  \n",
      "From well-timed Strategic Reserves to deftly executed Stratagems, gifted generals make use of all the tactical advantages at their disposal.  \n",
      "Model Fully Visible  \n",
      "#### Unit It Is Observing.\n",
      "----------------------------------------------------------------------------------------------------\n",
      "score: 14.3578906842436\n",
      "header: weapon abil#\n",
      "text: 27  \n",
      "#### Hazardous  \n",
      "Weapons powered by unstable and dangerous energy sources pose a substantial risk to the wielder every time they are used. Weapons with **[HAZARDOUS]** in their profile are known as Hazardous weapons. Each time a unit is selected to shoot or fight, if one or more models attack with Hazardous weapons, then after that unit has resolved all of its attacks, you must take one Hazardous test for each Hazardous weapon that was just used by rolling one D6. For each roll of 1, that test is failed and one model in that unit equipped with a Hazardous weapon is destroyed (selected by the controlling player), unless that model is a **Character**, Monster or **Vehicle**, in which case it suffers 3 mortal wounds instead. Note that if you selected a Character model in an Attached unit, the mortal wounds suffered must be allocated to that model first, even if there is another model in that unit that has lost one or more wounds or has had attacks allocated to it this phase.\n",
      "----------------------------------------------------------------------------------------------------\n",
      "score: 14.081808547610144\n",
      "header: 1 2 4#5 . inflict damag\n",
      "text: then your opponent can make all their saving throws at the same time, and can do so as soon as the Wound rolls have been made. If they do, they then allocate the attacks that resulted in failed saving throws one at a time, inflicting the damage as appropriate even though, strictly speaking, saving throws should be made after attacks have been allocated. In any case, remember that if the target unit contains a model that has already lost any wounds or has already had attacks allocated to it this phase, the controlling player must allocate further attacks to that model until either it is destroyed, or all the attacks have been saved or resolved. If the attacks being allocated to a target inflict random damage, you cannot use the fast dice rolling approach exactly as stated above - you will need to roll the dice one at a time. Consider several attacks with a Damage characteristic of D3 being allocated to a target containing models with two wounds each. As excess damage is lost each time\n",
      "----------------------------------------------------------------------------------------------------\n",
      "score: 13.779272478814862\n",
      "header: datasheet#\n",
      "text: #### 7 Wargear Options  \n",
      "Some datasheets have a bullet-pointed list of wargear options. When you include such a unit in your army, you can use these options to change the weapons and other wargear of models in the unit. The order you use these options in does not matter, but each can only be used once.  \n",
      "#### Leadership Tests  \n",
      "If a rule requires you to take a Leadership test for a unit, roll 2D6: if the total is greater than or equal to the best Leadership characteristic in that unit, that test is passed. Otherwise, it is failed.  \n",
      "#### Random Characteristics\n",
      "----------------------------------------------------------------------------------------------------\n",
      "score: 13.71104051107975\n",
      "header: core concept#determin visibl\n",
      "text: In a game of Warhammer 40,000 you and your opponent will be rolling, and in some cases re-rolling, lots of dice. It is good practice to always make sure your opponent knows what you are rolling dice for, and what abilities and rules are in effect that enable you to make any re-rolls. Many gamers roll their dice somewhere on the battlefield, but some roll their dice elsewhere, such as in a dice tray. Wherever you roll your dice, make sure you roll the dice where your opponent can see the results too. If a dice is rolled out of bounds (i.e. it rolls off your battlefield, out of your dice tray or ends up on the floor), it is very common to ignore the result of that dice and roll it again. Rolling an out-of-bounds dice again doesn't count as having re-rolled that dice. If a dice does not lie flat on your battlefield after it has been thrown, it is called a cocked dice. Some players use a house rule that unless a dice is flat after it has been rolled, or unless you can balance another dice\n",
      "----------------------------------------------------------------------------------------------------\n",
      "score: 13.591666113758128\n",
      "header: core concept#determin visibl\n",
      "text: you can balance another dice on top of a cocked dice without it sliding off, it must be rolled again. It is more common for players to roll the dice again only if they can't be sure of the result. In any case, rolling a cocked dice again doesn't count as having re-rolled that dice.\n",
      "----------------------------------------------------------------------------------------------------\n",
      "score: 13.205053205193675\n",
      "header: core concept#dice\n",
      "text: #### Re-Rolls  \n",
      "Some rules allow you to re-roll a dice roll, which means you get to roll some or all of the dice again. If a rule allows you to re-roll a dice roll that was made by adding several dice together (e.g. 2D6, 3D6, etc.) then, unless otherwise stated, you must re-roll all of those dice again. You can never re-roll a dice more than once, and re-rolls happen before modifiers (if any) are applied. Rules that refer to the value of an 'unmodified' dice roll are referring to the dice result after any re-rolls, but before any modifiers are applied.  \n",
      "- **Unmodified Dice**: the result after re-rolls, but before any modifiers.  \n",
      "- A dice can never be re-rolled more than once. - You must re-roll all dice if several need adding together\n",
      "(e.g. 2D6).  \n",
      "- Re-rolls are applied before any modifiers.  \n",
      "#### Roll-Offs\n",
      "----------------------------------------------------------------------------------------------------\n",
      "score: 11.640810334015596\n",
      "header: charg phase#\n",
      "text: - Cannot move within Engagement Range of any unit that was not a target of the charge.  \n",
      "- If the charge is successful, each model makes a Charge move less than or equal to the Charge roll, and must move into base-to-base contact with an enemy model if possible.  \n",
      "29  \n",
      "#### Charging Over Terrain  \n",
      "Unless otherwise stated, a model can be moved over a terrain feature when it makes a Charge move, but not through it. A model can be moved over terrain features that are 2\" or less in height as if they were not there. A model can be moved vertically in order to climb up, down and over any terrain features that are taller than this, counting the vertical distance up and/or down as part of its Charge move. Models cannot end a Charge move mid-climb - if it is not possible to make a Charge move as a result, the charge fails.  \n",
      "- Models can be moved freely over terrain features 2\" or less in height.  \n",
      "- Models cannot move through terrain features taller than 2\", but can climb up and down them.\n",
      "----------------------------------------------------------------------------------------------------\n",
      "score: 10.821273802792037\n",
      "header: stratagem#\n",
      "text: Command points can be spent during the battle to use Stratagems. All players can use the Core Stratagems presented here. Additional Stratagems can be found in Codexes and other publications.  \n",
      "When you use a Stratagem, reduce your CP total by the amount listed on that Stratagem. If you do not have enough CP for a specific Stratagem, you cannot use it. You can use the same Stratagem multiple times during a battle, but you cannot use the same Stratagem more than once in the same phase.  \n",
      "- To use a Stratagem you must pay the CP specified.  \n",
      "- The same Stratagem cannot be used more than once in the same phase.  \n",
      "#### Stratagems Key  \n",
      "EITHER PLAYER'S TURN YOUR TURN OPPONENT'S TURN  \n",
      "#### Stratagem Categories  \n",
      "Each Stratagem belongs to one of four categories, as described below. There are some rules (especially in Crusade games) that interact with Stratagems of a particular category.\n",
      "----------------------------------------------------------------------------------------------------\n",
      "score: 10.362569378446223\n",
      "header: core concept#dice\n",
      "text: In order to fight a battle, you will require some six-sided dice (often abbreviated to D6). Some rules refer to 2D6, 3D6 and so on - in such cases, roll that many D6 and add the results together. If a rule requires you to roll a D3, roll a D6 and halve the result (rounding up to a whole number) to get the D3 result, as shown below.  \n",
      "| ROLLING A D3   |           |\n",
      "|----------------|-----------|\n",
      "| DICE RESULT    | D3 RESULT |\n",
      "| or             | 1         |\n",
      "| or             | 2         |\n",
      "| or             | 3         |  \n",
      "If a rule requires a dice roll of, for example, 3 or more, this is often abbreviated to 3+. Where several consecutive dice results are relevant to a rule, these are often shown as a range (e.g. 1-3).  \n",
      "#### Re-Rolls\n",
      "----------------------------------------------------------------------------------------------------\n"
     ]
    }
   ],
   "execution_count": 208
  },
  {
   "metadata": {
    "ExecuteTime": {
     "end_time": "2024-11-27T17:44:32.402257Z",
     "start_time": "2024-11-27T17:44:32.392689Z"
    }
   },
   "cell_type": "code",
   "source": [
    "for rr_chk in reranked_chunks:\n",
    "    print(rr_chk)\n",
    "    print(rr_chk['header'])\n",
    "    break"
   ],
   "outputs": [
    {
     "name": "stdout",
     "output_type": "stream",
     "text": [
      "{'score': 15.420252591115945, 'chunk': {'header': {'header1': 'introduct', 'header2': 'strateg reserv stratagem ( pg 41-43 )'}, 'text': 'If every model in a unit is fully visible to an observing model, then that unit is fully visible to that observing model. For the purposes of determining if an enemy unit is One model in this unit is visible, meaning the unit is visible.  \\nFrom well-timed Strategic Reserves to deftly executed Stratagems, gifted generals make use of all the tactical advantages at their disposal.  \\nModel Fully Visible  \\n#### Unit It Is Observing.'}}\n"
     ]
    },
    {
     "ename": "KeyError",
     "evalue": "'header'",
     "output_type": "error",
     "traceback": [
      "\u001B[0;31m---------------------------------------------------------------------------\u001B[0m",
      "\u001B[0;31mKeyError\u001B[0m                                  Traceback (most recent call last)",
      "Cell \u001B[0;32mIn[205], line 3\u001B[0m\n\u001B[1;32m      1\u001B[0m \u001B[38;5;28;01mfor\u001B[39;00m rr_chk \u001B[38;5;129;01min\u001B[39;00m reranked_chunks:\n\u001B[1;32m      2\u001B[0m     \u001B[38;5;28mprint\u001B[39m(rr_chk)\n\u001B[0;32m----> 3\u001B[0m     \u001B[38;5;28mprint\u001B[39m(rr_chk[\u001B[38;5;124m'\u001B[39m\u001B[38;5;124mheader\u001B[39m\u001B[38;5;124m'\u001B[39m])\n\u001B[1;32m      4\u001B[0m     \u001B[38;5;28;01mbreak\u001B[39;00m\n",
      "\u001B[0;31mKeyError\u001B[0m: 'header'"
     ]
    }
   ],
   "execution_count": 205
  },
  {
   "metadata": {
    "ExecuteTime": {
     "end_time": "2024-11-26T22:11:54.289793Z",
     "start_time": "2024-11-26T22:11:54.288357Z"
    }
   },
   "cell_type": "code",
   "source": "",
   "outputs": [],
   "execution_count": null
  },
  {
   "metadata": {
    "ExecuteTime": {
     "end_time": "2024-11-26T22:11:56.530807Z",
     "start_time": "2024-11-26T22:11:56.529118Z"
    }
   },
   "cell_type": "code",
   "source": "",
   "outputs": [],
   "execution_count": null
  },
  {
   "cell_type": "code",
   "source": [
    "retrieved_chunks = retrieve(question_2, n_results=100)\n",
    "reranked_chunks = rerank_chunks(question_2, retrieved_chunks, n_results=10)\n",
    "for rr_chk in reranked_chunks:\n",
    "    print('score: {}'.format(rr_chk[0]))\n",
    "    print('header: {}'.format('#'.join(rr_chk[1]['header'].values())))\n",
    "    print('text: {}'.format(rr_chk[1]['text']))\n",
    "    print('-'*100)"
   ],
   "metadata": {
    "colab": {
     "base_uri": "https://localhost:8080/"
    },
    "collapsed": true,
    "id": "5_NX0XBbaZjy",
    "outputId": "59983d02-0a75-4085-8815-f9b07344ee75"
   },
   "execution_count": null,
   "outputs": [
    {
     "output_type": "stream",
     "name": "stdout",
     "text": [
      "score: 3.3712760371802126\n",
      "header: Core Concepts#Dice\n",
      "text: #### Re-Rolls  \n",
      "Some rules allow you to re-roll a dice roll, which means you get to roll some or all of the dice again. If a rule allows you to re-roll a dice roll that was made by adding several dice together (e.g. 2D6, 3D6, etc.) then, unless otherwise stated, you must re-roll all of those dice again. You can never re-roll a dice more than once, and re-rolls happen before modifiers (if any) are applied. Rules that refer to the value of an 'unmodified' dice roll are referring to the dice result after any re-rolls, but before any modifiers are applied.  \n",
      "- **Unmodified Dice**: the result after re-rolls, but before any modifiers.  \n",
      "- A dice can never be re-rolled more than once. - You must re-roll all dice if several need adding together\n",
      "(e.g. 2D6).  \n",
      "- Re-rolls are applied before any modifiers.  \n",
      "#### Roll-Offs\n",
      "----------------------------------------------------------------------------------------------------\n",
      "score: 3.3712760371802126\n",
      "header: Core Concepts#Dice\n",
      "text: #### Roll-Offs  \n",
      "Some rules instruct players to roll off. To do so, both players roll one D6, and whoever scores highest wins the roll-off. If there is a tie for the highest roll, roll off again. Neither player is allowed to re-roll or modify any of the D6 when making a roll-off.\n",
      "----------------------------------------------------------------------------------------------------\n",
      "score: 3.3712760371802126\n",
      "header: Core Concepts#Dice\n",
      "text: In order to fight a battle, you will require some six-sided dice (often abbreviated to D6). Some rules refer to 2D6, 3D6 and so on - in such cases, roll that many D6 and add the results together. If a rule requires you to roll a D3, roll a D6 and halve the result (rounding up to a whole number) to get the D3 result, as shown below.  \n",
      "| ROLLING A D3   |           |\n",
      "|----------------|-----------|\n",
      "| DICE RESULT    | D3 RESULT |\n",
      "| or             | 1         |\n",
      "| or             | 2         |\n",
      "| or             | 3         |  \n",
      "If a rule requires a dice roll of, for example, 3 or more, this is often abbreviated to 3+. Where several consecutive dice results are relevant to a rule, these are often shown as a range (e.g. 1-3).  \n",
      "#### Re-Rolls\n",
      "----------------------------------------------------------------------------------------------------\n",
      "score: 3.2561041017239774\n",
      "header: Stratagems\n",
      "text: BATTLE TACTIC: These Stratagems bolster a unit's efficacy in battle, boosting their attacks or defensive capabilities at a critical moment.  \n",
      "EPIC DEED: These Stratagems are used by individual models or units to perform mighty feats of heroism.  \n",
      "STRATEGIC PLOY: These Stratagems enable units to gain new strategic insights, granting them a small but valuable window of opportunity.  \n",
      "WARGEAR: These Stratagems represent the effects of using specialised items of equipment in battle.  \n",
      "#### Command Re-Roll  \n",
      "CORE - BATTLE TACTIC STRATAGEM\n",
      "A great commander can bend even the vagaries of fate and fortune to their will, the better to ensure victory.  \n",
      "1CP 2CP\n",
      "----------------------------------------------------------------------------------------------------\n",
      "score: 3.2561041017239774\n",
      "header: Stratagems\n",
      "text: Command points can be spent during the battle to use Stratagems. All players can use the Core Stratagems presented here. Additional Stratagems can be found in Codexes and other publications.  \n",
      "When you use a Stratagem, reduce your CP total by the amount listed on that Stratagem. If you do not have enough CP for a specific Stratagem, you cannot use it. You can use the same Stratagem multiple times during a battle, but you cannot use the same Stratagem more than once in the same phase.  \n",
      "- To use a Stratagem you must pay the CP specified.  \n",
      "- The same Stratagem cannot be used more than once in the same phase.  \n",
      "#### Stratagems Key  \n",
      "EITHER PLAYER'S TURN YOUR TURN OPPONENT'S TURN  \n",
      "#### Stratagem Categories  \n",
      "Each Stratagem belongs to one of four categories, as described below. There are some rules (especially in Crusade games) that interact with Stratagems of a particular category.\n",
      "----------------------------------------------------------------------------------------------------\n",
      "score: 3.2561041017239774\n",
      "header: Stratagems\n",
      "text: 1CP 2CP\n",
      "WHEN: In any phase, just after you have made a Hit roll, a Wound roll, a Damage roll, a saving throw, an Advance roll, a Charge roll, a Desperate Escape test, a Hazardous test, or just after you have rolled the dice to determine the number of attacks made with a weapon, for an attack, model or unit from your army. EFFECT: You re-roll that roll, test or saving throw.  \n",
      "#### Counter-Offensive  \n",
      "CORE - STRATEGIC PLOY STRATAGEM\n",
      "In close-quarters combat, the slightest hesitation can leave an opening for a swift foe to exploit.  \n",
      "WHEN: Fight phase, just after an enemy unit has fought. TARGET: One unit from your army that is within Engagement Range of one or more enemy units and that has not already been selected to fight this phase. EFFECT: Your unit fights next.  \n",
      "#### Epic Challenge  \n",
      "CORE - EPIC DEED STRATAGEM\n",
      "The legends of the 41st Millennium are replete with deadly duels between mighty champions.  \n",
      "1CP\n",
      "----------------------------------------------------------------------------------------------------\n",
      "score: 3.2561041017239774\n",
      "header: Stratagems\n",
      "text: RESTRICTIONS: You cannot use this Stratagem to enable a unit to arrive on the battlefield during a battle round it would not normally be able to do so in.  \n",
      "#### Fire Overwatch  \n",
      "CORE - STRATEGIC PLOY STRATAGEM\n",
      "A hail of wildfire can drive back advancing foes.  \n",
      "WHEN: Your opponent's Movement or Charge phase, just after an enemy unit is set up or when an enemy unit starts or ends a Normal, Advance, Fall Back or Charge move. TARGET: One unit from your army that is within 24\" of that enemy unit and that would be eligible to shoot if it were your Shooting phase.  \n",
      "EFFECT: Your unit can shoot that enemy unit as if it were your Shooting phase. RESTRICTIONS: Until the end of the phase, each time a model in your unit makes a ranged attack, an unmodified Hit roll of 6 is required to score a hit, irrespective of the attacking weapon's Ballistic Skill or any modifiers. You can only use this Stratagem once per turn.  \n",
      "#### Go To Ground  \n",
      "CORE - BATTLE TACTIC STRATAGEM\n",
      "1CP\n",
      "----------------------------------------------------------------------------------------------------\n",
      "score: 3.2561041017239774\n",
      "header: Stratagems\n",
      "text: CORE - WARGEAR STRATAGEM\n",
      "Priming their hand-held projectiles, these warriors draw back and hurl death into the enemy's midst.  \n",
      "1CP\n",
      "WHEN: Your Shooting phase. TARGET: One **Grenades** unit from your army that is not within Engagement Range of any enemy units and has not been selected to shoot this phase. EFFECT: Select one enemy unit that is not within Engagement Range of any units from your army and is within 8\" of and visible to your **Grenades** unit. Roll six D6: for each 4+, that enemy unit suffers 1 mortal wound.  \n",
      "#### Tank Shock  \n",
      "CORE - STRATEGIC PLOY STRATAGEM\n",
      "1CP\n",
      "Ramming the foe with a speeding vehicle may be an unsubtle tactic, but it is a murderously effective one.  \n",
      "WHEN: Your Charge phase.\n",
      "----------------------------------------------------------------------------------------------------\n",
      "score: 3.2561041017239774\n",
      "header: Stratagems\n",
      "text: WHEN: Your Charge phase.  \n",
      "TARGET: One **Vehicle** unit from your army. EFFECT: Until the end of the phase, after your unit ends a Charge move, select one enemy unit within Engagement Range of it, then select one melee weapon your unit is equipped with. Roll a number of D6 equal to that weapon's Strength characteristic. If that Strength characteristic is greater than that enemy unit's Toughness characteristic, roll two additional D6. For each 5+, that enemy unit suffers 1 mortal wound (to a maximum of 6 mortal wounds).  \n",
      "#### Rapid Ingress  \n",
      "CORE - STRATEGIC PLOY STRATAGEM\n",
      "1CP\n",
      "Be it cunning strategy, potent technology or supernatural ritual, there are many means by which a commander may hasten their warriors' onset. WHEN: End of your opponent's Movement phase. TARGET: One unit from your army that is in Reserves. EFFECT: Your unit can arrive on the battlefield as if it were the Reinforcements step of your Movement phase.\n",
      "----------------------------------------------------------------------------------------------------\n",
      "score: 3.2561041017239774\n",
      "header: Stratagems\n",
      "text: 1CP\n",
      "WHEN: Fight phase, when a **Character** unit from your army that is within Engagement Range of one or more Attached units is selected to fight.  \n",
      "TARGET: One **Character** model in your unit. EFFECT: Until the end of the phase, all melee attacks made by that model have the **[PRECISION]** ability (pg 26).  \n",
      "#### Insane Bravery  \n",
      "CORE - EPIC DEED STRATAGEM\n",
      "1CP\n",
      "Indifferent to their own survival, these warriors hold their ground against seemingly impossible odds.  \n",
      "WHEN: Battle-shock step of your Command phase, just after you have failed a Battle-shock test taken for a unit from your army (pg 11). TARGET: The unit from your army that Battle-shock test was just taken for (even though your Battle-shocked units cannot normally be affected by your Stratagems).  \n",
      "EFFECT: Your unit is treated as having passed that test instead, and is not Battle-shocked as a result.  \n",
      "1CP  \n",
      "#### Grenade  \n",
      "CORE - WARGEAR STRATAGEM\n",
      "----------------------------------------------------------------------------------------------------\n"
     ]
    }
   ]
  },
  {
   "cell_type": "code",
   "source": [
    "question_3 = 'Explain the Comand Re-roll stratagem'\n",
    "retrieved_chunks = retrieve(question_2, n_results=100)\n",
    "reranked_chunks = rerank_chunks(question_2, retrieved_chunks, n_results=10)\n",
    "for rr_chk in reranked_chunks:\n",
    "    # display reranked chunks\n",
    "    print('-'*100)"
   ],
   "metadata": {
    "id": "dT-rCxncaZgf"
   },
   "execution_count": null,
   "outputs": []
  },
  {
   "cell_type": "code",
   "source": [
    "def full_rag_gpu(question, n_results=4):\n",
    "    chunks = retrieve(question, n_results=n_results)\n",
    "    prompt = prompt_generation(question, chunks)\n",
    "    \n",
    "    out = llm_complete(prompt,if_jinja=True)\n",
    "    return out\n"
   ],
   "metadata": {
    "id": "5knCQVuudaqr"
   },
   "execution_count": null,
   "outputs": []
  },
  {
   "cell_type": "markdown",
   "source": [
    "## RAG with reranker"
   ],
   "metadata": {
    "id": "Ho5kRgfVZnn6"
   }
  },
  {
   "cell_type": "code",
   "source": [
    "def full_rag_reranker(question, n_results=5):\n",
    "    # retriever part \n",
    "    retrieved_chunks = call_retriever(question, n_results=n_results*5)\n",
    "    reranked_chunks = rerank_chunks(question, retrieved_chunks, n_results=n_results)\n",
    "    \n",
    "    # generation part \n",
    "    ## prompt preparation \n",
    "    prompt = prompt_generation(question,reranked_chunks,if_sorted=True)\n",
    "    print(prompt)\n",
    "    out = llm_complete(prompt,if_jinja=True)\n",
    "    return out\n",
    "\n",
    "\n",
    "    \n",
    "\n"
   ],
   "metadata": {
    "id": "KLjtbwIAZnHb",
    "ExecuteTime": {
     "end_time": "2024-11-27T17:47:57.089247Z",
     "start_time": "2024-11-27T17:47:57.086866Z"
    }
   },
   "outputs": [],
   "execution_count": 213
  },
  {
   "cell_type": "markdown",
   "source": [
    "Compare the generation from both pipeline (with and without reranker)\n",
    "\n",
    "What do you think ?"
   ],
   "metadata": {
    "id": "x2QWIdu4oDom"
   }
  },
  {
   "cell_type": "code",
   "source": "full_rag_reranker(question_2, n_results=5)",
   "metadata": {
    "id": "Fj24vKheqKTa",
    "ExecuteTime": {
     "end_time": "2024-11-27T17:48:01.040579Z",
     "start_time": "2024-11-27T17:47:59.841730Z"
    }
   },
   "outputs": [
    {
     "name": "stdout",
     "output_type": "stream",
     "text": [
      "\n",
      "<|begin_of_text|><|start_header_id|>system<|end_header_id|>\n",
      "you are an experienced wargame player\n",
      "Here is the relevant context:\n",
      "\n",
      "\n",
      "Section: introduct\n",
      "\n",
      "Subsection: strateg reserv stratagem ( pg 41-43 )\n",
      "\n",
      "\n",
      "Content: If every model in a unit is fully visible to an observing model, then that unit is fully visible to that observing model. For the purposes of determining if an enemy unit is One model in this unit is visible, meaning the unit is visible.  \n",
      "From well-timed Strategic Reserves to deftly executed Stratagems, gifted generals make use of all the tactical advantages at their disposal.  \n",
      "Model Fully Visible  \n",
      "#### Unit It Is Observing.\n",
      "\n",
      "\n",
      "Section: weapon abil\n",
      "\n",
      "Subsection: \n",
      "\n",
      "\n",
      "Content: 27  \n",
      "#### Hazardous  \n",
      "Weapons powered by unstable and dangerous energy sources pose a substantial risk to the wielder every time they are used. Weapons with **[HAZARDOUS]** in their profile are known as Hazardous weapons. Each time a unit is selected to shoot or fight, if one or more models attack with Hazardous weapons, then after that unit has resolved all of its attacks, you must take one Hazardous test for each Hazardous weapon that was just used by rolling one D6. For each roll of 1, that test is failed and one model in that unit equipped with a Hazardous weapon is destroyed (selected by the controlling player), unless that model is a **Character**, Monster or **Vehicle**, in which case it suffers 3 mortal wounds instead. Note that if you selected a Character model in an Attached unit, the mortal wounds suffered must be allocated to that model first, even if there is another model in that unit that has lost one or more wounds or has had attacks allocated to it this phase.\n",
      "\n",
      "\n",
      "Section: 1 2 4\n",
      "\n",
      "Subsection: 5 . inflict damag\n",
      "\n",
      "\n",
      "Content: then your opponent can make all their saving throws at the same time, and can do so as soon as the Wound rolls have been made. If they do, they then allocate the attacks that resulted in failed saving throws one at a time, inflicting the damage as appropriate even though, strictly speaking, saving throws should be made after attacks have been allocated. In any case, remember that if the target unit contains a model that has already lost any wounds or has already had attacks allocated to it this phase, the controlling player must allocate further attacks to that model until either it is destroyed, or all the attacks have been saved or resolved. If the attacks being allocated to a target inflict random damage, you cannot use the fast dice rolling approach exactly as stated above - you will need to roll the dice one at a time. Consider several attacks with a Damage characteristic of D3 being allocated to a target containing models with two wounds each. As excess damage is lost each time\n",
      "\n",
      "\n",
      "Section: datasheet\n",
      "\n",
      "Subsection: \n",
      "\n",
      "\n",
      "Content: #### 7 Wargear Options  \n",
      "Some datasheets have a bullet-pointed list of wargear options. When you include such a unit in your army, you can use these options to change the weapons and other wargear of models in the unit. The order you use these options in does not matter, but each can only be used once.  \n",
      "#### Leadership Tests  \n",
      "If a rule requires you to take a Leadership test for a unit, roll 2D6: if the total is greater than or equal to the best Leadership characteristic in that unit, that test is passed. Otherwise, it is failed.  \n",
      "#### Random Characteristics\n",
      "\n",
      "\n",
      "Section: core concept\n",
      "\n",
      "Subsection: determin visibl\n",
      "\n",
      "\n",
      "Content: In a game of Warhammer 40,000 you and your opponent will be rolling, and in some cases re-rolling, lots of dice. It is good practice to always make sure your opponent knows what you are rolling dice for, and what abilities and rules are in effect that enable you to make any re-rolls. Many gamers roll their dice somewhere on the battlefield, but some roll their dice elsewhere, such as in a dice tray. Wherever you roll your dice, make sure you roll the dice where your opponent can see the results too. If a dice is rolled out of bounds (i.e. it rolls off your battlefield, out of your dice tray or ends up on the floor), it is very common to ignore the result of that dice and roll it again. Rolling an out-of-bounds dice again doesn't count as having re-rolled that dice. If a dice does not lie flat on your battlefield after it has been thrown, it is called a cocked dice. Some players use a house rule that unless a dice is flat after it has been rolled, or unless you can balance another dice\n",
      "\n",
      "\n",
      "Section: core concept\n",
      "\n",
      "Subsection: determin visibl\n",
      "\n",
      "\n",
      "Content: you can balance another dice on top of a cocked dice without it sliding off, it must be rolled again. It is more common for players to roll the dice again only if they can't be sure of the result. In any case, rolling a cocked dice again doesn't count as having re-rolled that dice.\n",
      "\n",
      "\n",
      "Section: core concept\n",
      "\n",
      "Subsection: dice\n",
      "\n",
      "\n",
      "Content: #### Re-Rolls  \n",
      "Some rules allow you to re-roll a dice roll, which means you get to roll some or all of the dice again. If a rule allows you to re-roll a dice roll that was made by adding several dice together (e.g. 2D6, 3D6, etc.) then, unless otherwise stated, you must re-roll all of those dice again. You can never re-roll a dice more than once, and re-rolls happen before modifiers (if any) are applied. Rules that refer to the value of an 'unmodified' dice roll are referring to the dice result after any re-rolls, but before any modifiers are applied.  \n",
      "- **Unmodified Dice**: the result after re-rolls, but before any modifiers.  \n",
      "- A dice can never be re-rolled more than once. - You must re-roll all dice if several need adding together\n",
      "(e.g. 2D6).  \n",
      "- Re-rolls are applied before any modifiers.  \n",
      "#### Roll-Offs\n",
      "\n",
      "\n",
      "Section: charg phase\n",
      "\n",
      "Subsection: \n",
      "\n",
      "\n",
      "Content: - Cannot move within Engagement Range of any unit that was not a target of the charge.  \n",
      "- If the charge is successful, each model makes a Charge move less than or equal to the Charge roll, and must move into base-to-base contact with an enemy model if possible.  \n",
      "29  \n",
      "#### Charging Over Terrain  \n",
      "Unless otherwise stated, a model can be moved over a terrain feature when it makes a Charge move, but not through it. A model can be moved over terrain features that are 2\" or less in height as if they were not there. A model can be moved vertically in order to climb up, down and over any terrain features that are taller than this, counting the vertical distance up and/or down as part of its Charge move. Models cannot end a Charge move mid-climb - if it is not possible to make a Charge move as a result, the charge fails.  \n",
      "- Models can be moved freely over terrain features 2\" or less in height.  \n",
      "- Models cannot move through terrain features taller than 2\", but can climb up and down them.\n",
      "\n",
      "\n",
      "Section: stratagem\n",
      "\n",
      "Subsection: \n",
      "\n",
      "\n",
      "Content: Command points can be spent during the battle to use Stratagems. All players can use the Core Stratagems presented here. Additional Stratagems can be found in Codexes and other publications.  \n",
      "When you use a Stratagem, reduce your CP total by the amount listed on that Stratagem. If you do not have enough CP for a specific Stratagem, you cannot use it. You can use the same Stratagem multiple times during a battle, but you cannot use the same Stratagem more than once in the same phase.  \n",
      "- To use a Stratagem you must pay the CP specified.  \n",
      "- The same Stratagem cannot be used more than once in the same phase.  \n",
      "#### Stratagems Key  \n",
      "EITHER PLAYER'S TURN YOUR TURN OPPONENT'S TURN  \n",
      "#### Stratagem Categories  \n",
      "Each Stratagem belongs to one of four categories, as described below. There are some rules (especially in Crusade games) that interact with Stratagems of a particular category.\n",
      "\n",
      "\n",
      "Section: core concept\n",
      "\n",
      "Subsection: dice\n",
      "\n",
      "\n",
      "Content: In order to fight a battle, you will require some six-sided dice (often abbreviated to D6). Some rules refer to 2D6, 3D6 and so on - in such cases, roll that many D6 and add the results together. If a rule requires you to roll a D3, roll a D6 and halve the result (rounding up to a whole number) to get the D3 result, as shown below.  \n",
      "| ROLLING A D3   |           |\n",
      "|----------------|-----------|\n",
      "| DICE RESULT    | D3 RESULT |\n",
      "| or             | 1         |\n",
      "| or             | 2         |\n",
      "| or             | 3         |  \n",
      "If a rule requires a dice roll of, for example, 3 or more, this is often abbreviated to 3+. Where several consecutive dice results are relevant to a rule, these are often shown as a range (e.g. 1-3).  \n",
      "#### Re-Rolls\n",
      "\n",
      "<|eot_id|><|start_header_id|>user<|end_header_id|>\n",
      "Is there a stratagem that can be used to reroll a failed dice role?<|eot_id|><|start_header_id|>assistant<|end_header_id|>\n",
      "    \n"
     ]
    },
    {
     "data": {
      "text/plain": [
       "'In the context of the Warhammer 40,000 wargame, there is a Stratagem that can be used to reroll a failed dice roll, which is:\\n\\n**Re-roll D6 Roll**\\n\\nThis Stratagem allows you to reroll a failed D6 roll.'"
      ]
     },
     "execution_count": 214,
     "metadata": {},
     "output_type": "execute_result"
    }
   ],
   "execution_count": 214
  },
  {
   "cell_type": "code",
   "source": "",
   "metadata": {
    "id": "DD1RCnFEqKQR"
   },
   "execution_count": null,
   "outputs": []
  },
  {
   "cell_type": "code",
   "source": [],
   "metadata": {
    "id": "3no27yPqqKMG"
   },
   "execution_count": null,
   "outputs": []
  },
  {
   "cell_type": "markdown",
   "source": [
    "# Further application\n",
    "\n",
    "At this point, we created a single question/answer turn RAG. It can be usefull for some applications to allow conversations with documents. Modify the generation using [this example.](https://huggingface.co/docs/transformers/conversations)."
   ],
   "metadata": {
    "id": "M7s4lRyefmD2"
   }
  },
  {
   "cell_type": "code",
   "source": [],
   "metadata": {
    "id": "uadXkJOReTzi"
   },
   "execution_count": null,
   "outputs": []
  }
 ]
}
